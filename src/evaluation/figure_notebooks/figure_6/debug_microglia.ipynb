{
 "cells": [
  {
   "cell_type": "code",
   "execution_count": 1,
   "metadata": {},
   "outputs": [],
   "source": [
    "import pickle as pkl"
   ]
  },
  {
   "cell_type": "code",
   "execution_count": 7,
   "metadata": {},
   "outputs": [],
   "source": [
    "before = pkl.load(open(\"/mnt/lab_data2/anusri/chrombpnet/results/variant_data/microglia_caqtls/preds_fold0/preds_fold0predictions_at_snp.pkl\", \"rb\"))\n"
   ]
  },
  {
   "cell_type": "code",
   "execution_count": 24,
   "metadata": {},
   "outputs": [
    {
     "data": {
      "text/plain": [
       "array([3.567774 , 4.4844007, 4.49335  , ..., 5.3818626, 5.524482 ,\n",
       "       4.037069 ], dtype=float32)"
      ]
     },
     "execution_count": 24,
     "metadata": {},
     "output_type": "execute_result"
    }
   ],
   "source": [
    "before[\"ref_logcount_preds\"]"
   ]
  },
  {
   "cell_type": "code",
   "execution_count": 31,
   "metadata": {},
   "outputs": [
    {
     "data": {
      "text/plain": [
       "array([ 35.437622,  88.623825,  89.4205  , ..., 217.4269  , 250.75635 ,\n",
       "        56.66002 ], dtype=float32)"
      ]
     },
     "execution_count": 31,
     "metadata": {},
     "output_type": "execute_result"
    }
   ],
   "source": [
    "import numpy as np\n",
    "np.exp(before[\"ref_logcount_preds\"])"
   ]
  },
  {
   "cell_type": "code",
   "execution_count": 34,
   "metadata": {},
   "outputs": [
    {
     "data": {
      "text/plain": [
       "array(['chr2_199884842_A_G_-8.42764,Peak--100075,2.78246e-16,1.2455357872766899e-13,1,rs281785,1.29318,10.11,10.11',\n",
       "       'chr2_200357679_A_T_-4.61924,Peak--100119,9.151825e-05,0.0055224342891336,1,rs2033804,-0.396164,-3.48053,4.61828',\n",
       "       'chr2_200656659_T_C_-4.74954,Peak--100143,0.0004913505,0.0227224447069548,1,rs2287012,-0.498759,-5.07707,5.07707',\n",
       "       ...,\n",
       "       'chr2_198097199_T_C_-4.63841,Peak--99846,0.0004810067,0.0223446806742482,1,rs3771360,-0.289109,-3.13403,4.55157',\n",
       "       'chr2_198096664_T_G_4.52954,Peak--99847,0.0007980153,0.033530677224908,1,rs1946645,0.17223,3.28067,6.7752',\n",
       "       'chr1_172220623_A_C_5.03479,Peak--9990,5.341831e-06,0.000454290003413,1,rs55656112,0.926127,8.77296,8.77296'],\n",
       "      dtype='<U124')"
      ]
     },
     "execution_count": 34,
     "metadata": {},
     "output_type": "execute_result"
    }
   ],
   "source": [
    "before['rsids']"
   ]
  },
  {
   "cell_type": "code",
   "execution_count": 23,
   "metadata": {},
   "outputs": [
    {
     "data": {
      "text/plain": [
       "array([3.5463676, 4.4876785, 4.487261 , ..., 5.2702417, 5.515545 ,\n",
       "       4.153551 ], dtype=float32)"
      ]
     },
     "execution_count": 23,
     "metadata": {},
     "output_type": "execute_result"
    }
   ],
   "source": [
    "before[\"alt_logcount_preds\"]"
   ]
  },
  {
   "cell_type": "code",
   "execution_count": 14,
   "metadata": {},
   "outputs": [],
   "source": [
    "import h5py\n",
    "\n",
    "after = h5py.File(\"/mnt/lab_data2/anusri/variant-scorer/src/output/microglia_scatac/ATAC/fold_0.variant_predictions.h5\", \"r\")\n"
   ]
  },
  {
   "cell_type": "code",
   "execution_count": 16,
   "metadata": {},
   "outputs": [
    {
     "data": {
      "text/plain": [
       "<KeysViewHDF5 ['observed', 'shuffled']>"
      ]
     },
     "execution_count": 16,
     "metadata": {},
     "output_type": "execute_result"
    }
   ],
   "source": [
    "after.keys()"
   ]
  },
  {
   "cell_type": "code",
   "execution_count": 29,
   "metadata": {},
   "outputs": [
    {
     "data": {
      "text/plain": [
       "array([207.42096], dtype=float32)"
      ]
     },
     "execution_count": 29,
     "metadata": {},
     "output_type": "execute_result"
    }
   ],
   "source": [
    "after['observed']['allele1_pred_counts'][0]"
   ]
  },
  {
   "cell_type": "code",
   "execution_count": 30,
   "metadata": {},
   "outputs": [
    {
     "data": {
      "text/plain": [
       "-0.37275332900459535"
      ]
     },
     "execution_count": 30,
     "metadata": {},
     "output_type": "execute_result"
    }
   ],
   "source": [
    "np.log2(207.4209/268.57306)"
   ]
  },
  {
   "cell_type": "code",
   "execution_count": null,
   "metadata": {},
   "outputs": [],
   "source": [
    "gkm_svm = pd.read_csv(\"/mnt/lab_data3/anusri/histone_expts/all_qtl_analysis/gm12878_sequence_sets/test_set/deltasv,/41588_2015_BFng3331_MOESM26_ESM.csv\",header=0,sep=',')"
   ]
  }
 ],
 "metadata": {
  "kernelspec": {
   "display_name": "Python 3",
   "language": "python",
   "name": "python3"
  },
  "language_info": {
   "codemirror_mode": {
    "name": "ipython",
    "version": 3
   },
   "file_extension": ".py",
   "mimetype": "text/x-python",
   "name": "python",
   "nbconvert_exporter": "python",
   "pygments_lexer": "ipython3",
   "version": "3.7.6"
  }
 },
 "nbformat": 4,
 "nbformat_minor": 4
}
