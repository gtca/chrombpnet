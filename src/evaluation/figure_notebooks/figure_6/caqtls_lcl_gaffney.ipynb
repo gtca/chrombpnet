{
 "cells": [
  {
   "cell_type": "code",
   "execution_count": 1,
   "metadata": {},
   "outputs": [],
   "source": [
    "import pandas as pd"
   ]
  },
  {
   "cell_type": "code",
   "execution_count": 2,
   "metadata": {},
   "outputs": [],
   "source": [
    "qvals = pd.read_csv(\"/mnt/lab_data2/anusri/variant-scorer/src/output/caqtls_lcl/Q.val.txt\", sep=\"\\t\", header=None, names=[\"peakid\", \"qval\"])"
   ]
  },
  {
   "cell_type": "code",
   "execution_count": null,
   "metadata": {},
   "outputs": [],
   "source": []
  },
  {
   "cell_type": "code",
   "execution_count": 3,
   "metadata": {},
   "outputs": [],
   "source": [
    "data_atac = pd.read_csv(\"/mnt/lab_data2/anusri/variant-scorer/src/output/caqtls_lcl/ATAC/summary.mean.variant_scores_new.tsv\", sep=\"\\t\", header=0)\n",
    "data_atac[['Chrx', 'Posx', 'REF', 'ALT', 'Peak_id', 'obs_scores']] = data_atac['rsid'].str.split(\"_\", expand=True)\n",
    "data_atac[\"obs_scores\"] = data_atac[\"obs_scores\"].astype(float)"
   ]
  },
  {
   "cell_type": "code",
   "execution_count": 4,
   "metadata": {},
   "outputs": [],
   "source": [
    "data_dnase = pd.read_csv(\"/mnt/lab_data2/anusri/variant-scorer/src/output/caqtls_lcl/DNASE/summary.mean.variant_scores_new.tsv\", sep=\"\\t\", header=0)\n",
    "data_dnase[['Chrx', 'Posx', 'REF', 'ALT', 'Peak_id', 'obs_scores']] = data_dnase['rsid'].str.split(\"_\", expand=True)\n",
    "data_dnase[\"obs_scores\"] = data_dnase[\"obs_scores\"].astype(float)"
   ]
  },
  {
   "cell_type": "code",
   "execution_count": 5,
   "metadata": {},
   "outputs": [
    {
     "data": {
      "text/html": [
       "<div>\n",
       "<style scoped>\n",
       "    .dataframe tbody tr th:only-of-type {\n",
       "        vertical-align: middle;\n",
       "    }\n",
       "\n",
       "    .dataframe tbody tr th {\n",
       "        vertical-align: top;\n",
       "    }\n",
       "\n",
       "    .dataframe thead th {\n",
       "        text-align: right;\n",
       "    }\n",
       "</style>\n",
       "<table border=\"1\" class=\"dataframe\">\n",
       "  <thead>\n",
       "    <tr style=\"text-align: right;\">\n",
       "      <th></th>\n",
       "      <th>chr</th>\n",
       "      <th>pos</th>\n",
       "      <th>allele1</th>\n",
       "      <th>allele2</th>\n",
       "      <th>rsid</th>\n",
       "      <th>logfc.mean</th>\n",
       "      <th>abs_logfc.mean</th>\n",
       "      <th>abs_logfc.mean.pval</th>\n",
       "      <th>jsd.mean</th>\n",
       "      <th>jsd.mean.pval</th>\n",
       "      <th>...</th>\n",
       "      <th>jsd_x_max_percentile.mean</th>\n",
       "      <th>jsd_x_max_percentile.mean.pval</th>\n",
       "      <th>abs_logfc_x_jsd_x_max_percentile.mean</th>\n",
       "      <th>abs_logfc_x_jsd_x_max_percentile.mean.pval</th>\n",
       "      <th>Chrx</th>\n",
       "      <th>Posx</th>\n",
       "      <th>REF</th>\n",
       "      <th>ALT</th>\n",
       "      <th>Peak_id</th>\n",
       "      <th>obs_scores</th>\n",
       "    </tr>\n",
       "  </thead>\n",
       "  <tbody>\n",
       "    <tr>\n",
       "      <th>0</th>\n",
       "      <td>chr1</td>\n",
       "      <td>737085</td>\n",
       "      <td>C</td>\n",
       "      <td>T</td>\n",
       "      <td>chr1_737085_C_T_Peak1_0.354078</td>\n",
       "      <td>0.000142</td>\n",
       "      <td>0.007233</td>\n",
       "      <td>0.733012</td>\n",
       "      <td>0.008449</td>\n",
       "      <td>0.719859</td>\n",
       "      <td>...</td>\n",
       "      <td>0.000083</td>\n",
       "      <td>0.841927</td>\n",
       "      <td>5.572939e-07</td>\n",
       "      <td>0.856193</td>\n",
       "      <td>chr1</td>\n",
       "      <td>737085</td>\n",
       "      <td>C</td>\n",
       "      <td>T</td>\n",
       "      <td>Peak1</td>\n",
       "      <td>0.354078</td>\n",
       "    </tr>\n",
       "    <tr>\n",
       "      <th>1</th>\n",
       "      <td>chr1</td>\n",
       "      <td>943968</td>\n",
       "      <td>C</td>\n",
       "      <td>T</td>\n",
       "      <td>chr1_943968_C_T_Peak2_0.622845</td>\n",
       "      <td>-0.017014</td>\n",
       "      <td>0.017014</td>\n",
       "      <td>0.502553</td>\n",
       "      <td>0.007952</td>\n",
       "      <td>0.774001</td>\n",
       "      <td>...</td>\n",
       "      <td>0.000381</td>\n",
       "      <td>0.651133</td>\n",
       "      <td>7.187384e-06</td>\n",
       "      <td>0.589354</td>\n",
       "      <td>chr1</td>\n",
       "      <td>943968</td>\n",
       "      <td>C</td>\n",
       "      <td>T</td>\n",
       "      <td>Peak2</td>\n",
       "      <td>0.622845</td>\n",
       "    </tr>\n",
       "    <tr>\n",
       "      <th>2</th>\n",
       "      <td>chr1</td>\n",
       "      <td>903245</td>\n",
       "      <td>A</td>\n",
       "      <td>G</td>\n",
       "      <td>chr1_903245_A_G_Peak3_0.40672</td>\n",
       "      <td>0.000167</td>\n",
       "      <td>0.007436</td>\n",
       "      <td>0.720347</td>\n",
       "      <td>0.009937</td>\n",
       "      <td>0.585051</td>\n",
       "      <td>...</td>\n",
       "      <td>0.001553</td>\n",
       "      <td>0.374878</td>\n",
       "      <td>9.803388e-06</td>\n",
       "      <td>0.535688</td>\n",
       "      <td>chr1</td>\n",
       "      <td>903245</td>\n",
       "      <td>A</td>\n",
       "      <td>G</td>\n",
       "      <td>Peak3</td>\n",
       "      <td>0.406720</td>\n",
       "    </tr>\n",
       "    <tr>\n",
       "      <th>3</th>\n",
       "      <td>chr1</td>\n",
       "      <td>962891</td>\n",
       "      <td>C</td>\n",
       "      <td>T</td>\n",
       "      <td>chr1_962891_C_T_Peak4_0.353125</td>\n",
       "      <td>0.004548</td>\n",
       "      <td>0.013109</td>\n",
       "      <td>0.635580</td>\n",
       "      <td>0.012462</td>\n",
       "      <td>0.384286</td>\n",
       "      <td>...</td>\n",
       "      <td>0.001568</td>\n",
       "      <td>0.354380</td>\n",
       "      <td>2.739344e-05</td>\n",
       "      <td>0.479473</td>\n",
       "      <td>chr1</td>\n",
       "      <td>962891</td>\n",
       "      <td>C</td>\n",
       "      <td>T</td>\n",
       "      <td>Peak4</td>\n",
       "      <td>0.353125</td>\n",
       "    </tr>\n",
       "    <tr>\n",
       "      <th>4</th>\n",
       "      <td>chr1</td>\n",
       "      <td>1128331</td>\n",
       "      <td>G</td>\n",
       "      <td>T</td>\n",
       "      <td>chr1_1128331_G_T_Peak5_0.366329</td>\n",
       "      <td>0.011660</td>\n",
       "      <td>0.011660</td>\n",
       "      <td>0.614298</td>\n",
       "      <td>0.009721</td>\n",
       "      <td>0.601515</td>\n",
       "      <td>...</td>\n",
       "      <td>0.000034</td>\n",
       "      <td>0.926467</td>\n",
       "      <td>3.218158e-07</td>\n",
       "      <td>0.889515</td>\n",
       "      <td>chr1</td>\n",
       "      <td>1128331</td>\n",
       "      <td>G</td>\n",
       "      <td>T</td>\n",
       "      <td>Peak5</td>\n",
       "      <td>0.366329</td>\n",
       "    </tr>\n",
       "    <tr>\n",
       "      <th>...</th>\n",
       "      <td>...</td>\n",
       "      <td>...</td>\n",
       "      <td>...</td>\n",
       "      <td>...</td>\n",
       "      <td>...</td>\n",
       "      <td>...</td>\n",
       "      <td>...</td>\n",
       "      <td>...</td>\n",
       "      <td>...</td>\n",
       "      <td>...</td>\n",
       "      <td>...</td>\n",
       "      <td>...</td>\n",
       "      <td>...</td>\n",
       "      <td>...</td>\n",
       "      <td>...</td>\n",
       "      <td>...</td>\n",
       "      <td>...</td>\n",
       "      <td>...</td>\n",
       "      <td>...</td>\n",
       "      <td>...</td>\n",
       "      <td>...</td>\n",
       "    </tr>\n",
       "    <tr>\n",
       "      <th>107836</th>\n",
       "      <td>chr22</td>\n",
       "      <td>50888623</td>\n",
       "      <td>T</td>\n",
       "      <td>A</td>\n",
       "      <td>chr22_50888623_T_A_Peak107837_0.364291</td>\n",
       "      <td>-0.010486</td>\n",
       "      <td>0.012367</td>\n",
       "      <td>0.602716</td>\n",
       "      <td>0.009335</td>\n",
       "      <td>0.620908</td>\n",
       "      <td>...</td>\n",
       "      <td>0.002007</td>\n",
       "      <td>0.298815</td>\n",
       "      <td>2.694631e-05</td>\n",
       "      <td>0.403624</td>\n",
       "      <td>chr22</td>\n",
       "      <td>50888623</td>\n",
       "      <td>T</td>\n",
       "      <td>A</td>\n",
       "      <td>Peak107837</td>\n",
       "      <td>0.364291</td>\n",
       "    </tr>\n",
       "    <tr>\n",
       "      <th>107837</th>\n",
       "      <td>chr22</td>\n",
       "      <td>51177257</td>\n",
       "      <td>C</td>\n",
       "      <td>T</td>\n",
       "      <td>chr22_51177257_C_T_Peak107838_0.419677</td>\n",
       "      <td>0.002544</td>\n",
       "      <td>0.004343</td>\n",
       "      <td>0.848117</td>\n",
       "      <td>0.007114</td>\n",
       "      <td>0.847013</td>\n",
       "      <td>...</td>\n",
       "      <td>0.000482</td>\n",
       "      <td>0.608092</td>\n",
       "      <td>8.083460e-07</td>\n",
       "      <td>0.829284</td>\n",
       "      <td>chr22</td>\n",
       "      <td>51177257</td>\n",
       "      <td>C</td>\n",
       "      <td>T</td>\n",
       "      <td>Peak107838</td>\n",
       "      <td>0.419677</td>\n",
       "    </tr>\n",
       "    <tr>\n",
       "      <th>107838</th>\n",
       "      <td>chr22</td>\n",
       "      <td>50594835</td>\n",
       "      <td>A</td>\n",
       "      <td>G</td>\n",
       "      <td>chr22_50594835_A_G_Peak107839_0.619781</td>\n",
       "      <td>0.009103</td>\n",
       "      <td>0.010954</td>\n",
       "      <td>0.627138</td>\n",
       "      <td>0.006453</td>\n",
       "      <td>0.918352</td>\n",
       "      <td>...</td>\n",
       "      <td>0.000684</td>\n",
       "      <td>0.516497</td>\n",
       "      <td>8.223820e-06</td>\n",
       "      <td>0.560449</td>\n",
       "      <td>chr22</td>\n",
       "      <td>50594835</td>\n",
       "      <td>A</td>\n",
       "      <td>G</td>\n",
       "      <td>Peak107839</td>\n",
       "      <td>0.619781</td>\n",
       "    </tr>\n",
       "    <tr>\n",
       "      <th>107839</th>\n",
       "      <td>chr22</td>\n",
       "      <td>50353917</td>\n",
       "      <td>C</td>\n",
       "      <td>G</td>\n",
       "      <td>chr22_50353917_C_G_Peak107840_0.385831</td>\n",
       "      <td>-0.010752</td>\n",
       "      <td>0.019599</td>\n",
       "      <td>0.488854</td>\n",
       "      <td>0.014500</td>\n",
       "      <td>0.283594</td>\n",
       "      <td>...</td>\n",
       "      <td>0.013751</td>\n",
       "      <td>0.026802</td>\n",
       "      <td>3.010006e-04</td>\n",
       "      <td>0.129143</td>\n",
       "      <td>chr22</td>\n",
       "      <td>50353917</td>\n",
       "      <td>C</td>\n",
       "      <td>G</td>\n",
       "      <td>Peak107840</td>\n",
       "      <td>0.385831</td>\n",
       "    </tr>\n",
       "    <tr>\n",
       "      <th>107840</th>\n",
       "      <td>chr22</td>\n",
       "      <td>51129324</td>\n",
       "      <td>T</td>\n",
       "      <td>C</td>\n",
       "      <td>chr22_51129324_T_C_Peak107841_0.373622</td>\n",
       "      <td>0.017066</td>\n",
       "      <td>0.017213</td>\n",
       "      <td>0.488194</td>\n",
       "      <td>0.008121</td>\n",
       "      <td>0.755008</td>\n",
       "      <td>...</td>\n",
       "      <td>0.000059</td>\n",
       "      <td>0.881843</td>\n",
       "      <td>1.114526e-06</td>\n",
       "      <td>0.824567</td>\n",
       "      <td>chr22</td>\n",
       "      <td>51129324</td>\n",
       "      <td>T</td>\n",
       "      <td>C</td>\n",
       "      <td>Peak107841</td>\n",
       "      <td>0.373622</td>\n",
       "    </tr>\n",
       "  </tbody>\n",
       "</table>\n",
       "<p>107841 rows × 26 columns</p>\n",
       "</div>"
      ],
      "text/plain": [
       "          chr       pos allele1 allele2  \\\n",
       "0        chr1    737085       C       T   \n",
       "1        chr1    943968       C       T   \n",
       "2        chr1    903245       A       G   \n",
       "3        chr1    962891       C       T   \n",
       "4        chr1   1128331       G       T   \n",
       "...       ...       ...     ...     ...   \n",
       "107836  chr22  50888623       T       A   \n",
       "107837  chr22  51177257       C       T   \n",
       "107838  chr22  50594835       A       G   \n",
       "107839  chr22  50353917       C       G   \n",
       "107840  chr22  51129324       T       C   \n",
       "\n",
       "                                          rsid  logfc.mean  abs_logfc.mean  \\\n",
       "0               chr1_737085_C_T_Peak1_0.354078    0.000142        0.007233   \n",
       "1               chr1_943968_C_T_Peak2_0.622845   -0.017014        0.017014   \n",
       "2                chr1_903245_A_G_Peak3_0.40672    0.000167        0.007436   \n",
       "3               chr1_962891_C_T_Peak4_0.353125    0.004548        0.013109   \n",
       "4              chr1_1128331_G_T_Peak5_0.366329    0.011660        0.011660   \n",
       "...                                        ...         ...             ...   \n",
       "107836  chr22_50888623_T_A_Peak107837_0.364291   -0.010486        0.012367   \n",
       "107837  chr22_51177257_C_T_Peak107838_0.419677    0.002544        0.004343   \n",
       "107838  chr22_50594835_A_G_Peak107839_0.619781    0.009103        0.010954   \n",
       "107839  chr22_50353917_C_G_Peak107840_0.385831   -0.010752        0.019599   \n",
       "107840  chr22_51129324_T_C_Peak107841_0.373622    0.017066        0.017213   \n",
       "\n",
       "        abs_logfc.mean.pval  jsd.mean  jsd.mean.pval  ...  \\\n",
       "0                  0.733012  0.008449       0.719859  ...   \n",
       "1                  0.502553  0.007952       0.774001  ...   \n",
       "2                  0.720347  0.009937       0.585051  ...   \n",
       "3                  0.635580  0.012462       0.384286  ...   \n",
       "4                  0.614298  0.009721       0.601515  ...   \n",
       "...                     ...       ...            ...  ...   \n",
       "107836             0.602716  0.009335       0.620908  ...   \n",
       "107837             0.848117  0.007114       0.847013  ...   \n",
       "107838             0.627138  0.006453       0.918352  ...   \n",
       "107839             0.488854  0.014500       0.283594  ...   \n",
       "107840             0.488194  0.008121       0.755008  ...   \n",
       "\n",
       "        jsd_x_max_percentile.mean  jsd_x_max_percentile.mean.pval  \\\n",
       "0                        0.000083                        0.841927   \n",
       "1                        0.000381                        0.651133   \n",
       "2                        0.001553                        0.374878   \n",
       "3                        0.001568                        0.354380   \n",
       "4                        0.000034                        0.926467   \n",
       "...                           ...                             ...   \n",
       "107836                   0.002007                        0.298815   \n",
       "107837                   0.000482                        0.608092   \n",
       "107838                   0.000684                        0.516497   \n",
       "107839                   0.013751                        0.026802   \n",
       "107840                   0.000059                        0.881843   \n",
       "\n",
       "        abs_logfc_x_jsd_x_max_percentile.mean  \\\n",
       "0                                5.572939e-07   \n",
       "1                                7.187384e-06   \n",
       "2                                9.803388e-06   \n",
       "3                                2.739344e-05   \n",
       "4                                3.218158e-07   \n",
       "...                                       ...   \n",
       "107836                           2.694631e-05   \n",
       "107837                           8.083460e-07   \n",
       "107838                           8.223820e-06   \n",
       "107839                           3.010006e-04   \n",
       "107840                           1.114526e-06   \n",
       "\n",
       "        abs_logfc_x_jsd_x_max_percentile.mean.pval   Chrx      Posx  REF  ALT  \\\n",
       "0                                         0.856193   chr1    737085    C    T   \n",
       "1                                         0.589354   chr1    943968    C    T   \n",
       "2                                         0.535688   chr1    903245    A    G   \n",
       "3                                         0.479473   chr1    962891    C    T   \n",
       "4                                         0.889515   chr1   1128331    G    T   \n",
       "...                                            ...    ...       ...  ...  ...   \n",
       "107836                                    0.403624  chr22  50888623    T    A   \n",
       "107837                                    0.829284  chr22  51177257    C    T   \n",
       "107838                                    0.560449  chr22  50594835    A    G   \n",
       "107839                                    0.129143  chr22  50353917    C    G   \n",
       "107840                                    0.824567  chr22  51129324    T    C   \n",
       "\n",
       "           Peak_id  obs_scores  \n",
       "0            Peak1    0.354078  \n",
       "1            Peak2    0.622845  \n",
       "2            Peak3    0.406720  \n",
       "3            Peak4    0.353125  \n",
       "4            Peak5    0.366329  \n",
       "...            ...         ...  \n",
       "107836  Peak107837    0.364291  \n",
       "107837  Peak107838    0.419677  \n",
       "107838  Peak107839    0.619781  \n",
       "107839  Peak107840    0.385831  \n",
       "107840  Peak107841    0.373622  \n",
       "\n",
       "[107841 rows x 26 columns]"
      ]
     },
     "execution_count": 5,
     "metadata": {},
     "output_type": "execute_result"
    }
   ],
   "source": [
    "data_dnase"
   ]
  },
  {
   "cell_type": "code",
   "execution_count": 6,
   "metadata": {},
   "outputs": [],
   "source": [
    "sig_peaks = open(\"/mnt/lab_data2/anusri/variant-scorer/src/output/caqtls_lcl/pid.fdr10.txt\").readlines()\n",
    "sig_peaks_ids = [line.strip() for line in sig_peaks]\n",
    "sig_peaks_ids = qvals[qvals[\"qval\"]<0.1][\"peakid\"].values"
   ]
  },
  {
   "cell_type": "code",
   "execution_count": 7,
   "metadata": {},
   "outputs": [],
   "source": [
    "data_dnase_sig = data_dnase[data_dnase[\"Peak_id\"].isin(sig_peaks_ids)].drop_duplicates()\n",
    "data_atac_sig = data_atac[data_atac[\"Peak_id\"].isin(sig_peaks_ids)].drop_duplicates()\n",
    "#data_dnase_sig = data_dnase_sig[data_dnase_sig[\"peak_overlap\"]]\n",
    "#data_atac_sig = data_atac_sig[data_atac_sig[\"peak_overlap\"]]"
   ]
  },
  {
   "cell_type": "code",
   "execution_count": 8,
   "metadata": {},
   "outputs": [
    {
     "name": "stdout",
     "output_type": "stream",
     "text": [
      "2707\n"
     ]
    }
   ],
   "source": [
    "print(len(sig_peaks_ids))"
   ]
  },
  {
   "cell_type": "code",
   "execution_count": 9,
   "metadata": {},
   "outputs": [
    {
     "data": {
      "text/plain": [
       "(2707, 26)"
      ]
     },
     "execution_count": 9,
     "metadata": {},
     "output_type": "execute_result"
    }
   ],
   "source": [
    "data_dnase_sig.shape\n"
   ]
  },
  {
   "cell_type": "code",
   "execution_count": 10,
   "metadata": {},
   "outputs": [],
   "source": [
    "import matplotlib.pyplot as plt"
   ]
  },
  {
   "cell_type": "code",
   "execution_count": null,
   "metadata": {},
   "outputs": [],
   "source": []
  },
  {
   "cell_type": "code",
   "execution_count": 11,
   "metadata": {},
   "outputs": [
    {
     "data": {
      "text/plain": [
       "Index(['chr', 'pos', 'allele1', 'allele2', 'rsid', 'logfc.mean',\n",
       "       'abs_logfc.mean', 'abs_logfc.mean.pval', 'jsd.mean', 'jsd.mean.pval',\n",
       "       'logfc_x_jsd.mean', 'abs_logfc_x_jsd.mean', 'abs_logfc_x_jsd.mean.pval',\n",
       "       'logfc_x_max_percentile.mean', 'abs_logfc_x_max_percentile.mean',\n",
       "       'abs_logfc_x_max_percentile.mean.pval', 'jsd_x_max_percentile.mean',\n",
       "       'jsd_x_max_percentile.mean.pval',\n",
       "       'abs_logfc_x_jsd_x_max_percentile.mean',\n",
       "       'abs_logfc_x_jsd_x_max_percentile.mean.pval', 'Chrx', 'Posx', 'REF',\n",
       "       'ALT', 'Peak_id', 'obs_scores'],\n",
       "      dtype='object')"
      ]
     },
     "execution_count": 11,
     "metadata": {},
     "output_type": "execute_result"
    }
   ],
   "source": [
    "data_atac_sig.columns                                                                                                                          "
   ]
  },
  {
   "cell_type": "code",
   "execution_count": 14,
   "metadata": {},
   "outputs": [],
   "source": [
    "import numpy as np\n",
    "data_atac_sig[\"jsd_sign.mean\"] = data_atac_sig[\"jsd.mean\"]*np.sign(data_atac_sig[\"logfc.mean\"])\n",
    "       "
   ]
  },
  {
   "cell_type": "code",
   "execution_count": 12,
   "metadata": {},
   "outputs": [
    {
     "data": {
      "text/plain": [
       "<matplotlib.collections.PathCollection at 0x7f5a7f5a81d0>"
      ]
     },
     "execution_count": 12,
     "metadata": {},
     "output_type": "execute_result"
    },
    {
     "data": {
      "image/png": "[encoded data removed]",
      "text/plain": [
       "<Figure size 432x288 with 1 Axes>"
      ]
     },
     "metadata": {
      "needs_background": "light"
     },
     "output_type": "display_data"
    }
   ],
   "source": [
    "plt.scatter(data_atac_sig[\"logfc_x_jsd.mean\"], data_atac_sig[\"obs_scores\"], alpha=0.5)"
   ]
  },
  {
   "cell_type": "code",
   "execution_count": 25,
   "metadata": {},
   "outputs": [
    {
     "data": {
      "text/plain": [
       "<matplotlib.collections.PathCollection at 0x7f5a82f98f50>"
      ]
     },
     "execution_count": 25,
     "metadata": {},
     "output_type": "execute_result"
    },
    {
     "data": {
      "image/png": "[encoded data removed]",
      "text/plain": [
       "<Figure size 432x288 with 1 Axes>"
      ]
     },
     "metadata": {
      "needs_background": "light"
     },
     "output_type": "display_data"
    }
   ],
   "source": [
    "plt.scatter(data_atac_sig[\"jsd_sign.mean\"], data_atac_sig[\"obs_scores\"], alpha=0.1)"
   ]
  },
  {
   "cell_type": "code",
   "execution_count": 17,
   "metadata": {},
   "outputs": [
    {
     "name": "stdout",
     "output_type": "stream",
     "text": [
      "(-0.03014559908424015, 0.11686422647093589)\n"
     ]
    }
   ],
   "source": [
    "import scipy.stats\n",
    "\n",
    "print(scipy.stats.pearsonr(data_atac_sig['obs_scores'],data_atac_sig['abs_logfc_x_jsd_x_max_percentile.mean']))"
   ]
  },
  {
   "cell_type": "code",
   "execution_count": 18,
   "metadata": {},
   "outputs": [
    {
     "name": "stdout",
     "output_type": "stream",
     "text": [
      "(0.2811877545943154, 2.257738745972026e-50)\n"
     ]
    }
   ],
   "source": [
    "print(scipy.stats.pearsonr(data_atac_sig['obs_scores'],data_atac_sig['logfc_x_jsd.mean']))\n"
   ]
  },
  {
   "cell_type": "code",
   "execution_count": 24,
   "metadata": {},
   "outputs": [
    {
     "name": "stdout",
     "output_type": "stream",
     "text": [
      "(0.3730024279092575, 4.126979535936469e-90)\n"
     ]
    }
   ],
   "source": [
    "import scipy.stats\n",
    "\n",
    "print(scipy.stats.pearsonr(data_atac_sig['obs_scores'],data_atac_sig['jsd_sign.mean']))"
   ]
  },
  {
   "cell_type": "code",
   "execution_count": null,
   "metadata": {},
   "outputs": [],
   "source": []
  },
  {
   "cell_type": "code",
   "execution_count": 23,
   "metadata": {},
   "outputs": [],
   "source": [
    "#print(scipy.stats.pearsonr(data_atac_sig[data_atac_sig[\"peak_overlap\"]]['obs_scores'],data_atac_sig[data_atac_sig[\"peak_overlap\"]]['logfc_x_jsd_x_max_percentile.mean']))\n",
    "\n"
   ]
  },
  {
   "cell_type": "code",
   "execution_count": 20,
   "metadata": {},
   "outputs": [],
   "source": [
    "#print(scipy.stats.pearsonr(data_atac_sig[data_atac_sig[\"peak_overlap\"]]['obs_scores'],data_atac_sig[data_atac_sig[\"peak_overlap\"]]['jsd_sign.mean']))\n"
   ]
  },
  {
   "cell_type": "code",
   "execution_count": 21,
   "metadata": {},
   "outputs": [],
   "source": [
    "#plt.scatter(data_atac_sig[data_atac_sig[\"peak_overlap\"]][\"logfc_x_jsd_x_max_percentile.mean\"], data_atac_sig[data_atac_sig[\"peak_overlap\"]][\"obs_scores\"]-0.5, alpha=0.5)"
   ]
  },
  {
   "cell_type": "code",
   "execution_count": 22,
   "metadata": {},
   "outputs": [],
   "source": [
    "#plt.scatter(data_atac_sig[data_atac_sig[\"peak_overlap\"]][\"jsd_sign.mean\"], data_atac_sig[data_atac_sig[\"peak_overlap\"]][\"obs_scores\"]-0.5, alpha=0.5)\n",
    "\n"
   ]
  },
  {
   "cell_type": "code",
   "execution_count": 24,
   "metadata": {},
   "outputs": [
    {
     "data": {
      "text/plain": [
       "156"
      ]
     },
     "execution_count": 24,
     "metadata": {},
     "output_type": "execute_result"
    }
   ],
   "source": []
  },
  {
   "cell_type": "code",
   "execution_count": 94,
   "metadata": {},
   "outputs": [],
   "source": [
    "data_atac_sig = data_atac[data_atac[\"Peak_id\"].isin(sig_peaks_ids)].drop_duplicates()\n",
    "data_atac_nonsig = data_atac[~data_atac[\"Peak_id\"].isin(sig_peaks_ids)].drop_duplicates()\n",
    "data_atac_sig[\"obs_scores\"] = data_atac_sig[\"obs_scores\"].astype(float)\n",
    "data_atac_nonsig[\"obs_scores\"] = data_atac_nonsig[\"obs_scores\"].astype(float)"
   ]
  },
  {
   "cell_type": "code",
   "execution_count": 95,
   "metadata": {},
   "outputs": [
    {
     "name": "stdout",
     "output_type": "stream",
     "text": [
      "0.4763933590690797\n",
      "0.4718914237544454\n"
     ]
    }
   ],
   "source": [
    "print(np.mean(data_atac_sig['obs_scores']))\n",
    "print(np.mean(data_atac_nonsig['obs_scores']))\n"
   ]
  },
  {
   "cell_type": "code",
   "execution_count": 96,
   "metadata": {},
   "outputs": [
    {
     "data": {
      "text/plain": [
       "<matplotlib.legend.Legend at 0x7f5510a95e50>"
      ]
     },
     "execution_count": 96,
     "metadata": {},
     "output_type": "execute_result"
    },
    {
     "data": {
      "image/png": "[encoded data removed]",
      "text/plain": [
       "<Figure size 432x288 with 1 Axes>"
      ]
     },
     "metadata": {
      "needs_background": "light"
     },
     "output_type": "display_data"
    }
   ],
   "source": [
    "plt.hist(data_atac_sig['obs_scores'], density=True, alpha=0.5, label=\"sig\")\n",
    "plt.hist(data_atac_nonsig['obs_scores'],density=True, alpha=0.5, label=\"non-sig\")\n",
    "plt.legend()"
   ]
  },
  {
   "cell_type": "code",
   "execution_count": null,
   "metadata": {},
   "outputs": [],
   "source": []
  }
 ],
 "metadata": {
  "kernelspec": {
   "display_name": "Python 3",
   "language": "python",
   "name": "python3"
  },
  "language_info": {
   "codemirror_mode": {
    "name": "ipython",
    "version": 3
   },
   "file_extension": ".py",
   "mimetype": "text/x-python",
   "name": "python",
   "nbconvert_exporter": "python",
   "pygments_lexer": "ipython3",
   "version": "3.7.6"
  }
 },
 "nbformat": 4,
 "nbformat_minor": 4
}
