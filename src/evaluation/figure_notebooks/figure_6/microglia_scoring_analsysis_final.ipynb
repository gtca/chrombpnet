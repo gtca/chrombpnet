{
 "cells": [
  {
   "cell_type": "code",
   "execution_count": 1,
   "metadata": {},
   "outputs": [],
   "source": [
    "import pandas as pd"
   ]
  },
  {
   "cell_type": "code",
   "execution_count": 2,
   "metadata": {},
   "outputs": [],
   "source": [
    "data = pd.read_csv(\"/mnt/lab_data2/anusri/variant-scorer/src/output/microglia_scatac/ATAC/summary.mean.variant_scores_new.tsv\", sep=\"\\t\")\n"
   ]
  },
  {
   "cell_type": "code",
   "execution_count": 3,
   "metadata": {},
   "outputs": [],
   "source": [
    "cols = [\"Z_score_perPeak\", \"PeakID\",  \"pVal_perPeak\" , \"FDR_acrossAllPeaks\" , \"caQTL_order\" ,  \"Variant\", \"Beta\",  \"Z_score_fixed\" , \"Z_score_random\"]\n",
    "meta_data = pd.read_csv(\"/mnt/lab_data2/anusri/chrombpnet/results/variant_data/microglia_caqtls/Rousonly_sig.tsv\", sep=\"\\t\", header=None)\n",
    "meta_data[cols] = meta_data[4].str.split(\",\", expand=True)\n",
    "meta_data[1] = meta_data[1] + 1\n"
   ]
  },
  {
   "cell_type": "code",
   "execution_count": 4,
   "metadata": {},
   "outputs": [
    {
     "data": {
      "text/plain": [
       "(4845, 14)"
      ]
     },
     "execution_count": 4,
     "metadata": {},
     "output_type": "execute_result"
    }
   ],
   "source": [
    "meta_data.shape"
   ]
  },
  {
   "cell_type": "code",
   "execution_count": 5,
   "metadata": {},
   "outputs": [
    {
     "data": {
      "text/plain": [
       "(4845, 23)"
      ]
     },
     "execution_count": 5,
     "metadata": {},
     "output_type": "execute_result"
    }
   ],
   "source": [
    "data.shape"
   ]
  },
  {
   "cell_type": "code",
   "execution_count": 6,
   "metadata": {},
   "outputs": [
    {
     "data": {
      "text/html": [
       "<div>\n",
       "<style scoped>\n",
       "    .dataframe tbody tr th:only-of-type {\n",
       "        vertical-align: middle;\n",
       "    }\n",
       "\n",
       "    .dataframe tbody tr th {\n",
       "        vertical-align: top;\n",
       "    }\n",
       "\n",
       "    .dataframe thead th {\n",
       "        text-align: right;\n",
       "    }\n",
       "</style>\n",
       "<table border=\"1\" class=\"dataframe\">\n",
       "  <thead>\n",
       "    <tr style=\"text-align: right;\">\n",
       "      <th></th>\n",
       "      <th>chr</th>\n",
       "      <th>pos</th>\n",
       "      <th>allele1</th>\n",
       "      <th>allele2</th>\n",
       "      <th>rsid</th>\n",
       "      <th>logfc.mean</th>\n",
       "      <th>abs_logfc.mean</th>\n",
       "      <th>abs_logfc.mean.pval</th>\n",
       "      <th>jsd.mean</th>\n",
       "      <th>jsd.mean.pval</th>\n",
       "      <th>...</th>\n",
       "      <th>max_percentile.mean</th>\n",
       "      <th>max_percentile.mean.pval</th>\n",
       "      <th>logfc_x_max_percentile.mean</th>\n",
       "      <th>abs_logfc_x_max_percentile.mean</th>\n",
       "      <th>abs_logfc_x_max_percentile.mean.pval</th>\n",
       "      <th>jsd_x_max_percentile.mean</th>\n",
       "      <th>jsd_x_max_percentile.mean.pval</th>\n",
       "      <th>abs_logfc_x_jsd_x_max_percentile.mean</th>\n",
       "      <th>abs_logfc_x_jsd_x_max_percentile.mean.pval</th>\n",
       "      <th>logfc_x_jsd_x_max_percentile.mean</th>\n",
       "    </tr>\n",
       "  </thead>\n",
       "  <tbody>\n",
       "    <tr>\n",
       "      <th>0</th>\n",
       "      <td>chr2</td>\n",
       "      <td>199884843</td>\n",
       "      <td>A</td>\n",
       "      <td>G</td>\n",
       "      <td>chr2_199884843_A_G</td>\n",
       "      <td>-0.032774</td>\n",
       "      <td>0.032774</td>\n",
       "      <td>0.332132</td>\n",
       "      <td>0.016354</td>\n",
       "      <td>0.086955</td>\n",
       "      <td>...</td>\n",
       "      <td>0.001383</td>\n",
       "      <td>0.946404</td>\n",
       "      <td>-0.000056</td>\n",
       "      <td>0.000056</td>\n",
       "      <td>0.776187</td>\n",
       "      <td>0.000023</td>\n",
       "      <td>0.849053</td>\n",
       "      <td>0.000001</td>\n",
       "      <td>0.649606</td>\n",
       "      <td>-0.000001</td>\n",
       "    </tr>\n",
       "  </tbody>\n",
       "</table>\n",
       "<p>1 rows × 23 columns</p>\n",
       "</div>"
      ],
      "text/plain": [
       "    chr        pos allele1 allele2                rsid  logfc.mean  \\\n",
       "0  chr2  199884843       A       G  chr2_199884843_A_G   -0.032774   \n",
       "\n",
       "   abs_logfc.mean  abs_logfc.mean.pval  jsd.mean  jsd.mean.pval  ...  \\\n",
       "0        0.032774             0.332132  0.016354       0.086955  ...   \n",
       "\n",
       "   max_percentile.mean  max_percentile.mean.pval  logfc_x_max_percentile.mean  \\\n",
       "0             0.001383                  0.946404                    -0.000056   \n",
       "\n",
       "   abs_logfc_x_max_percentile.mean  abs_logfc_x_max_percentile.mean.pval  \\\n",
       "0                         0.000056                              0.776187   \n",
       "\n",
       "   jsd_x_max_percentile.mean  jsd_x_max_percentile.mean.pval  \\\n",
       "0                   0.000023                        0.849053   \n",
       "\n",
       "   abs_logfc_x_jsd_x_max_percentile.mean  \\\n",
       "0                               0.000001   \n",
       "\n",
       "   abs_logfc_x_jsd_x_max_percentile.mean.pval  \\\n",
       "0                                    0.649606   \n",
       "\n",
       "   logfc_x_jsd_x_max_percentile.mean  \n",
       "0                          -0.000001  \n",
       "\n",
       "[1 rows x 23 columns]"
      ]
     },
     "execution_count": 6,
     "metadata": {},
     "output_type": "execute_result"
    }
   ],
   "source": [
    "data.head(1)"
   ]
  },
  {
   "cell_type": "code",
   "execution_count": 7,
   "metadata": {},
   "outputs": [
    {
     "data": {
      "text/html": [
       "<div>\n",
       "<style scoped>\n",
       "    .dataframe tbody tr th:only-of-type {\n",
       "        vertical-align: middle;\n",
       "    }\n",
       "\n",
       "    .dataframe tbody tr th {\n",
       "        vertical-align: top;\n",
       "    }\n",
       "\n",
       "    .dataframe thead th {\n",
       "        text-align: right;\n",
       "    }\n",
       "</style>\n",
       "<table border=\"1\" class=\"dataframe\">\n",
       "  <thead>\n",
       "    <tr style=\"text-align: right;\">\n",
       "      <th></th>\n",
       "      <th>0</th>\n",
       "      <th>1</th>\n",
       "      <th>2</th>\n",
       "      <th>3</th>\n",
       "      <th>4</th>\n",
       "      <th>Z_score_perPeak</th>\n",
       "      <th>PeakID</th>\n",
       "      <th>pVal_perPeak</th>\n",
       "      <th>FDR_acrossAllPeaks</th>\n",
       "      <th>caQTL_order</th>\n",
       "      <th>Variant</th>\n",
       "      <th>Beta</th>\n",
       "      <th>Z_score_fixed</th>\n",
       "      <th>Z_score_random</th>\n",
       "    </tr>\n",
       "  </thead>\n",
       "  <tbody>\n",
       "    <tr>\n",
       "      <th>0</th>\n",
       "      <td>chr2</td>\n",
       "      <td>199884843</td>\n",
       "      <td>A</td>\n",
       "      <td>G</td>\n",
       "      <td>-8.42764,Peak--100075,2.78246e-16,1.2455357872...</td>\n",
       "      <td>-8.42764</td>\n",
       "      <td>Peak--100075</td>\n",
       "      <td>2.78246e-16</td>\n",
       "      <td>1.2455357872766899e-13</td>\n",
       "      <td>1</td>\n",
       "      <td>rs281785</td>\n",
       "      <td>1.29318</td>\n",
       "      <td>10.11</td>\n",
       "      <td>10.11</td>\n",
       "    </tr>\n",
       "  </tbody>\n",
       "</table>\n",
       "</div>"
      ],
      "text/plain": [
       "      0          1  2  3                                                  4  \\\n",
       "0  chr2  199884843  A  G  -8.42764,Peak--100075,2.78246e-16,1.2455357872...   \n",
       "\n",
       "  Z_score_perPeak        PeakID pVal_perPeak      FDR_acrossAllPeaks  \\\n",
       "0        -8.42764  Peak--100075  2.78246e-16  1.2455357872766899e-13   \n",
       "\n",
       "  caQTL_order   Variant     Beta Z_score_fixed Z_score_random  \n",
       "0           1  rs281785  1.29318         10.11          10.11  "
      ]
     },
     "execution_count": 7,
     "metadata": {},
     "output_type": "execute_result"
    }
   ],
   "source": [
    "meta_data.head(1)"
   ]
  },
  {
   "cell_type": "code",
   "execution_count": 8,
   "metadata": {},
   "outputs": [],
   "source": [
    "new_data = data.merge(meta_data, left_on=[\"chr\", \"pos\", \"allele1\", \"allele2\"], right_on=[0,1,2,3]).drop_duplicates()"
   ]
  },
  {
   "cell_type": "code",
   "execution_count": 9,
   "metadata": {},
   "outputs": [
    {
     "data": {
      "text/plain": [
       "(4845, 37)"
      ]
     },
     "execution_count": 9,
     "metadata": {},
     "output_type": "execute_result"
    }
   ],
   "source": [
    "new_data.shape"
   ]
  },
  {
   "cell_type": "code",
   "execution_count": 10,
   "metadata": {},
   "outputs": [
    {
     "data": {
      "text/plain": [
       "Index([                                       'chr',\n",
       "                                              'pos',\n",
       "                                          'allele1',\n",
       "                                          'allele2',\n",
       "                                             'rsid',\n",
       "                                       'logfc.mean',\n",
       "                                   'abs_logfc.mean',\n",
       "                              'abs_logfc.mean.pval',\n",
       "                                         'jsd.mean',\n",
       "                                    'jsd.mean.pval',\n",
       "                                 'logfc_x_jsd.mean',\n",
       "                             'abs_logfc_x_jsd.mean',\n",
       "                        'abs_logfc_x_jsd.mean.pval',\n",
       "                              'max_percentile.mean',\n",
       "                         'max_percentile.mean.pval',\n",
       "                      'logfc_x_max_percentile.mean',\n",
       "                  'abs_logfc_x_max_percentile.mean',\n",
       "             'abs_logfc_x_max_percentile.mean.pval',\n",
       "                        'jsd_x_max_percentile.mean',\n",
       "                   'jsd_x_max_percentile.mean.pval',\n",
       "            'abs_logfc_x_jsd_x_max_percentile.mean',\n",
       "       'abs_logfc_x_jsd_x_max_percentile.mean.pval',\n",
       "                'logfc_x_jsd_x_max_percentile.mean',\n",
       "                                                  0,\n",
       "                                                  1,\n",
       "                                                  2,\n",
       "                                                  3,\n",
       "                                                  4,\n",
       "                                  'Z_score_perPeak',\n",
       "                                           'PeakID',\n",
       "                                     'pVal_perPeak',\n",
       "                               'FDR_acrossAllPeaks',\n",
       "                                      'caQTL_order',\n",
       "                                          'Variant',\n",
       "                                             'Beta',\n",
       "                                    'Z_score_fixed',\n",
       "                                   'Z_score_random'],\n",
       "      dtype='object')"
      ]
     },
     "execution_count": 10,
     "metadata": {},
     "output_type": "execute_result"
    }
   ],
   "source": [
    "new_data.columns"
   ]
  },
  {
   "cell_type": "code",
   "execution_count": 11,
   "metadata": {},
   "outputs": [],
   "source": [
    "import numpy as np\n",
    "new_data[\"jsd_sign\"] = new_data[\"jsd.mean\"]*np.sign(new_data[\"logfc.mean\"])"
   ]
  },
  {
   "cell_type": "code",
   "execution_count": 12,
   "metadata": {},
   "outputs": [
    {
     "data": {
      "text/plain": [
       "Text(0.5, 1.0, 'Pearsonr = 0.19')"
      ]
     },
     "execution_count": 12,
     "metadata": {},
     "output_type": "execute_result"
    },
    {
     "data": {
      "image/png": "[encoded data removed]",
      "text/plain": [
       "<Figure size 432x288 with 1 Axes>"
      ]
     },
     "metadata": {
      "needs_background": "light"
     },
     "output_type": "display_data"
    }
   ],
   "source": [
    "import numpy as np\n",
    "import matplotlib.pyplot as plt\n",
    "from scipy.stats import pearsonr\n",
    "plt.scatter(new_data[\"jsd_sign\"], new_data[\"Z_score_fixed\"].astype(float), s=1, c=\"b\", label=\"sig\")\n",
    "\n",
    "\n",
    "plt.xlabel(\"ChromBPNet Predicted Effect sizes\")\n",
    "plt.ylabel(\"Effect sizes\")\n",
    "plt.legend()\n",
    "plt.title(\"Pearsonr = \"+str(np.round(pearsonr(new_data[\"jsd_sign\"], new_data[\"Z_score_fixed\"].astype(float))[0],2)))\n"
   ]
  },
  {
   "cell_type": "code",
   "execution_count": 13,
   "metadata": {},
   "outputs": [],
   "source": [
    "new_data[\"pos1\"] = new_data[\"pos\"] + 1"
   ]
  },
  {
   "cell_type": "code",
   "execution_count": 14,
   "metadata": {},
   "outputs": [
    {
     "data": {
      "text/html": [
       "<div>\n",
       "<style scoped>\n",
       "    .dataframe tbody tr th:only-of-type {\n",
       "        vertical-align: middle;\n",
       "    }\n",
       "\n",
       "    .dataframe tbody tr th {\n",
       "        vertical-align: top;\n",
       "    }\n",
       "\n",
       "    .dataframe thead th {\n",
       "        text-align: right;\n",
       "    }\n",
       "</style>\n",
       "<table border=\"1\" class=\"dataframe\">\n",
       "  <thead>\n",
       "    <tr style=\"text-align: right;\">\n",
       "      <th></th>\n",
       "      <th>chr</th>\n",
       "      <th>pos</th>\n",
       "      <th>pos1</th>\n",
       "      <th>allele1</th>\n",
       "      <th>allele2</th>\n",
       "      <th>rsid</th>\n",
       "      <th>logfc.mean</th>\n",
       "      <th>abs_logfc.mean</th>\n",
       "      <th>abs_logfc.mean.pval</th>\n",
       "      <th>jsd.mean</th>\n",
       "      <th>...</th>\n",
       "      <th>Z_score_perPeak</th>\n",
       "      <th>PeakID</th>\n",
       "      <th>pVal_perPeak</th>\n",
       "      <th>FDR_acrossAllPeaks</th>\n",
       "      <th>caQTL_order</th>\n",
       "      <th>Variant</th>\n",
       "      <th>Beta</th>\n",
       "      <th>Z_score_fixed</th>\n",
       "      <th>Z_score_random</th>\n",
       "      <th>jsd_sign</th>\n",
       "    </tr>\n",
       "  </thead>\n",
       "  <tbody>\n",
       "    <tr>\n",
       "      <th>0</th>\n",
       "      <td>chr2</td>\n",
       "      <td>199884843</td>\n",
       "      <td>199884844</td>\n",
       "      <td>A</td>\n",
       "      <td>G</td>\n",
       "      <td>chr2_199884843_A_G</td>\n",
       "      <td>-0.032774</td>\n",
       "      <td>0.032774</td>\n",
       "      <td>0.332132</td>\n",
       "      <td>0.016354</td>\n",
       "      <td>...</td>\n",
       "      <td>-8.42764</td>\n",
       "      <td>Peak--100075</td>\n",
       "      <td>2.78246e-16</td>\n",
       "      <td>1.2455357872766899e-13</td>\n",
       "      <td>1</td>\n",
       "      <td>rs281785</td>\n",
       "      <td>1.29318</td>\n",
       "      <td>10.11</td>\n",
       "      <td>10.11</td>\n",
       "      <td>-0.016354</td>\n",
       "    </tr>\n",
       "    <tr>\n",
       "      <th>1</th>\n",
       "      <td>chr2</td>\n",
       "      <td>200357680</td>\n",
       "      <td>200357681</td>\n",
       "      <td>A</td>\n",
       "      <td>T</td>\n",
       "      <td>chr2_200357680_A_T</td>\n",
       "      <td>0.008075</td>\n",
       "      <td>0.010583</td>\n",
       "      <td>0.651006</td>\n",
       "      <td>0.009565</td>\n",
       "      <td>...</td>\n",
       "      <td>-4.61924</td>\n",
       "      <td>Peak--100119</td>\n",
       "      <td>9.151825e-05</td>\n",
       "      <td>0.0055224342891336</td>\n",
       "      <td>1</td>\n",
       "      <td>rs2033804</td>\n",
       "      <td>-0.396164</td>\n",
       "      <td>-3.48053</td>\n",
       "      <td>4.61828</td>\n",
       "      <td>0.009565</td>\n",
       "    </tr>\n",
       "    <tr>\n",
       "      <th>2</th>\n",
       "      <td>chr2</td>\n",
       "      <td>200656660</td>\n",
       "      <td>200656661</td>\n",
       "      <td>T</td>\n",
       "      <td>C</td>\n",
       "      <td>chr2_200656660_T_C</td>\n",
       "      <td>-0.003838</td>\n",
       "      <td>0.006359</td>\n",
       "      <td>0.780543</td>\n",
       "      <td>0.004759</td>\n",
       "      <td>...</td>\n",
       "      <td>-4.74954</td>\n",
       "      <td>Peak--100143</td>\n",
       "      <td>0.0004913505</td>\n",
       "      <td>0.0227224447069548</td>\n",
       "      <td>1</td>\n",
       "      <td>rs2287012</td>\n",
       "      <td>-0.498759</td>\n",
       "      <td>-5.07707</td>\n",
       "      <td>5.07707</td>\n",
       "      <td>-0.004759</td>\n",
       "    </tr>\n",
       "    <tr>\n",
       "      <th>3</th>\n",
       "      <td>chr1</td>\n",
       "      <td>172585461</td>\n",
       "      <td>172585462</td>\n",
       "      <td>A</td>\n",
       "      <td>G</td>\n",
       "      <td>chr1_172585461_A_G</td>\n",
       "      <td>-0.005939</td>\n",
       "      <td>0.007671</td>\n",
       "      <td>0.726790</td>\n",
       "      <td>0.004529</td>\n",
       "      <td>...</td>\n",
       "      <td>9.37451</td>\n",
       "      <td>Peak--10016</td>\n",
       "      <td>3.808717e-19</td>\n",
       "      <td>2.5325626120453097e-16</td>\n",
       "      <td>1</td>\n",
       "      <td>rs10752994</td>\n",
       "      <td>-1.07082</td>\n",
       "      <td>-11.418</td>\n",
       "      <td>11.418</td>\n",
       "      <td>-0.004529</td>\n",
       "    </tr>\n",
       "    <tr>\n",
       "      <th>4</th>\n",
       "      <td>chr1</td>\n",
       "      <td>172625478</td>\n",
       "      <td>172625479</td>\n",
       "      <td>C</td>\n",
       "      <td>T</td>\n",
       "      <td>chr1_172625478_C_T</td>\n",
       "      <td>0.441283</td>\n",
       "      <td>0.441283</td>\n",
       "      <td>0.006659</td>\n",
       "      <td>0.047415</td>\n",
       "      <td>...</td>\n",
       "      <td>8.27532</td>\n",
       "      <td>Peak--10018</td>\n",
       "      <td>8.27175e-15</td>\n",
       "      <td>3.01341025797872e-12</td>\n",
       "      <td>1</td>\n",
       "      <td>rs12123755</td>\n",
       "      <td>0.816922</td>\n",
       "      <td>8.27532</td>\n",
       "      <td>nan</td>\n",
       "      <td>0.047415</td>\n",
       "    </tr>\n",
       "    <tr>\n",
       "      <th>...</th>\n",
       "      <td>...</td>\n",
       "      <td>...</td>\n",
       "      <td>...</td>\n",
       "      <td>...</td>\n",
       "      <td>...</td>\n",
       "      <td>...</td>\n",
       "      <td>...</td>\n",
       "      <td>...</td>\n",
       "      <td>...</td>\n",
       "      <td>...</td>\n",
       "      <td>...</td>\n",
       "      <td>...</td>\n",
       "      <td>...</td>\n",
       "      <td>...</td>\n",
       "      <td>...</td>\n",
       "      <td>...</td>\n",
       "      <td>...</td>\n",
       "      <td>...</td>\n",
       "      <td>...</td>\n",
       "      <td>...</td>\n",
       "      <td>...</td>\n",
       "    </tr>\n",
       "    <tr>\n",
       "      <th>5632</th>\n",
       "      <td>chr2</td>\n",
       "      <td>197453059</td>\n",
       "      <td>197453060</td>\n",
       "      <td>C</td>\n",
       "      <td>T</td>\n",
       "      <td>chr2_197453059_C_T</td>\n",
       "      <td>-0.006069</td>\n",
       "      <td>0.008629</td>\n",
       "      <td>0.698217</td>\n",
       "      <td>0.003760</td>\n",
       "      <td>...</td>\n",
       "      <td>4.76994</td>\n",
       "      <td>Peak--99809</td>\n",
       "      <td>1.825632e-05</td>\n",
       "      <td>0.001357736877756</td>\n",
       "      <td>1</td>\n",
       "      <td>rs3731570</td>\n",
       "      <td>0.828246</td>\n",
       "      <td>6.83333</td>\n",
       "      <td>7.11778</td>\n",
       "      <td>-0.003760</td>\n",
       "    </tr>\n",
       "    <tr>\n",
       "      <th>5633</th>\n",
       "      <td>chr2</td>\n",
       "      <td>198097196</td>\n",
       "      <td>198097197</td>\n",
       "      <td>A</td>\n",
       "      <td>G</td>\n",
       "      <td>chr2_198097196_A_G</td>\n",
       "      <td>0.164370</td>\n",
       "      <td>0.164370</td>\n",
       "      <td>0.062254</td>\n",
       "      <td>0.017252</td>\n",
       "      <td>...</td>\n",
       "      <td>6.07593</td>\n",
       "      <td>Peak--99845</td>\n",
       "      <td>9.899754e-08</td>\n",
       "      <td>1.19650756197882e-05</td>\n",
       "      <td>1</td>\n",
       "      <td>rs3771359</td>\n",
       "      <td>0.436354</td>\n",
       "      <td>6.07593</td>\n",
       "      <td>nan</td>\n",
       "      <td>0.017252</td>\n",
       "    </tr>\n",
       "    <tr>\n",
       "      <th>5634</th>\n",
       "      <td>chr2</td>\n",
       "      <td>198097200</td>\n",
       "      <td>198097201</td>\n",
       "      <td>T</td>\n",
       "      <td>C</td>\n",
       "      <td>chr2_198097200_T_C</td>\n",
       "      <td>-0.301757</td>\n",
       "      <td>0.301757</td>\n",
       "      <td>0.015373</td>\n",
       "      <td>0.028632</td>\n",
       "      <td>...</td>\n",
       "      <td>-4.63841</td>\n",
       "      <td>Peak--99846</td>\n",
       "      <td>0.0004810067</td>\n",
       "      <td>0.0223446806742482</td>\n",
       "      <td>1</td>\n",
       "      <td>rs3771360</td>\n",
       "      <td>-0.289109</td>\n",
       "      <td>-3.13403</td>\n",
       "      <td>4.55157</td>\n",
       "      <td>-0.028632</td>\n",
       "    </tr>\n",
       "    <tr>\n",
       "      <th>5635</th>\n",
       "      <td>chr2</td>\n",
       "      <td>198096665</td>\n",
       "      <td>198096666</td>\n",
       "      <td>T</td>\n",
       "      <td>G</td>\n",
       "      <td>chr2_198096665_T_G</td>\n",
       "      <td>-0.001873</td>\n",
       "      <td>0.005233</td>\n",
       "      <td>0.802049</td>\n",
       "      <td>0.007228</td>\n",
       "      <td>...</td>\n",
       "      <td>4.52954</td>\n",
       "      <td>Peak--99847</td>\n",
       "      <td>0.0007980153</td>\n",
       "      <td>0.033530677224908</td>\n",
       "      <td>1</td>\n",
       "      <td>rs1946645</td>\n",
       "      <td>0.17223</td>\n",
       "      <td>3.28067</td>\n",
       "      <td>6.7752</td>\n",
       "      <td>-0.007228</td>\n",
       "    </tr>\n",
       "    <tr>\n",
       "      <th>5636</th>\n",
       "      <td>chr1</td>\n",
       "      <td>172220624</td>\n",
       "      <td>172220625</td>\n",
       "      <td>A</td>\n",
       "      <td>C</td>\n",
       "      <td>chr1_172220624_A_C</td>\n",
       "      <td>0.092078</td>\n",
       "      <td>0.092078</td>\n",
       "      <td>0.093061</td>\n",
       "      <td>0.015995</td>\n",
       "      <td>...</td>\n",
       "      <td>5.03479</td>\n",
       "      <td>Peak--9990</td>\n",
       "      <td>5.341831e-06</td>\n",
       "      <td>0.000454290003413</td>\n",
       "      <td>1</td>\n",
       "      <td>rs55656112</td>\n",
       "      <td>0.926127</td>\n",
       "      <td>8.77296</td>\n",
       "      <td>8.77296</td>\n",
       "      <td>0.015995</td>\n",
       "    </tr>\n",
       "  </tbody>\n",
       "</table>\n",
       "<p>4845 rows × 39 columns</p>\n",
       "</div>"
      ],
      "text/plain": [
       "       chr        pos       pos1 allele1 allele2                rsid  \\\n",
       "0     chr2  199884843  199884844       A       G  chr2_199884843_A_G   \n",
       "1     chr2  200357680  200357681       A       T  chr2_200357680_A_T   \n",
       "2     chr2  200656660  200656661       T       C  chr2_200656660_T_C   \n",
       "3     chr1  172585461  172585462       A       G  chr1_172585461_A_G   \n",
       "4     chr1  172625478  172625479       C       T  chr1_172625478_C_T   \n",
       "...    ...        ...        ...     ...     ...                 ...   \n",
       "5632  chr2  197453059  197453060       C       T  chr2_197453059_C_T   \n",
       "5633  chr2  198097196  198097197       A       G  chr2_198097196_A_G   \n",
       "5634  chr2  198097200  198097201       T       C  chr2_198097200_T_C   \n",
       "5635  chr2  198096665  198096666       T       G  chr2_198096665_T_G   \n",
       "5636  chr1  172220624  172220625       A       C  chr1_172220624_A_C   \n",
       "\n",
       "      logfc.mean  abs_logfc.mean  abs_logfc.mean.pval  jsd.mean  ...  \\\n",
       "0      -0.032774        0.032774             0.332132  0.016354  ...   \n",
       "1       0.008075        0.010583             0.651006  0.009565  ...   \n",
       "2      -0.003838        0.006359             0.780543  0.004759  ...   \n",
       "3      -0.005939        0.007671             0.726790  0.004529  ...   \n",
       "4       0.441283        0.441283             0.006659  0.047415  ...   \n",
       "...          ...             ...                  ...       ...  ...   \n",
       "5632   -0.006069        0.008629             0.698217  0.003760  ...   \n",
       "5633    0.164370        0.164370             0.062254  0.017252  ...   \n",
       "5634   -0.301757        0.301757             0.015373  0.028632  ...   \n",
       "5635   -0.001873        0.005233             0.802049  0.007228  ...   \n",
       "5636    0.092078        0.092078             0.093061  0.015995  ...   \n",
       "\n",
       "      Z_score_perPeak        PeakID  pVal_perPeak      FDR_acrossAllPeaks  \\\n",
       "0            -8.42764  Peak--100075   2.78246e-16  1.2455357872766899e-13   \n",
       "1            -4.61924  Peak--100119  9.151825e-05      0.0055224342891336   \n",
       "2            -4.74954  Peak--100143  0.0004913505      0.0227224447069548   \n",
       "3             9.37451   Peak--10016  3.808717e-19  2.5325626120453097e-16   \n",
       "4             8.27532   Peak--10018   8.27175e-15    3.01341025797872e-12   \n",
       "...               ...           ...           ...                     ...   \n",
       "5632          4.76994   Peak--99809  1.825632e-05       0.001357736877756   \n",
       "5633          6.07593   Peak--99845  9.899754e-08    1.19650756197882e-05   \n",
       "5634         -4.63841   Peak--99846  0.0004810067      0.0223446806742482   \n",
       "5635          4.52954   Peak--99847  0.0007980153       0.033530677224908   \n",
       "5636          5.03479    Peak--9990  5.341831e-06       0.000454290003413   \n",
       "\n",
       "      caQTL_order     Variant       Beta  Z_score_fixed  Z_score_random  \\\n",
       "0               1    rs281785    1.29318          10.11           10.11   \n",
       "1               1   rs2033804  -0.396164       -3.48053         4.61828   \n",
       "2               1   rs2287012  -0.498759       -5.07707         5.07707   \n",
       "3               1  rs10752994   -1.07082        -11.418          11.418   \n",
       "4               1  rs12123755   0.816922        8.27532             nan   \n",
       "...           ...         ...        ...            ...             ...   \n",
       "5632            1   rs3731570   0.828246        6.83333         7.11778   \n",
       "5633            1   rs3771359   0.436354        6.07593             nan   \n",
       "5634            1   rs3771360  -0.289109       -3.13403         4.55157   \n",
       "5635            1   rs1946645    0.17223        3.28067          6.7752   \n",
       "5636            1  rs55656112   0.926127        8.77296         8.77296   \n",
       "\n",
       "      jsd_sign  \n",
       "0    -0.016354  \n",
       "1     0.009565  \n",
       "2    -0.004759  \n",
       "3    -0.004529  \n",
       "4     0.047415  \n",
       "...        ...  \n",
       "5632 -0.003760  \n",
       "5633  0.017252  \n",
       "5634 -0.028632  \n",
       "5635 -0.007228  \n",
       "5636  0.015995  \n",
       "\n",
       "[4845 rows x 39 columns]"
      ]
     },
     "execution_count": 14,
     "metadata": {},
     "output_type": "execute_result"
    }
   ],
   "source": [
    "old_cols = new_data.columns\n",
    "new_cols  = [\"chr\", \"pos\", \"pos1\"] + old_cols[2:-1].tolist()\n",
    "new_data[new_cols]"
   ]
  },
  {
   "cell_type": "code",
   "execution_count": 15,
   "metadata": {},
   "outputs": [],
   "source": [
    "#new_data[new_cols].to_csv(\"/mnt/lab_data2/anusri/variant-scorer/src/output/microglia_scatac/bed_formatter_regions.bed\", sep=\"\\t\", header=False, index=False)\n",
    "\n"
   ]
  },
  {
   "cell_type": "code",
   "execution_count": 16,
   "metadata": {},
   "outputs": [],
   "source": [
    "new_scores = pd.read_csv(\"/mnt/lab_data2/anusri/variant-scorer/src/output/microglia_scatac//peak_overlaps_scored.bed\", sep=\"\\t\", names=new_cols+[\"peak_overlap\"])"
   ]
  },
  {
   "cell_type": "code",
   "execution_count": 17,
   "metadata": {},
   "outputs": [],
   "source": [
    "new_scores = new_scores.drop_duplicates()\n",
    "new_scores[\"peak_overlap\"] = new_scores[\"peak_overlap\"]>0"
   ]
  },
  {
   "cell_type": "code",
   "execution_count": 19,
   "metadata": {},
   "outputs": [],
   "source": [
    "#new_scores"
   ]
  },
  {
   "cell_type": "code",
   "execution_count": 20,
   "metadata": {},
   "outputs": [
    {
     "data": {
      "text/plain": [
       "Text(0.5, 1.0, 'Pearsonr = 0.6')"
      ]
     },
     "execution_count": 20,
     "metadata": {},
     "output_type": "execute_result"
    },
    {
     "data": {
      "image/png": "[encoded data removed]",
      "text/plain": [
       "<Figure size 432x288 with 1 Axes>"
      ]
     },
     "metadata": {
      "needs_background": "light"
     },
     "output_type": "display_data"
    }
   ],
   "source": [
    "import numpy as np\n",
    "import matplotlib.pyplot as plt\n",
    "from scipy.stats import pearsonr\n",
    "plt.scatter(new_scores[new_scores[\"peak_overlap\"]][\"jsd_sign\"], new_scores[new_scores[\"peak_overlap\"]][\"Z_score_fixed\"].astype(float), s=1, c=\"b\", label=\"sig\")\n",
    "\n",
    "\n",
    "plt.xlabel(\"ChromBPNet Predicted Effect sizes\")\n",
    "plt.ylabel(\"Effect sizes\")\n",
    "plt.legend()\n",
    "plt.title(\"Pearsonr = \"+str(np.round(pearsonr(new_scores[new_scores[\"peak_overlap\"]][\"jsd_sign\"], new_scores[new_scores[\"peak_overlap\"]][\"Z_score_fixed\"].astype(float))[0],2)))\n"
   ]
  },
  {
   "cell_type": "code",
   "execution_count": 21,
   "metadata": {},
   "outputs": [
    {
     "data": {
      "text/plain": [
       "(0.5955839856233681, 3.007089255611314e-78)"
      ]
     },
     "execution_count": 21,
     "metadata": {},
     "output_type": "execute_result"
    }
   ],
   "source": [
    "pearsonr(new_scores[new_scores[\"peak_overlap\"]][\"jsd_sign\"], new_scores[new_scores[\"peak_overlap\"]][\"Z_score_fixed\"].astype(float))\n",
    "                                                                                                                            \n",
    "                                                                                                                            "
   ]
  },
  {
   "cell_type": "code",
   "execution_count": 22,
   "metadata": {},
   "outputs": [
    {
     "data": {
      "text/plain": [
       "(0.5879089521534093, 8.223950838059139e-76)"
      ]
     },
     "execution_count": 22,
     "metadata": {},
     "output_type": "execute_result"
    }
   ],
   "source": [
    "pearsonr(new_scores[new_scores[\"peak_overlap\"]][\"jsd_sign\"], new_scores[new_scores[\"peak_overlap\"]][\"Beta\"].astype(float))\n",
    "                                                                                                                            \n",
    "                                                                                                                            "
   ]
  },
  {
   "cell_type": "code",
   "execution_count": 33,
   "metadata": {},
   "outputs": [
    {
     "name": "stdout",
     "output_type": "stream",
     "text": [
      "    sd_sign.mean     Beta  max_percentile.mean\n",
      "4       0.047415  8.27532             0.127542\n",
      "14      0.009463  5.55393             0.610502\n",
      "20      0.060282  6.87351             0.732263\n",
      "24      0.041271 -9.13315             0.519194\n",
      "26     -0.056717 -6.28075             0.173048\n",
      "num nan\n",
      "0\n",
      "(0.5955839856233681, 3.007089255611314e-78)\n"
     ]
    },
    {
     "data": {
      "image/png": "[encoded data removed]",
      "text/plain": [
       "<Figure size 576x360 with 2 Axes>"
      ]
     },
     "metadata": {
      "needs_background": "light"
     },
     "output_type": "display_data"
    }
   ],
   "source": [
    "import seaborn as sns\n",
    "import matplotlib\n",
    "matplotlib.rcParams['pdf.fonttype'] = 42\n",
    "matplotlib.rcParams['ps.fonttype'] = 42 \n",
    "\n",
    "\n",
    "data = pd.DataFrame()\n",
    "data[\"sd_sign.mean\"] = new_scores[new_scores[\"peak_overlap\"]][\"jsd_sign\"]\n",
    "data[\"Beta\"] = new_scores[new_scores[\"peak_overlap\"]][\"Z_score_fixed\"]\n",
    "data[\"max_percentile.mean\"] = abs(new_scores[new_scores[\"peak_overlap\"]][\"max_percentile.mean\"])\n",
    "print(data.head())\n",
    "plt.figure(figsize=(8,5))\n",
    "\n",
    "print(\"num nan\")\n",
    "print(sum(np.isnan(data[\"Beta\"])))\n",
    "print(scipy.stats.pearsonr(data[\"sd_sign.mean\"], data[\"Beta\"]))\n",
    "\n",
    "\n",
    "sns.kdeplot(\n",
    "    data=data,\n",
    "    x=\"Beta\",\n",
    "    y=\"sd_sign.mean\",\n",
    "    levels=5,\n",
    "    fill=False,\n",
    "    alpha=0.2,\n",
    "    color=\"grey\",\n",
    "    cut=2,\n",
    "\n",
    ")\n",
    "ax = sns.scatterplot(x=\"Beta\", y=\"sd_sign.mean\", hue=\"max_percentile.mean\", data=data, s=15, palette=\"Greens\")\n",
    "sns.regplot(x=\"Beta\", y=\"sd_sign.mean\", data=data, scatter=False, ci=None, color=\"#90EE90\")\n",
    "#sns.jointplot(x=data[\"Beta\"], y=data[\"sd_sign.mean\"],s=0,ax=ax)\n",
    "\n",
    "norm = plt.Normalize(data['max_percentile.mean'].min(), data['max_percentile.mean'].max())\n",
    "sm = plt.cm.ScalarMappable(cmap=\"Greens\", norm=norm)\n",
    "sm.set_array([])\n",
    "\n",
    "# Remove the legend and add a colorbar\n",
    "ax.get_legend().remove()\n",
    "ax.figure.colorbar(sm)\n",
    "plt.savefig(\"subfigs_new/microglia_caqtls_scatter_plot.pdf\", transparent=True, dpi=300)\n"
   ]
  },
  {
   "cell_type": "code",
   "execution_count": 41,
   "metadata": {},
   "outputs": [],
   "source": [
    "from sklearn.decomposition import PCA\n",
    "import scipy.stats\n",
    "def get_pc_component(df1):\n",
    "    val1 = df1[\"jsd.mean\"].astype(float)*np.sign(df1['logfc.mean'].astype(float))\n",
    "    val2 = df1[\"logfc.mean\"].astype(float)\n",
    "    val3 = df1[\"jsd.mean\"].astype(float)*df1['logfc.mean'].astype(float)\n",
    "    #val4 = df1[\"log_prob_log2s.mean\"].astype(float)*df1['logfc.mean'].astype(float)\n",
    "\n",
    "    #print(df1.shape)\n",
    "    values = [val2, val3]\n",
    "    values = np.array(values)\n",
    "    #print(values.shape)\n",
    "    values = np.transpose(values)\n",
    "    mean_axis = np.mean(values, axis=1)\n",
    "    new_values = PCA(n_components=1).fit_transform(X=values)\n",
    "    #print(new_values.shape)\n",
    "    if scipy.stats.pearsonr(new_values[:,0], mean_axis)[0] > 0:\n",
    "        #print(scipy.stats.pearsonr(new_values[:,0], mean_axis)[0])\n",
    "        return new_values[:,0]\n",
    "    else:\n",
    "        #print(scipy.stats.pearsonr(new_values[:,0], mean_axis)[0])\n",
    "        return new_values[:,0]*-1"
   ]
  },
  {
   "cell_type": "code",
   "execution_count": 42,
   "metadata": {},
   "outputs": [
    {
     "name": "stdout",
     "output_type": "stream",
     "text": [
      "(4845,)\n",
      "   sd_sign.mean     Beta  max_percentile.mean\n",
      "0      0.447828  8.27532             0.127542\n",
      "1      0.084226  5.55393             0.610502\n",
      "2      0.195903  6.87351             0.732263\n",
      "3      0.034144 -9.13315             0.519194\n",
      "4     -0.510392 -6.28075             0.173048\n",
      "num nan\n",
      "0\n",
      "(0.5888852424555341, 4.061736427196501e-76)\n"
     ]
    },
    {
     "data": {
      "text/plain": [
       "<matplotlib.colorbar.Colorbar at 0x7fb25c3412d0>"
      ]
     },
     "execution_count": 42,
     "metadata": {},
     "output_type": "execute_result"
    },
    {
     "data": {
      "image/png": "[encoded data removed]",
      "text/plain": [
       "<Figure size 576x360 with 2 Axes>"
      ]
     },
     "metadata": {
      "needs_background": "light"
     },
     "output_type": "display_data"
    }
   ],
   "source": [
    "\n",
    "import seaborn as sns\n",
    "import matplotlib\n",
    "matplotlib.rcParams['pdf.fonttype'] = 42\n",
    "matplotlib.rcParams['ps.fonttype'] = 42 \n",
    "\n",
    "temp = np.array(get_pc_component(new_scores))\n",
    "\n",
    "data = pd.DataFrame()\n",
    "data[\"sd_sign.mean\"] = temp[new_scores[\"peak_overlap\"].values]\n",
    "data[\"Beta\"] = new_scores[new_scores[\"peak_overlap\"]][\"Z_score_fixed\"].values\n",
    "data[\"max_percentile.mean\"] = abs(new_scores[new_scores[\"peak_overlap\"]][\"max_percentile.mean\"].values)\n",
    "\n",
    "print(temp.shape)\n",
    "print(data.head())\n",
    "plt.figure(figsize=(8,5))\n",
    "\n",
    "print(\"num nan\")\n",
    "print(sum(np.isnan(data[\"Beta\"])))\n",
    "print(scipy.stats.pearsonr(data[\"sd_sign.mean\"], data[\"Beta\"]))\n",
    "sns.kdeplot(\n",
    "    data=data,\n",
    "    x=\"Beta\",\n",
    "    y=\"sd_sign.mean\",\n",
    "    levels=5,\n",
    "    fill=False,\n",
    "    alpha=0.2,\n",
    "    color=\"grey\",\n",
    "    cut=2,\n",
    "\n",
    ")\n",
    "ax = sns.scatterplot(x=\"Beta\", y=\"sd_sign.mean\", hue=\"max_percentile.mean\", data=data, s=15, palette=\"Greens\")\n",
    "sns.regplot(x=\"Beta\", y=\"sd_sign.mean\", data=data, scatter=False, ci=None, color=\"#90EE90\")\n",
    "#sns.jointplot(x=data[\"Beta\"], y=data[\"sd_sign.mean\"],s=0,ax=ax)\n",
    "\n",
    "norm = plt.Normalize(data['max_percentile.mean'].min(), data['max_percentile.mean'].max())\n",
    "sm = plt.cm.ScalarMappable(cmap=\"Greens\", norm=norm)\n",
    "sm.set_array([])\n",
    "\n",
    "# Remove the legend and add a colorbar\n",
    "ax.get_legend().remove()\n",
    "ax.figure.colorbar(sm)\n",
    "#plt.savefig(\"subfigs_new/microglia_caqtls_scatter_plot.pdf\", transparent=True, dpi=300)\n"
   ]
  },
  {
   "cell_type": "code",
   "execution_count": 43,
   "metadata": {},
   "outputs": [],
   "source": [
    "# import matplotlib\n",
    "\n",
    "# matplotlib.rcParams['pdf.fonttype'] = 42\n",
    "# matplotlib.rcParams['ps.fonttype'] = 42 \n",
    "\n",
    "# from plotnine import * \n",
    "\n",
    "# p = (ggplot(data, aes('Observed', 'Predicted (ES)', color='max_percentile.mean'))\n",
    "#  + geom_point(alpha=1,size=0.1)\n",
    "#  + geom_smooth(method = \"lm\", se = False, color=\"black\", size=0.2)\n",
    "#  + xlab(\"Observed\")\n",
    "#  + scale_color_gradient(low='#ADD8E6', high='#0000FF')\n",
    "#  + ylab(\"Predicted\")\n",
    "#  + theme_classic() \n",
    "# )\n",
    "# p\n",
    "# p.save(\"subfigs_new/microglia_caqtls_scatter_plot.pdf\",dpi=\"300\")\n",
    "# #p.save(\"subfigs/bqtls_atac_significant_hits.pdf\",dpi=\"300\")"
   ]
  },
  {
   "cell_type": "code",
   "execution_count": 44,
   "metadata": {},
   "outputs": [
    {
     "data": {
      "text/plain": [
       "(0.9328741025093874, 0.0)"
      ]
     },
     "execution_count": 44,
     "metadata": {},
     "output_type": "execute_result"
    }
   ],
   "source": [
    "scipy.stats.pearsonr(new_scores[new_scores[\"peak_overlap\"]][\"logfc.mean\"], new_scores[new_scores[\"peak_overlap\"]][\"jsd_sign\"])"
   ]
  },
  {
   "cell_type": "code",
   "execution_count": null,
   "metadata": {},
   "outputs": [],
   "source": [
    "scipy.stats.pearsonr(new_scores[new_scores[\"peak_overlap\"]][\"logfc.mean\"], new_scores[new_scores[\"peak_overlap\"]][\"jsd_sign\"])"
   ]
  },
  {
   "cell_type": "code",
   "execution_count": 58,
   "metadata": {},
   "outputs": [
    {
     "data": {
      "text/plain": [
       "(0.897471131960564, 5.621909641650273e-287)"
      ]
     },
     "execution_count": 58,
     "metadata": {},
     "output_type": "execute_result"
    }
   ],
   "source": [
    "scipy.stats.pearsonr(new_scores[new_scores[\"peak_overlap\"]][\"logfc.mean\"], new_scores[new_scores[\"peak_overlap\"]][\"jsd.mean\"]*new_scores[new_scores[\"peak_overlap\"]][\"logfc.mean\"])\n",
    "\n"
   ]
  },
  {
   "cell_type": "code",
   "execution_count": null,
   "metadata": {},
   "outputs": [],
   "source": []
  },
  {
   "cell_type": "code",
   "execution_count": null,
   "metadata": {},
   "outputs": [],
   "source": []
  },
  {
   "cell_type": "code",
   "execution_count": 52,
   "metadata": {},
   "outputs": [
    {
     "data": {
      "text/plain": [
       "803"
      ]
     },
     "execution_count": 52,
     "metadata": {},
     "output_type": "execute_result"
    }
   ],
   "source": [
    "sum(new_scores[\"peak_overlap\"])"
   ]
  },
  {
   "cell_type": "code",
   "execution_count": null,
   "metadata": {},
   "outputs": [],
   "source": []
  },
  {
   "cell_type": "code",
   "execution_count": null,
   "metadata": {},
   "outputs": [],
   "source": []
  },
  {
   "cell_type": "code",
   "execution_count": null,
   "metadata": {},
   "outputs": [],
   "source": []
  },
  {
   "cell_type": "code",
   "execution_count": null,
   "metadata": {},
   "outputs": [],
   "source": []
  },
  {
   "cell_type": "code",
   "execution_count": null,
   "metadata": {},
   "outputs": [],
   "source": []
  },
  {
   "cell_type": "code",
   "execution_count": null,
   "metadata": {},
   "outputs": [],
   "source": []
  }
 ],
 "metadata": {
  "kernelspec": {
   "display_name": "Python 3",
   "language": "python",
   "name": "python3"
  },
  "language_info": {
   "codemirror_mode": {
    "name": "ipython",
    "version": 3
   },
   "file_extension": ".py",
   "mimetype": "text/x-python",
   "name": "python",
   "nbconvert_exporter": "python",
   "pygments_lexer": "ipython3",
   "version": "3.7.6"
  }
 },
 "nbformat": 4,
 "nbformat_minor": 4
}
