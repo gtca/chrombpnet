{
 "cells": [
  {
   "cell_type": "code",
   "execution_count": 1,
   "metadata": {},
   "outputs": [],
   "source": [
    "import pandas as pd"
   ]
  },
  {
   "cell_type": "code",
   "execution_count": 3,
   "metadata": {},
   "outputs": [],
   "source": [
    "data = pd.read_csv(\"/mnt/lab_data2/anusri/variant-scorer/src/output/smc_caqtls/ATAC_sig_only/summary.mean.variant_scores_new.tsv\", sep=\"\\t\", header=0)\n",
    "\n"
   ]
  },
  {
   "cell_type": "code",
   "execution_count": 4,
   "metadata": {},
   "outputs": [
    {
     "data": {
      "text/html": [
       "<div>\n",
       "<style scoped>\n",
       "    .dataframe tbody tr th:only-of-type {\n",
       "        vertical-align: middle;\n",
       "    }\n",
       "\n",
       "    .dataframe tbody tr th {\n",
       "        vertical-align: top;\n",
       "    }\n",
       "\n",
       "    .dataframe thead th {\n",
       "        text-align: right;\n",
       "    }\n",
       "</style>\n",
       "<table border=\"1\" class=\"dataframe\">\n",
       "  <thead>\n",
       "    <tr style=\"text-align: right;\">\n",
       "      <th></th>\n",
       "      <th>chr</th>\n",
       "      <th>pos</th>\n",
       "      <th>allele1</th>\n",
       "      <th>allele2</th>\n",
       "      <th>rsid</th>\n",
       "      <th>logfc.mean</th>\n",
       "      <th>abs_logfc.mean</th>\n",
       "      <th>abs_logfc.mean.pval</th>\n",
       "      <th>jsd.mean</th>\n",
       "      <th>jsd.mean.pval</th>\n",
       "      <th>...</th>\n",
       "      <th>max_percentile.mean</th>\n",
       "      <th>max_percentile.mean.pval</th>\n",
       "      <th>logfc_x_max_percentile.mean</th>\n",
       "      <th>abs_logfc_x_max_percentile.mean</th>\n",
       "      <th>abs_logfc_x_max_percentile.mean.pval</th>\n",
       "      <th>jsd_x_max_percentile.mean</th>\n",
       "      <th>jsd_x_max_percentile.mean.pval</th>\n",
       "      <th>abs_logfc_x_jsd_x_max_percentile.mean</th>\n",
       "      <th>abs_logfc_x_jsd_x_max_percentile.mean.pval</th>\n",
       "      <th>logfc_x_jsd_x_max_percentile.mean</th>\n",
       "    </tr>\n",
       "  </thead>\n",
       "  <tbody>\n",
       "    <tr>\n",
       "      <th>0</th>\n",
       "      <td>chr1</td>\n",
       "      <td>1067006</td>\n",
       "      <td>A</td>\n",
       "      <td>G</td>\n",
       "      <td>chr1.1069225.1069626,rs74048003,chr1,1067007,A...</td>\n",
       "      <td>0.012438</td>\n",
       "      <td>0.012438</td>\n",
       "      <td>0.711651</td>\n",
       "      <td>0.008485</td>\n",
       "      <td>0.633040</td>\n",
       "      <td>...</td>\n",
       "      <td>0.647317</td>\n",
       "      <td>0.099589</td>\n",
       "      <td>0.008754</td>\n",
       "      <td>0.008754</td>\n",
       "      <td>0.411708</td>\n",
       "      <td>0.005484</td>\n",
       "      <td>0.202760</td>\n",
       "      <td>0.000074</td>\n",
       "      <td>0.450384</td>\n",
       "      <td>0.000074</td>\n",
       "    </tr>\n",
       "    <tr>\n",
       "      <th>1</th>\n",
       "      <td>chr1</td>\n",
       "      <td>108121218</td>\n",
       "      <td>C</td>\n",
       "      <td>G</td>\n",
       "      <td>chr1.108118484.108118885,rs665659,chr1,1081212...</td>\n",
       "      <td>0.041139</td>\n",
       "      <td>0.047367</td>\n",
       "      <td>0.359769</td>\n",
       "      <td>0.010933</td>\n",
       "      <td>0.435650</td>\n",
       "      <td>...</td>\n",
       "      <td>0.598538</td>\n",
       "      <td>0.131345</td>\n",
       "      <td>0.025264</td>\n",
       "      <td>0.028927</td>\n",
       "      <td>0.179629</td>\n",
       "      <td>0.006550</td>\n",
       "      <td>0.161457</td>\n",
       "      <td>0.000367</td>\n",
       "      <td>0.223157</td>\n",
       "      <td>0.000349</td>\n",
       "    </tr>\n",
       "    <tr>\n",
       "      <th>2</th>\n",
       "      <td>chr1</td>\n",
       "      <td>108721446</td>\n",
       "      <td>C</td>\n",
       "      <td>T</td>\n",
       "      <td>chr1.108721337.108721738,rs4970806,chr1,108721...</td>\n",
       "      <td>-0.385952</td>\n",
       "      <td>0.385952</td>\n",
       "      <td>0.054076</td>\n",
       "      <td>0.033347</td>\n",
       "      <td>0.068628</td>\n",
       "      <td>...</td>\n",
       "      <td>0.552190</td>\n",
       "      <td>0.145471</td>\n",
       "      <td>-0.216115</td>\n",
       "      <td>0.216115</td>\n",
       "      <td>0.044334</td>\n",
       "      <td>0.018451</td>\n",
       "      <td>0.044910</td>\n",
       "      <td>0.007501</td>\n",
       "      <td>0.043301</td>\n",
       "      <td>-0.007501</td>\n",
       "    </tr>\n",
       "    <tr>\n",
       "      <th>3</th>\n",
       "      <td>chr1</td>\n",
       "      <td>108842307</td>\n",
       "      <td>G</td>\n",
       "      <td>C</td>\n",
       "      <td>chr1.108841698.108842099,rs34272714,chr1,10884...</td>\n",
       "      <td>-0.050323</td>\n",
       "      <td>0.067884</td>\n",
       "      <td>0.270938</td>\n",
       "      <td>0.016801</td>\n",
       "      <td>0.206538</td>\n",
       "      <td>...</td>\n",
       "      <td>0.392109</td>\n",
       "      <td>0.243125</td>\n",
       "      <td>-0.022675</td>\n",
       "      <td>0.027942</td>\n",
       "      <td>0.187469</td>\n",
       "      <td>0.006705</td>\n",
       "      <td>0.156719</td>\n",
       "      <td>0.000504</td>\n",
       "      <td>0.172519</td>\n",
       "      <td>-0.000420</td>\n",
       "    </tr>\n",
       "    <tr>\n",
       "      <th>4</th>\n",
       "      <td>chr1</td>\n",
       "      <td>109272629</td>\n",
       "      <td>A</td>\n",
       "      <td>G</td>\n",
       "      <td>chr1.109274794.109275195,rs611917,chr1,1092726...</td>\n",
       "      <td>-0.057165</td>\n",
       "      <td>0.064350</td>\n",
       "      <td>0.295698</td>\n",
       "      <td>0.011112</td>\n",
       "      <td>0.424988</td>\n",
       "      <td>...</td>\n",
       "      <td>0.525791</td>\n",
       "      <td>0.154781</td>\n",
       "      <td>-0.028945</td>\n",
       "      <td>0.032736</td>\n",
       "      <td>0.146229</td>\n",
       "      <td>0.005768</td>\n",
       "      <td>0.184183</td>\n",
       "      <td>0.000397</td>\n",
       "      <td>0.208487</td>\n",
       "      <td>-0.000372</td>\n",
       "    </tr>\n",
       "  </tbody>\n",
       "</table>\n",
       "<p>5 rows × 23 columns</p>\n",
       "</div>"
      ],
      "text/plain": [
       "    chr        pos allele1 allele2  \\\n",
       "0  chr1    1067006       A       G   \n",
       "1  chr1  108121218       C       G   \n",
       "2  chr1  108721446       C       T   \n",
       "3  chr1  108842307       G       C   \n",
       "4  chr1  109272629       A       G   \n",
       "\n",
       "                                                rsid  logfc.mean  \\\n",
       "0  chr1.1069225.1069626,rs74048003,chr1,1067007,A...    0.012438   \n",
       "1  chr1.108118484.108118885,rs665659,chr1,1081212...    0.041139   \n",
       "2  chr1.108721337.108721738,rs4970806,chr1,108721...   -0.385952   \n",
       "3  chr1.108841698.108842099,rs34272714,chr1,10884...   -0.050323   \n",
       "4  chr1.109274794.109275195,rs611917,chr1,1092726...   -0.057165   \n",
       "\n",
       "   abs_logfc.mean  abs_logfc.mean.pval  jsd.mean  jsd.mean.pval  ...  \\\n",
       "0        0.012438             0.711651  0.008485       0.633040  ...   \n",
       "1        0.047367             0.359769  0.010933       0.435650  ...   \n",
       "2        0.385952             0.054076  0.033347       0.068628  ...   \n",
       "3        0.067884             0.270938  0.016801       0.206538  ...   \n",
       "4        0.064350             0.295698  0.011112       0.424988  ...   \n",
       "\n",
       "   max_percentile.mean  max_percentile.mean.pval  logfc_x_max_percentile.mean  \\\n",
       "0             0.647317                  0.099589                     0.008754   \n",
       "1             0.598538                  0.131345                     0.025264   \n",
       "2             0.552190                  0.145471                    -0.216115   \n",
       "3             0.392109                  0.243125                    -0.022675   \n",
       "4             0.525791                  0.154781                    -0.028945   \n",
       "\n",
       "   abs_logfc_x_max_percentile.mean  abs_logfc_x_max_percentile.mean.pval  \\\n",
       "0                         0.008754                              0.411708   \n",
       "1                         0.028927                              0.179629   \n",
       "2                         0.216115                              0.044334   \n",
       "3                         0.027942                              0.187469   \n",
       "4                         0.032736                              0.146229   \n",
       "\n",
       "   jsd_x_max_percentile.mean  jsd_x_max_percentile.mean.pval  \\\n",
       "0                   0.005484                        0.202760   \n",
       "1                   0.006550                        0.161457   \n",
       "2                   0.018451                        0.044910   \n",
       "3                   0.006705                        0.156719   \n",
       "4                   0.005768                        0.184183   \n",
       "\n",
       "   abs_logfc_x_jsd_x_max_percentile.mean  \\\n",
       "0                               0.000074   \n",
       "1                               0.000367   \n",
       "2                               0.007501   \n",
       "3                               0.000504   \n",
       "4                               0.000397   \n",
       "\n",
       "   abs_logfc_x_jsd_x_max_percentile.mean.pval  \\\n",
       "0                                    0.450384   \n",
       "1                                    0.223157   \n",
       "2                                    0.043301   \n",
       "3                                    0.172519   \n",
       "4                                    0.208487   \n",
       "\n",
       "   logfc_x_jsd_x_max_percentile.mean  \n",
       "0                           0.000074  \n",
       "1                           0.000349  \n",
       "2                          -0.007501  \n",
       "3                          -0.000420  \n",
       "4                          -0.000372  \n",
       "\n",
       "[5 rows x 23 columns]"
      ]
     },
     "execution_count": 4,
     "metadata": {},
     "output_type": "execute_result"
    }
   ],
   "source": [
    "data.head()\n"
   ]
  },
  {
   "cell_type": "code",
   "execution_count": 5,
   "metadata": {},
   "outputs": [
    {
     "data": {
      "text/html": [
       "<div>\n",
       "<style scoped>\n",
       "    .dataframe tbody tr th:only-of-type {\n",
       "        vertical-align: middle;\n",
       "    }\n",
       "\n",
       "    .dataframe tbody tr th {\n",
       "        vertical-align: top;\n",
       "    }\n",
       "\n",
       "    .dataframe thead th {\n",
       "        text-align: right;\n",
       "    }\n",
       "</style>\n",
       "<table border=\"1\" class=\"dataframe\">\n",
       "  <thead>\n",
       "    <tr style=\"text-align: right;\">\n",
       "      <th></th>\n",
       "      <th>Feature_ID</th>\n",
       "      <th>rsID</th>\n",
       "      <th>Chromosome</th>\n",
       "      <th>SNP_position</th>\n",
       "      <th>Ref_allele</th>\n",
       "      <th>Alt_allele</th>\n",
       "      <th>Freq</th>\n",
       "      <th>HWE_Chisquare</th>\n",
       "      <th>Imp_quality</th>\n",
       "      <th>Log10_BH_Q</th>\n",
       "      <th>...</th>\n",
       "      <th>Distance to TSS</th>\n",
       "      <th>Nearest PromoterID</th>\n",
       "      <th>Entrez ID</th>\n",
       "      <th>Nearest Unigene</th>\n",
       "      <th>Nearest Refseq</th>\n",
       "      <th>Nearest Ensembl</th>\n",
       "      <th>Gene Name</th>\n",
       "      <th>Gene Alias</th>\n",
       "      <th>Gene Description</th>\n",
       "      <th>Gene Type</th>\n",
       "    </tr>\n",
       "  </thead>\n",
       "  <tbody>\n",
       "    <tr>\n",
       "      <th>0</th>\n",
       "      <td>chr1.1069225.1069626</td>\n",
       "      <td>rs74048003</td>\n",
       "      <td>chr1</td>\n",
       "      <td>1067007</td>\n",
       "      <td>A</td>\n",
       "      <td>G</td>\n",
       "      <td>0.2</td>\n",
       "      <td>0.15625</td>\n",
       "      <td>0.999916</td>\n",
       "      <td>-4.9209610126</td>\n",
       "      <td>...</td>\n",
       "      <td>4881</td>\n",
       "      <td>NM--001205252</td>\n",
       "      <td>401934.0</td>\n",
       "      <td>Hs.568137</td>\n",
       "      <td>NM--001205252</td>\n",
       "      <td>ENSG00000237330</td>\n",
       "      <td>RNF223</td>\n",
       "      <td>-</td>\n",
       "      <td>ring finger protein 223</td>\n",
       "      <td>protein-coding</td>\n",
       "    </tr>\n",
       "    <tr>\n",
       "      <th>1</th>\n",
       "      <td>chr1.108118484.108118885</td>\n",
       "      <td>rs665659</td>\n",
       "      <td>chr1</td>\n",
       "      <td>108121219</td>\n",
       "      <td>C</td>\n",
       "      <td>G</td>\n",
       "      <td>0.725</td>\n",
       "      <td>0.000393</td>\n",
       "      <td>0.999935</td>\n",
       "      <td>-4.1185720043</td>\n",
       "      <td>...</td>\n",
       "      <td>74124</td>\n",
       "      <td>NM--213651</td>\n",
       "      <td>29957.0</td>\n",
       "      <td>Hs.656870</td>\n",
       "      <td>NM--013386</td>\n",
       "      <td>ENSG00000085491</td>\n",
       "      <td>SLC25A24</td>\n",
       "      <td>APC1|SCAMC-1|SCAMC1</td>\n",
       "      <td>solute carrier family 25 member 24</td>\n",
       "      <td>protein-coding</td>\n",
       "    </tr>\n",
       "    <tr>\n",
       "      <th>2</th>\n",
       "      <td>chr1.108721337.108721738</td>\n",
       "      <td>rs4970806</td>\n",
       "      <td>chr1</td>\n",
       "      <td>108721447</td>\n",
       "      <td>C</td>\n",
       "      <td>T</td>\n",
       "      <td>0.6625</td>\n",
       "      <td>5.930399</td>\n",
       "      <td>0.999939</td>\n",
       "      <td>-9.2669001138</td>\n",
       "      <td>...</td>\n",
       "      <td>8604</td>\n",
       "      <td>NM--001144937</td>\n",
       "      <td>163479.0</td>\n",
       "      <td>Hs.258253</td>\n",
       "      <td>NM--173532</td>\n",
       "      <td>ENSG00000143107</td>\n",
       "      <td>FNDC7</td>\n",
       "      <td>-</td>\n",
       "      <td>fibronectin type III domain containing 7</td>\n",
       "      <td>protein-coding</td>\n",
       "    </tr>\n",
       "    <tr>\n",
       "      <th>3</th>\n",
       "      <td>chr1.108841698.108842099</td>\n",
       "      <td>rs34272714</td>\n",
       "      <td>chr1</td>\n",
       "      <td>108842308</td>\n",
       "      <td>G</td>\n",
       "      <td>C</td>\n",
       "      <td>0.1375</td>\n",
       "      <td>1.016593</td>\n",
       "      <td>0.999885</td>\n",
       "      <td>-4.7210822228</td>\n",
       "      <td>...</td>\n",
       "      <td>15205</td>\n",
       "      <td>NM--152763</td>\n",
       "      <td>254268.0</td>\n",
       "      <td>Hs.729441</td>\n",
       "      <td>NM--152763</td>\n",
       "      <td>ENSG00000162641</td>\n",
       "      <td>AKNAD1</td>\n",
       "      <td>C1orf62</td>\n",
       "      <td>AKNA domain containing 1</td>\n",
       "      <td>protein-coding</td>\n",
       "    </tr>\n",
       "    <tr>\n",
       "      <th>4</th>\n",
       "      <td>chr1.109274794.109275195</td>\n",
       "      <td>rs611917</td>\n",
       "      <td>chr1</td>\n",
       "      <td>109272630</td>\n",
       "      <td>A</td>\n",
       "      <td>G</td>\n",
       "      <td>0.275</td>\n",
       "      <td>5.566376</td>\n",
       "      <td>0.999931</td>\n",
       "      <td>-3.0064302646</td>\n",
       "      <td>...</td>\n",
       "      <td>8149</td>\n",
       "      <td>NM--001350237</td>\n",
       "      <td>84722.0</td>\n",
       "      <td>Hs.405925</td>\n",
       "      <td>NM--032636</td>\n",
       "      <td>ENSG00000134222</td>\n",
       "      <td>PSRC1</td>\n",
       "      <td>DDA3|FP3214</td>\n",
       "      <td>proline and serine rich coiled-coil 1</td>\n",
       "      <td>protein-coding</td>\n",
       "    </tr>\n",
       "  </tbody>\n",
       "</table>\n",
       "<p>5 rows × 47 columns</p>\n",
       "</div>"
      ],
      "text/plain": [
       "                 Feature_ID        rsID Chromosome SNP_position Ref_allele  \\\n",
       "0      chr1.1069225.1069626  rs74048003       chr1      1067007          A   \n",
       "1  chr1.108118484.108118885    rs665659       chr1    108121219          C   \n",
       "2  chr1.108721337.108721738   rs4970806       chr1    108721447          C   \n",
       "3  chr1.108841698.108842099  rs34272714       chr1    108842308          G   \n",
       "4  chr1.109274794.109275195    rs611917       chr1    109272630          A   \n",
       "\n",
       "  Alt_allele    Freq HWE_Chisquare Imp_quality     Log10_BH_Q  ...  \\\n",
       "0          G     0.2       0.15625    0.999916  -4.9209610126  ...   \n",
       "1          G   0.725      0.000393    0.999935  -4.1185720043  ...   \n",
       "2          T  0.6625      5.930399    0.999939  -9.2669001138  ...   \n",
       "3          C  0.1375      1.016593    0.999885  -4.7210822228  ...   \n",
       "4          G   0.275      5.566376    0.999931  -3.0064302646  ...   \n",
       "\n",
       "  Distance to TSS Nearest PromoterID Entrez ID Nearest Unigene Nearest Refseq  \\\n",
       "0            4881      NM--001205252  401934.0       Hs.568137  NM--001205252   \n",
       "1           74124         NM--213651   29957.0       Hs.656870     NM--013386   \n",
       "2            8604      NM--001144937  163479.0       Hs.258253     NM--173532   \n",
       "3           15205         NM--152763  254268.0       Hs.729441     NM--152763   \n",
       "4            8149      NM--001350237   84722.0       Hs.405925     NM--032636   \n",
       "\n",
       "   Nearest Ensembl Gene Name           Gene Alias  \\\n",
       "0  ENSG00000237330    RNF223                    -   \n",
       "1  ENSG00000085491  SLC25A24  APC1|SCAMC-1|SCAMC1   \n",
       "2  ENSG00000143107     FNDC7                    -   \n",
       "3  ENSG00000162641    AKNAD1              C1orf62   \n",
       "4  ENSG00000134222     PSRC1          DDA3|FP3214   \n",
       "\n",
       "                           Gene Description       Gene Type  \n",
       "0                   ring finger protein 223  protein-coding  \n",
       "1        solute carrier family 25 member 24  protein-coding  \n",
       "2  fibronectin type III domain containing 7  protein-coding  \n",
       "3                  AKNA domain containing 1  protein-coding  \n",
       "4     proline and serine rich coiled-coil 1  protein-coding  \n",
       "\n",
       "[5 rows x 47 columns]"
      ]
     },
     "execution_count": 5,
     "metadata": {},
     "output_type": "execute_result"
    }
   ],
   "source": [
    "snps2=pd.read_csv(\"/oak/stanford/groups/akundaje/projects/cad/data/clint_data/rasqual_results/revisions/smc/SMC_rasqual_results_FDR_0.05_083121.txt\", sep=\"\\t\", header=0)\n",
    "data[snps2.columns] = data[\"rsid\"].str.split(\",\", expand=True)\n",
    "data[snps2.columns].head()"
   ]
  },
  {
   "cell_type": "code",
   "execution_count": 6,
   "metadata": {},
   "outputs": [],
   "source": [
    "import matplotlib.pyplot as plt"
   ]
  },
  {
   "cell_type": "code",
   "execution_count": 7,
   "metadata": {},
   "outputs": [
    {
     "data": {
      "text/plain": [
       "Index(['chr', 'pos', 'allele1', 'allele2', 'rsid', 'logfc.mean',\n",
       "       'abs_logfc.mean', 'abs_logfc.mean.pval', 'jsd.mean', 'jsd.mean.pval',\n",
       "       'logfc_x_jsd.mean', 'abs_logfc_x_jsd.mean', 'abs_logfc_x_jsd.mean.pval',\n",
       "       'max_percentile.mean', 'max_percentile.mean.pval',\n",
       "       'logfc_x_max_percentile.mean', 'abs_logfc_x_max_percentile.mean',\n",
       "       'abs_logfc_x_max_percentile.mean.pval', 'jsd_x_max_percentile.mean',\n",
       "       'jsd_x_max_percentile.mean.pval',\n",
       "       'abs_logfc_x_jsd_x_max_percentile.mean',\n",
       "       'abs_logfc_x_jsd_x_max_percentile.mean.pval',\n",
       "       'logfc_x_jsd_x_max_percentile.mean', 'Feature_ID', 'rsID', 'Chromosome',\n",
       "       'SNP_position', 'Ref_allele', 'Alt_allele', 'Freq', 'HWE_Chisquare',\n",
       "       'Imp_quality', 'Log10_BH_Q', 'Chisquare', 'Effect_size', 'Delta', 'Phi',\n",
       "       'Overdispersion', 'SNP_id_region', 'Num_feature_SNPs',\n",
       "       'Num_tested_SNPs', 'Num_iterations_null', 'Num_iterations_alt',\n",
       "       'Random_ties', 'Log_likelihood_null', 'Convergence_status',\n",
       "       'Sq_corr_fSNPs', 'Sq_corr_rSNP', 'P', 'q', 'keep', 'PeakID', 'Chr',\n",
       "       'Start', 'End', 'Strand', 'Peak Score', 'Focus Ratio/Region Size',\n",
       "       'Annotation', 'Detailed Annotation', 'Distance to TSS',\n",
       "       'Nearest PromoterID', 'Entrez ID', 'Nearest Unigene', 'Nearest Refseq',\n",
       "       'Nearest Ensembl', 'Gene Name', 'Gene Alias', 'Gene Description',\n",
       "       'Gene Type'],\n",
       "      dtype='object')"
      ]
     },
     "execution_count": 7,
     "metadata": {},
     "output_type": "execute_result"
    }
   ],
   "source": [
    "data.columns"
   ]
  },
  {
   "cell_type": "code",
   "execution_count": 8,
   "metadata": {},
   "outputs": [],
   "source": [
    "import numpy as np\n",
    "data[\"jsd_sign\"] = data[\"jsd.mean\"]*np.sign(data[\"logfc.mean\"])"
   ]
  },
  {
   "cell_type": "code",
   "execution_count": 11,
   "metadata": {},
   "outputs": [
    {
     "data": {
      "text/plain": [
       "<matplotlib.collections.PathCollection at 0x7f584b74d9d0>"
      ]
     },
     "execution_count": 11,
     "metadata": {},
     "output_type": "execute_result"
    },
    {
     "data": {
      "image/png": "[encoded data removed]",
      "text/plain": [
       "<Figure size 432x288 with 1 Axes>"
      ]
     },
     "metadata": {
      "needs_background": "light"
     },
     "output_type": "display_data"
    }
   ],
   "source": [
    "plt.scatter(data[\"jsd_sign\"], data[\"Effect_size\"].astype(float))"
   ]
  },
  {
   "cell_type": "code",
   "execution_count": 10,
   "metadata": {},
   "outputs": [
    {
     "data": {
      "text/plain": [
       "(1984, 71)"
      ]
     },
     "execution_count": 10,
     "metadata": {},
     "output_type": "execute_result"
    }
   ],
   "source": [
    "data.shape"
   ]
  },
  {
   "cell_type": "code",
   "execution_count": 22,
   "metadata": {},
   "outputs": [],
   "source": [
    "orig = pd.read_csv(\"/mnt/lab_data2/anusri/chrombpnet/results/variant_data/smc_caqtls/preds_fold0/snp_scores_bed_format_inpeaks.bed\", sep=\"\\t\", header=None)\n",
    "orig[snps2.columns] = orig[5].str.split(\",\", expand=True)\n",
    "\n",
    "\n",
    "#orig.columns.tolist()"
   ]
  },
  {
   "cell_type": "code",
   "execution_count": 26,
   "metadata": {},
   "outputs": [
    {
     "data": {
      "text/plain": [
       "378"
      ]
     },
     "execution_count": 26,
     "metadata": {},
     "output_type": "execute_result"
    }
   ],
   "source": [
    "len(set(orig[\"rsID\"]))"
   ]
  },
  {
   "cell_type": "code",
   "execution_count": 27,
   "metadata": {},
   "outputs": [
    {
     "data": {
      "text/plain": [
       "(386, 103)"
      ]
     },
     "execution_count": 27,
     "metadata": {},
     "output_type": "execute_result"
    }
   ],
   "source": [
    "orig.shape"
   ]
  },
  {
   "cell_type": "code",
   "execution_count": 30,
   "metadata": {},
   "outputs": [],
   "source": [
    "data_sub = data[data[\"rsID\"].isin(orig[\"rsID\"])].drop_duplicates()"
   ]
  },
  {
   "cell_type": "code",
   "execution_count": 31,
   "metadata": {},
   "outputs": [
    {
     "data": {
      "text/plain": [
       "(386, 71)"
      ]
     },
     "execution_count": 31,
     "metadata": {},
     "output_type": "execute_result"
    }
   ],
   "source": [
    "data_sub.shape"
   ]
  },
  {
   "cell_type": "code",
   "execution_count": 34,
   "metadata": {},
   "outputs": [
    {
     "data": {
      "text/plain": [
       "<matplotlib.collections.PathCollection at 0x7f5846f7cb10>"
      ]
     },
     "execution_count": 34,
     "metadata": {},
     "output_type": "execute_result"
    },
    {
     "data": {
      "image/png": "[encoded data removed]",
      "text/plain": [
       "<Figure size 432x288 with 1 Axes>"
      ]
     },
     "metadata": {
      "needs_background": "light"
     },
     "output_type": "display_data"
    }
   ],
   "source": [
    "plt.scatter(data_sub[\"Effect_size\"].astype(float)-0.5, data_sub[\"c\"])"
   ]
  },
  {
   "cell_type": "code",
   "execution_count": 37,
   "metadata": {},
   "outputs": [],
   "source": [
    "orig1 = pd.read_csv(\"/mnt/lab_data2/anusri/chrombpnet/results/variant_data/smc_caqtls/preds_fold0/snp_scores.tsv\", sep=\"\\t\")"
   ]
  },
  {
   "cell_type": "code",
   "execution_count": 41,
   "metadata": {},
   "outputs": [
    {
     "data": {
      "text/html": [
       "<div>\n",
       "<style scoped>\n",
       "    .dataframe tbody tr th:only-of-type {\n",
       "        vertical-align: middle;\n",
       "    }\n",
       "\n",
       "    .dataframe tbody tr th {\n",
       "        vertical-align: top;\n",
       "    }\n",
       "\n",
       "    .dataframe thead th {\n",
       "        text-align: right;\n",
       "    }\n",
       "</style>\n",
       "<table border=\"1\" class=\"dataframe\">\n",
       "  <thead>\n",
       "    <tr style=\"text-align: right;\">\n",
       "      <th></th>\n",
       "      <th>CHR</th>\n",
       "      <th>POS0</th>\n",
       "      <th>REF</th>\n",
       "      <th>ALT</th>\n",
       "      <th>META_DATA</th>\n",
       "      <th>log_counts_diff</th>\n",
       "      <th>log_probs_diff_abs_sum</th>\n",
       "      <th>probs_jsd_diff</th>\n",
       "    </tr>\n",
       "  </thead>\n",
       "  <tbody>\n",
       "    <tr>\n",
       "      <th>0</th>\n",
       "      <td>chr1</td>\n",
       "      <td>1067006</td>\n",
       "      <td>A</td>\n",
       "      <td>G</td>\n",
       "      <td>chr1.1069225.1069626,rs74048003,chr1,1067007,A...</td>\n",
       "      <td>0.004163</td>\n",
       "      <td>21.698868</td>\n",
       "      <td>0.010776</td>\n",
       "    </tr>\n",
       "    <tr>\n",
       "      <th>1</th>\n",
       "      <td>chr1</td>\n",
       "      <td>108121218</td>\n",
       "      <td>C</td>\n",
       "      <td>G</td>\n",
       "      <td>chr1.108118484.108118885,rs665659,chr1,1081212...</td>\n",
       "      <td>0.031985</td>\n",
       "      <td>43.484390</td>\n",
       "      <td>0.015882</td>\n",
       "    </tr>\n",
       "    <tr>\n",
       "      <th>2</th>\n",
       "      <td>chr1</td>\n",
       "      <td>108721446</td>\n",
       "      <td>C</td>\n",
       "      <td>T</td>\n",
       "      <td>chr1.108721337.108721738,rs4970806,chr1,108721...</td>\n",
       "      <td>0.057148</td>\n",
       "      <td>64.174970</td>\n",
       "      <td>0.027431</td>\n",
       "    </tr>\n",
       "    <tr>\n",
       "      <th>3</th>\n",
       "      <td>chr1</td>\n",
       "      <td>108842307</td>\n",
       "      <td>G</td>\n",
       "      <td>C</td>\n",
       "      <td>chr1.108841698.108842099,rs34272714,chr1,10884...</td>\n",
       "      <td>-0.584036</td>\n",
       "      <td>-177.593690</td>\n",
       "      <td>-0.083053</td>\n",
       "    </tr>\n",
       "    <tr>\n",
       "      <th>4</th>\n",
       "      <td>chr1</td>\n",
       "      <td>109272629</td>\n",
       "      <td>A</td>\n",
       "      <td>G</td>\n",
       "      <td>chr1.109274794.109275195,rs611917,chr1,1092726...</td>\n",
       "      <td>0.040285</td>\n",
       "      <td>18.861065</td>\n",
       "      <td>0.009404</td>\n",
       "    </tr>\n",
       "    <tr>\n",
       "      <th>...</th>\n",
       "      <td>...</td>\n",
       "      <td>...</td>\n",
       "      <td>...</td>\n",
       "      <td>...</td>\n",
       "      <td>...</td>\n",
       "      <td>...</td>\n",
       "      <td>...</td>\n",
       "      <td>...</td>\n",
       "    </tr>\n",
       "    <tr>\n",
       "      <th>1979</th>\n",
       "      <td>chr9</td>\n",
       "      <td>96159156</td>\n",
       "      <td>C</td>\n",
       "      <td>T</td>\n",
       "      <td>chr9.96158892.96159293,rs10989490,chr9,9615915...</td>\n",
       "      <td>-0.186676</td>\n",
       "      <td>-59.410150</td>\n",
       "      <td>-0.030048</td>\n",
       "    </tr>\n",
       "    <tr>\n",
       "      <th>1980</th>\n",
       "      <td>chr9</td>\n",
       "      <td>96178224</td>\n",
       "      <td>G</td>\n",
       "      <td>A</td>\n",
       "      <td>chr9.96177807.96178208,rs13290534,chr9,9617822...</td>\n",
       "      <td>-0.010329</td>\n",
       "      <td>-9.612026</td>\n",
       "      <td>-0.004957</td>\n",
       "    </tr>\n",
       "    <tr>\n",
       "      <th>1981</th>\n",
       "      <td>chr9</td>\n",
       "      <td>97227899</td>\n",
       "      <td>A</td>\n",
       "      <td>T</td>\n",
       "      <td>chr9.97221487.97221888,rs191093948,chr9,972279...</td>\n",
       "      <td>-0.000656</td>\n",
       "      <td>-12.787620</td>\n",
       "      <td>-0.006819</td>\n",
       "    </tr>\n",
       "    <tr>\n",
       "      <th>1982</th>\n",
       "      <td>chr9</td>\n",
       "      <td>98873906</td>\n",
       "      <td>T</td>\n",
       "      <td>C</td>\n",
       "      <td>chr9.98874108.98874509,rs34605975,chr9,9887390...</td>\n",
       "      <td>-0.012841</td>\n",
       "      <td>-10.054989</td>\n",
       "      <td>-0.004247</td>\n",
       "    </tr>\n",
       "    <tr>\n",
       "      <th>1983</th>\n",
       "      <td>chr9</td>\n",
       "      <td>99444663</td>\n",
       "      <td>G</td>\n",
       "      <td>A</td>\n",
       "      <td>chr9.99451356.99451757,rs10441761,chr9,9944466...</td>\n",
       "      <td>0.006634</td>\n",
       "      <td>10.652476</td>\n",
       "      <td>0.006562</td>\n",
       "    </tr>\n",
       "  </tbody>\n",
       "</table>\n",
       "<p>1984 rows × 8 columns</p>\n",
       "</div>"
      ],
      "text/plain": [
       "       CHR       POS0 REF ALT  \\\n",
       "0     chr1    1067006   A   G   \n",
       "1     chr1  108121218   C   G   \n",
       "2     chr1  108721446   C   T   \n",
       "3     chr1  108842307   G   C   \n",
       "4     chr1  109272629   A   G   \n",
       "...    ...        ...  ..  ..   \n",
       "1979  chr9   96159156   C   T   \n",
       "1980  chr9   96178224   G   A   \n",
       "1981  chr9   97227899   A   T   \n",
       "1982  chr9   98873906   T   C   \n",
       "1983  chr9   99444663   G   A   \n",
       "\n",
       "                                              META_DATA  log_counts_diff  \\\n",
       "0     chr1.1069225.1069626,rs74048003,chr1,1067007,A...         0.004163   \n",
       "1     chr1.108118484.108118885,rs665659,chr1,1081212...         0.031985   \n",
       "2     chr1.108721337.108721738,rs4970806,chr1,108721...         0.057148   \n",
       "3     chr1.108841698.108842099,rs34272714,chr1,10884...        -0.584036   \n",
       "4     chr1.109274794.109275195,rs611917,chr1,1092726...         0.040285   \n",
       "...                                                 ...              ...   \n",
       "1979  chr9.96158892.96159293,rs10989490,chr9,9615915...        -0.186676   \n",
       "1980  chr9.96177807.96178208,rs13290534,chr9,9617822...        -0.010329   \n",
       "1981  chr9.97221487.97221888,rs191093948,chr9,972279...        -0.000656   \n",
       "1982  chr9.98874108.98874509,rs34605975,chr9,9887390...        -0.012841   \n",
       "1983  chr9.99451356.99451757,rs10441761,chr9,9944466...         0.006634   \n",
       "\n",
       "      log_probs_diff_abs_sum  probs_jsd_diff  \n",
       "0                  21.698868        0.010776  \n",
       "1                  43.484390        0.015882  \n",
       "2                  64.174970        0.027431  \n",
       "3                -177.593690       -0.083053  \n",
       "4                  18.861065        0.009404  \n",
       "...                      ...             ...  \n",
       "1979              -59.410150       -0.030048  \n",
       "1980               -9.612026       -0.004957  \n",
       "1981              -12.787620       -0.006819  \n",
       "1982              -10.054989       -0.004247  \n",
       "1983               10.652476        0.006562  \n",
       "\n",
       "[1984 rows x 8 columns]"
      ]
     },
     "execution_count": 41,
     "metadata": {},
     "output_type": "execute_result"
    }
   ],
   "source": [
    "orig1"
   ]
  },
  {
   "cell_type": "code",
   "execution_count": 39,
   "metadata": {},
   "outputs": [],
   "source": [
    "new1 = pd.read_csv(\"/mnt/lab_data2/anusri/variant-scorer/src/output/smc_caqtls/ATAC_sig_only/fold_0.variant_scores.tsv.variant_scores.tsv\", sep=\"\\t\")"
   ]
  },
  {
   "cell_type": "code",
   "execution_count": 40,
   "metadata": {},
   "outputs": [
    {
     "data": {
      "text/html": [
       "<div>\n",
       "<style scoped>\n",
       "    .dataframe tbody tr th:only-of-type {\n",
       "        vertical-align: middle;\n",
       "    }\n",
       "\n",
       "    .dataframe tbody tr th {\n",
       "        vertical-align: top;\n",
       "    }\n",
       "\n",
       "    .dataframe thead th {\n",
       "        text-align: right;\n",
       "    }\n",
       "</style>\n",
       "<table border=\"1\" class=\"dataframe\">\n",
       "  <thead>\n",
       "    <tr style=\"text-align: right;\">\n",
       "      <th></th>\n",
       "      <th>chr</th>\n",
       "      <th>pos</th>\n",
       "      <th>allele1</th>\n",
       "      <th>allele2</th>\n",
       "      <th>rsid</th>\n",
       "      <th>allele1_pred_counts</th>\n",
       "      <th>allele2_pred_counts</th>\n",
       "      <th>logfc</th>\n",
       "      <th>abs_logfc</th>\n",
       "      <th>jsd</th>\n",
       "      <th>...</th>\n",
       "      <th>percentile_change</th>\n",
       "      <th>abs_percentile_change</th>\n",
       "      <th>abs_logfc_x_max_percentile</th>\n",
       "      <th>jsd_x_max_percentile</th>\n",
       "      <th>abs_logfc_x_jsd_x_max_percentile</th>\n",
       "      <th>max_percentile.pval</th>\n",
       "      <th>abs_percentile_change.pval</th>\n",
       "      <th>abs_logfc_x_max_percentile.pval</th>\n",
       "      <th>jsd_x_max_percentile.pval</th>\n",
       "      <th>abs_logfc_x_jsd_x_max_percentile.pval</th>\n",
       "    </tr>\n",
       "  </thead>\n",
       "  <tbody>\n",
       "    <tr>\n",
       "      <th>0</th>\n",
       "      <td>chr1</td>\n",
       "      <td>1067006</td>\n",
       "      <td>A</td>\n",
       "      <td>G</td>\n",
       "      <td>chr1.1069225.1069626,rs74048003,chr1,1067007,A...</td>\n",
       "      <td>2875.01170</td>\n",
       "      <td>2915.42290</td>\n",
       "      <td>0.020137</td>\n",
       "      <td>0.020137</td>\n",
       "      <td>0.010118</td>\n",
       "      <td>...</td>\n",
       "      <td>0.003275</td>\n",
       "      <td>0.003275</td>\n",
       "      <td>0.015014</td>\n",
       "      <td>0.007544</td>\n",
       "      <td>1.519090e-04</td>\n",
       "      <td>0.059406</td>\n",
       "      <td>0.455446</td>\n",
       "      <td>0.227723</td>\n",
       "      <td>0.118812</td>\n",
       "      <td>0.257426</td>\n",
       "    </tr>\n",
       "    <tr>\n",
       "      <th>1</th>\n",
       "      <td>chr1</td>\n",
       "      <td>108121218</td>\n",
       "      <td>C</td>\n",
       "      <td>G</td>\n",
       "      <td>chr1.108118484.108118885,rs665659,chr1,1081212...</td>\n",
       "      <td>1423.06850</td>\n",
       "      <td>1454.19570</td>\n",
       "      <td>0.031216</td>\n",
       "      <td>0.031216</td>\n",
       "      <td>0.012827</td>\n",
       "      <td>...</td>\n",
       "      <td>0.007763</td>\n",
       "      <td>0.007763</td>\n",
       "      <td>0.016589</td>\n",
       "      <td>0.006817</td>\n",
       "      <td>2.127885e-04</td>\n",
       "      <td>0.168317</td>\n",
       "      <td>0.267327</td>\n",
       "      <td>0.207921</td>\n",
       "      <td>0.118812</td>\n",
       "      <td>0.217822</td>\n",
       "    </tr>\n",
       "    <tr>\n",
       "      <th>2</th>\n",
       "      <td>chr1</td>\n",
       "      <td>108721446</td>\n",
       "      <td>C</td>\n",
       "      <td>T</td>\n",
       "      <td>chr1.108721337.108721738,rs4970806,chr1,108721...</td>\n",
       "      <td>1221.47170</td>\n",
       "      <td>1020.22780</td>\n",
       "      <td>-0.259729</td>\n",
       "      <td>0.259729</td>\n",
       "      <td>0.029336</td>\n",
       "      <td>...</td>\n",
       "      <td>-0.060784</td>\n",
       "      <td>0.060784</td>\n",
       "      <td>0.122927</td>\n",
       "      <td>0.013885</td>\n",
       "      <td>3.606239e-03</td>\n",
       "      <td>0.178218</td>\n",
       "      <td>0.059406</td>\n",
       "      <td>0.059406</td>\n",
       "      <td>0.059406</td>\n",
       "      <td>0.049505</td>\n",
       "    </tr>\n",
       "    <tr>\n",
       "      <th>3</th>\n",
       "      <td>chr1</td>\n",
       "      <td>108842307</td>\n",
       "      <td>G</td>\n",
       "      <td>C</td>\n",
       "      <td>chr1.108841698.108842099,rs34272714,chr1,10884...</td>\n",
       "      <td>686.11444</td>\n",
       "      <td>707.31396</td>\n",
       "      <td>0.043902</td>\n",
       "      <td>0.043902</td>\n",
       "      <td>0.016056</td>\n",
       "      <td>...</td>\n",
       "      <td>0.008180</td>\n",
       "      <td>0.008180</td>\n",
       "      <td>0.013167</td>\n",
       "      <td>0.004816</td>\n",
       "      <td>2.114165e-04</td>\n",
       "      <td>0.306931</td>\n",
       "      <td>0.247525</td>\n",
       "      <td>0.257426</td>\n",
       "      <td>0.227723</td>\n",
       "      <td>0.217822</td>\n",
       "    </tr>\n",
       "    <tr>\n",
       "      <th>4</th>\n",
       "      <td>chr1</td>\n",
       "      <td>109272629</td>\n",
       "      <td>A</td>\n",
       "      <td>G</td>\n",
       "      <td>chr1.109274794.109275195,rs611917,chr1,1092726...</td>\n",
       "      <td>1569.47630</td>\n",
       "      <td>1500.74940</td>\n",
       "      <td>-0.064600</td>\n",
       "      <td>0.064600</td>\n",
       "      <td>0.014030</td>\n",
       "      <td>...</td>\n",
       "      <td>-0.015092</td>\n",
       "      <td>0.015092</td>\n",
       "      <td>0.035985</td>\n",
       "      <td>0.007815</td>\n",
       "      <td>5.048795e-04</td>\n",
       "      <td>0.148515</td>\n",
       "      <td>0.168317</td>\n",
       "      <td>0.108911</td>\n",
       "      <td>0.118812</td>\n",
       "      <td>0.158416</td>\n",
       "    </tr>\n",
       "    <tr>\n",
       "      <th>...</th>\n",
       "      <td>...</td>\n",
       "      <td>...</td>\n",
       "      <td>...</td>\n",
       "      <td>...</td>\n",
       "      <td>...</td>\n",
       "      <td>...</td>\n",
       "      <td>...</td>\n",
       "      <td>...</td>\n",
       "      <td>...</td>\n",
       "      <td>...</td>\n",
       "      <td>...</td>\n",
       "      <td>...</td>\n",
       "      <td>...</td>\n",
       "      <td>...</td>\n",
       "      <td>...</td>\n",
       "      <td>...</td>\n",
       "      <td>...</td>\n",
       "      <td>...</td>\n",
       "      <td>...</td>\n",
       "      <td>...</td>\n",
       "      <td>...</td>\n",
       "    </tr>\n",
       "    <tr>\n",
       "      <th>1979</th>\n",
       "      <td>chr9</td>\n",
       "      <td>96159156</td>\n",
       "      <td>C</td>\n",
       "      <td>T</td>\n",
       "      <td>chr9.96158892.96159293,rs10989490,chr9,9615915...</td>\n",
       "      <td>801.73620</td>\n",
       "      <td>610.06824</td>\n",
       "      <td>-0.394157</td>\n",
       "      <td>0.394157</td>\n",
       "      <td>0.022057</td>\n",
       "      <td>...</td>\n",
       "      <td>-0.076597</td>\n",
       "      <td>0.076597</td>\n",
       "      <td>0.132497</td>\n",
       "      <td>0.007415</td>\n",
       "      <td>2.922521e-03</td>\n",
       "      <td>0.287129</td>\n",
       "      <td>0.049505</td>\n",
       "      <td>0.059406</td>\n",
       "      <td>0.118812</td>\n",
       "      <td>0.059406</td>\n",
       "    </tr>\n",
       "    <tr>\n",
       "      <th>1980</th>\n",
       "      <td>chr9</td>\n",
       "      <td>96178224</td>\n",
       "      <td>G</td>\n",
       "      <td>A</td>\n",
       "      <td>chr9.96177807.96178208,rs13290534,chr9,9617822...</td>\n",
       "      <td>652.00160</td>\n",
       "      <td>634.74410</td>\n",
       "      <td>-0.038700</td>\n",
       "      <td>0.038700</td>\n",
       "      <td>0.009030</td>\n",
       "      <td>...</td>\n",
       "      <td>-0.007034</td>\n",
       "      <td>0.007034</td>\n",
       "      <td>0.010733</td>\n",
       "      <td>0.002504</td>\n",
       "      <td>9.692000e-05</td>\n",
       "      <td>0.306931</td>\n",
       "      <td>0.287129</td>\n",
       "      <td>0.287129</td>\n",
       "      <td>0.495050</td>\n",
       "      <td>0.336634</td>\n",
       "    </tr>\n",
       "    <tr>\n",
       "      <th>1981</th>\n",
       "      <td>chr9</td>\n",
       "      <td>97227899</td>\n",
       "      <td>A</td>\n",
       "      <td>T</td>\n",
       "      <td>chr9.97221487.97221888,rs191093948,chr9,972279...</td>\n",
       "      <td>123.24780</td>\n",
       "      <td>124.43193</td>\n",
       "      <td>0.013795</td>\n",
       "      <td>0.013795</td>\n",
       "      <td>0.006632</td>\n",
       "      <td>...</td>\n",
       "      <td>0.000368</td>\n",
       "      <td>0.000368</td>\n",
       "      <td>0.000135</td>\n",
       "      <td>0.000065</td>\n",
       "      <td>8.922109e-07</td>\n",
       "      <td>0.920792</td>\n",
       "      <td>0.881188</td>\n",
       "      <td>0.940594</td>\n",
       "      <td>0.940594</td>\n",
       "      <td>0.960396</td>\n",
       "    </tr>\n",
       "    <tr>\n",
       "      <th>1982</th>\n",
       "      <td>chr9</td>\n",
       "      <td>98873906</td>\n",
       "      <td>T</td>\n",
       "      <td>C</td>\n",
       "      <td>chr9.98874108.98874509,rs34605975,chr9,9887390...</td>\n",
       "      <td>4753.75500</td>\n",
       "      <td>4628.65800</td>\n",
       "      <td>-0.038473</td>\n",
       "      <td>0.038473</td>\n",
       "      <td>0.007962</td>\n",
       "      <td>...</td>\n",
       "      <td>-0.004594</td>\n",
       "      <td>0.004594</td>\n",
       "      <td>0.032622</td>\n",
       "      <td>0.006751</td>\n",
       "      <td>2.597451e-04</td>\n",
       "      <td>0.039604</td>\n",
       "      <td>0.376238</td>\n",
       "      <td>0.118812</td>\n",
       "      <td>0.118812</td>\n",
       "      <td>0.207921</td>\n",
       "    </tr>\n",
       "    <tr>\n",
       "      <th>1983</th>\n",
       "      <td>chr9</td>\n",
       "      <td>99444663</td>\n",
       "      <td>G</td>\n",
       "      <td>A</td>\n",
       "      <td>chr9.99451356.99451757,rs10441761,chr9,9944466...</td>\n",
       "      <td>192.23920</td>\n",
       "      <td>246.15536</td>\n",
       "      <td>0.356667</td>\n",
       "      <td>0.356667</td>\n",
       "      <td>0.065092</td>\n",
       "      <td>...</td>\n",
       "      <td>0.032902</td>\n",
       "      <td>0.032902</td>\n",
       "      <td>0.027506</td>\n",
       "      <td>0.005020</td>\n",
       "      <td>1.790455e-03</td>\n",
       "      <td>0.792079</td>\n",
       "      <td>0.059406</td>\n",
       "      <td>0.148515</td>\n",
       "      <td>0.217822</td>\n",
       "      <td>0.059406</td>\n",
       "    </tr>\n",
       "  </tbody>\n",
       "</table>\n",
       "<p>1984 rows × 28 columns</p>\n",
       "</div>"
      ],
      "text/plain": [
       "       chr        pos allele1 allele2  \\\n",
       "0     chr1    1067006       A       G   \n",
       "1     chr1  108121218       C       G   \n",
       "2     chr1  108721446       C       T   \n",
       "3     chr1  108842307       G       C   \n",
       "4     chr1  109272629       A       G   \n",
       "...    ...        ...     ...     ...   \n",
       "1979  chr9   96159156       C       T   \n",
       "1980  chr9   96178224       G       A   \n",
       "1981  chr9   97227899       A       T   \n",
       "1982  chr9   98873906       T       C   \n",
       "1983  chr9   99444663       G       A   \n",
       "\n",
       "                                                   rsid  allele1_pred_counts  \\\n",
       "0     chr1.1069225.1069626,rs74048003,chr1,1067007,A...           2875.01170   \n",
       "1     chr1.108118484.108118885,rs665659,chr1,1081212...           1423.06850   \n",
       "2     chr1.108721337.108721738,rs4970806,chr1,108721...           1221.47170   \n",
       "3     chr1.108841698.108842099,rs34272714,chr1,10884...            686.11444   \n",
       "4     chr1.109274794.109275195,rs611917,chr1,1092726...           1569.47630   \n",
       "...                                                 ...                  ...   \n",
       "1979  chr9.96158892.96159293,rs10989490,chr9,9615915...            801.73620   \n",
       "1980  chr9.96177807.96178208,rs13290534,chr9,9617822...            652.00160   \n",
       "1981  chr9.97221487.97221888,rs191093948,chr9,972279...            123.24780   \n",
       "1982  chr9.98874108.98874509,rs34605975,chr9,9887390...           4753.75500   \n",
       "1983  chr9.99451356.99451757,rs10441761,chr9,9944466...            192.23920   \n",
       "\n",
       "      allele2_pred_counts     logfc  abs_logfc       jsd  ...  \\\n",
       "0              2915.42290  0.020137   0.020137  0.010118  ...   \n",
       "1              1454.19570  0.031216   0.031216  0.012827  ...   \n",
       "2              1020.22780 -0.259729   0.259729  0.029336  ...   \n",
       "3               707.31396  0.043902   0.043902  0.016056  ...   \n",
       "4              1500.74940 -0.064600   0.064600  0.014030  ...   \n",
       "...                   ...       ...        ...       ...  ...   \n",
       "1979            610.06824 -0.394157   0.394157  0.022057  ...   \n",
       "1980            634.74410 -0.038700   0.038700  0.009030  ...   \n",
       "1981            124.43193  0.013795   0.013795  0.006632  ...   \n",
       "1982           4628.65800 -0.038473   0.038473  0.007962  ...   \n",
       "1983            246.15536  0.356667   0.356667  0.065092  ...   \n",
       "\n",
       "      percentile_change  abs_percentile_change  abs_logfc_x_max_percentile  \\\n",
       "0              0.003275               0.003275                    0.015014   \n",
       "1              0.007763               0.007763                    0.016589   \n",
       "2             -0.060784               0.060784                    0.122927   \n",
       "3              0.008180               0.008180                    0.013167   \n",
       "4             -0.015092               0.015092                    0.035985   \n",
       "...                 ...                    ...                         ...   \n",
       "1979          -0.076597               0.076597                    0.132497   \n",
       "1980          -0.007034               0.007034                    0.010733   \n",
       "1981           0.000368               0.000368                    0.000135   \n",
       "1982          -0.004594               0.004594                    0.032622   \n",
       "1983           0.032902               0.032902                    0.027506   \n",
       "\n",
       "      jsd_x_max_percentile  abs_logfc_x_jsd_x_max_percentile  \\\n",
       "0                 0.007544                      1.519090e-04   \n",
       "1                 0.006817                      2.127885e-04   \n",
       "2                 0.013885                      3.606239e-03   \n",
       "3                 0.004816                      2.114165e-04   \n",
       "4                 0.007815                      5.048795e-04   \n",
       "...                    ...                               ...   \n",
       "1979              0.007415                      2.922521e-03   \n",
       "1980              0.002504                      9.692000e-05   \n",
       "1981              0.000065                      8.922109e-07   \n",
       "1982              0.006751                      2.597451e-04   \n",
       "1983              0.005020                      1.790455e-03   \n",
       "\n",
       "      max_percentile.pval  abs_percentile_change.pval  \\\n",
       "0                0.059406                    0.455446   \n",
       "1                0.168317                    0.267327   \n",
       "2                0.178218                    0.059406   \n",
       "3                0.306931                    0.247525   \n",
       "4                0.148515                    0.168317   \n",
       "...                   ...                         ...   \n",
       "1979             0.287129                    0.049505   \n",
       "1980             0.306931                    0.287129   \n",
       "1981             0.920792                    0.881188   \n",
       "1982             0.039604                    0.376238   \n",
       "1983             0.792079                    0.059406   \n",
       "\n",
       "      abs_logfc_x_max_percentile.pval  jsd_x_max_percentile.pval  \\\n",
       "0                            0.227723                   0.118812   \n",
       "1                            0.207921                   0.118812   \n",
       "2                            0.059406                   0.059406   \n",
       "3                            0.257426                   0.227723   \n",
       "4                            0.108911                   0.118812   \n",
       "...                               ...                        ...   \n",
       "1979                         0.059406                   0.118812   \n",
       "1980                         0.287129                   0.495050   \n",
       "1981                         0.940594                   0.940594   \n",
       "1982                         0.118812                   0.118812   \n",
       "1983                         0.148515                   0.217822   \n",
       "\n",
       "      abs_logfc_x_jsd_x_max_percentile.pval  \n",
       "0                                  0.257426  \n",
       "1                                  0.217822  \n",
       "2                                  0.049505  \n",
       "3                                  0.217822  \n",
       "4                                  0.158416  \n",
       "...                                     ...  \n",
       "1979                               0.059406  \n",
       "1980                               0.336634  \n",
       "1981                               0.960396  \n",
       "1982                               0.207921  \n",
       "1983                               0.059406  \n",
       "\n",
       "[1984 rows x 28 columns]"
      ]
     },
     "execution_count": 40,
     "metadata": {},
     "output_type": "execute_result"
    }
   ],
   "source": [
    "new1"
   ]
  },
  {
   "cell_type": "code",
   "execution_count": 42,
   "metadata": {},
   "outputs": [
    {
     "data": {
      "text/plain": [
       "<matplotlib.collections.PathCollection at 0x7f5846f27050>"
      ]
     },
     "execution_count": 42,
     "metadata": {},
     "output_type": "execute_result"
    },
    {
     "data": {
      "image/png": "[encoded data removed]",
      "text/plain": [
       "<Figure size 432x288 with 1 Axes>"
      ]
     },
     "metadata": {
      "needs_background": "light"
     },
     "output_type": "display_data"
    }
   ],
   "source": [
    "plt.scatter(orig1[\"log_counts_diff\"], new1[\"logfc\"])"
   ]
  },
  {
   "cell_type": "code",
   "execution_count": 44,
   "metadata": {},
   "outputs": [
    {
     "data": {
      "text/plain": [
       "<matplotlib.collections.PathCollection at 0x7f58469e5310>"
      ]
     },
     "execution_count": 44,
     "metadata": {},
     "output_type": "execute_result"
    },
    {
     "data": {
      "image/png": "[encoded data removed]",
      "text/plain": [
       "<Figure size 432x288 with 1 Axes>"
      ]
     },
     "metadata": {
      "needs_background": "light"
     },
     "output_type": "display_data"
    }
   ],
   "source": [
    "plt.scatter(np.abs(orig1[\"probs_jsd_diff\"]), new1[\"jsd\"])"
   ]
  },
  {
   "cell_type": "code",
   "execution_count": 47,
   "metadata": {},
   "outputs": [
    {
     "data": {
      "text/plain": [
       "<matplotlib.collections.PathCollection at 0x7f584696b450>"
      ]
     },
     "execution_count": 47,
     "metadata": {},
     "output_type": "execute_result"
    },
    {
     "data": {
      "image/png": "[encoded data removed]",
      "text/plain": [
       "<Figure size 432x288 with 1 Axes>"
      ]
     },
     "metadata": {
      "needs_background": "light"
     },
     "output_type": "display_data"
    }
   ],
   "source": [
    "plt.scatter(data[\"Effect_size\"].astype(float)-0.5, orig1[\"probs_jsd_diff\"])"
   ]
  },
  {
   "cell_type": "code",
   "execution_count": 49,
   "metadata": {},
   "outputs": [
    {
     "data": {
      "text/plain": [
       "<matplotlib.collections.PathCollection at 0x7f584686a490>"
      ]
     },
     "execution_count": 49,
     "metadata": {},
     "output_type": "execute_result"
    },
    {
     "data": {
      "image/png": "[encoded data removed]",
      "text/plain": [
       "<Figure size 432x288 with 1 Axes>"
      ]
     },
     "metadata": {
      "needs_background": "light"
     },
     "output_type": "display_data"
    }
   ],
   "source": [
    "plt.scatter(data[\"Effect_size\"].astype(float)-0.5, data[\"jsd_sign\"]*-1)"
   ]
  },
  {
   "cell_type": "code",
   "execution_count": 52,
   "metadata": {},
   "outputs": [
    {
     "data": {
      "text/plain": [
       "<matplotlib.collections.PathCollection at 0x7f58466bc050>"
      ]
     },
     "execution_count": 52,
     "metadata": {},
     "output_type": "execute_result"
    },
    {
     "data": {
      "image/png": "[encoded data removed]",
      "text/plain": [
       "<Figure size 432x288 with 1 Axes>"
      ]
     },
     "metadata": {
      "needs_background": "light"
     },
     "output_type": "display_data"
    }
   ],
   "source": [
    "plt.scatter(data[\"jsd_sign\"].astype(float), orig1[\"probs_jsd_diff\"])"
   ]
  },
  {
   "cell_type": "code",
   "execution_count": 53,
   "metadata": {},
   "outputs": [],
   "source": [
    "import scipy.stats "
   ]
  },
  {
   "cell_type": "code",
   "execution_count": 54,
   "metadata": {},
   "outputs": [
    {
     "data": {
      "text/plain": [
       "(0.2759389438584132, 5.3032321012145504e-36)"
      ]
     },
     "execution_count": 54,
     "metadata": {},
     "output_type": "execute_result"
    }
   ],
   "source": [
    "scipy.stats.pearsonr(data[\"jsd_sign\"].astype(float), orig1[\"probs_jsd_diff\"]) "
   ]
  },
  {
   "cell_type": "code",
   "execution_count": 55,
   "metadata": {},
   "outputs": [
    {
     "data": {
      "text/plain": [
       "(0.36329326141682444, 5.937776945644532e-63)"
      ]
     },
     "execution_count": 55,
     "metadata": {},
     "output_type": "execute_result"
    }
   ],
   "source": [
    "scipy.stats.pearsonr(data[\"Effect_size\"].astype(float), orig1[\"probs_jsd_diff\"]) "
   ]
  },
  {
   "cell_type": "code",
   "execution_count": 57,
   "metadata": {},
   "outputs": [
    {
     "data": {
      "text/plain": [
       "(0.08573277909843935, 0.00013164877878463278)"
      ]
     },
     "execution_count": 57,
     "metadata": {},
     "output_type": "execute_result"
    }
   ],
   "source": [
    "scipy.stats.pearsonr(data[\"Effect_size\"].astype(float), data[\"jsd_sign\"]) "
   ]
  },
  {
   "cell_type": "code",
   "execution_count": null,
   "metadata": {},
   "outputs": [],
   "source": []
  }
 ],
 "metadata": {
  "kernelspec": {
   "display_name": "Python 3",
   "language": "python",
   "name": "python3"
  },
  "language_info": {
   "codemirror_mode": {
    "name": "ipython",
    "version": 3
   },
   "file_extension": ".py",
   "mimetype": "text/x-python",
   "name": "python",
   "nbconvert_exporter": "python",
   "pygments_lexer": "ipython3",
   "version": "3.7.6"
  }
 },
 "nbformat": 4,
 "nbformat_minor": 4
}
