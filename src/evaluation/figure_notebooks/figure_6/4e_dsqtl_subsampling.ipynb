{
 "cells": [
  {
   "cell_type": "code",
   "execution_count": 1,
   "metadata": {},
   "outputs": [],
   "source": [
    "import pandas as pd\n",
    "from sklearn.metrics import precision_recall_curve\n",
    "from sklearn.metrics import roc_curve\n",
    "from sklearn.metrics import RocCurveDisplay\n",
    "import pandas as pd\n",
    "import matplotlib.pyplot as plt\n",
    "import numpy as np\n",
    "from sklearn import metrics\n",
    "import matplotlib.pyplot as plt\n",
    "import matplotlib\n",
    "import random\n",
    "import os\n",
    "import argparse\n",
    "from sklearn.metrics import precision_recall_curve\n",
    "\n",
    "matplotlib.rcParams['pdf.fonttype'] = 42\n",
    "matplotlib.rcParams['ps.fonttype'] = 42 \n",
    "\n",
    "# dnase_preds=\"/mnt/lab_data2/anusri/chrombpnet/results/chrombpnet/DNASE_SE/GM12878/nautilus_runs/GM12878_03.06.2022_bias_128_4_1234_0.8_fold_0/dsqtl_preds/snp_scores.tsv\"\n",
    "# atac_preds=\"/mnt/lab_data2/anusri/chrombpnet/results/chrombpnet/ATAC_PE/GM12878/nautilus_runs/GM12878_03.01.2022_bias_128_4_1234_0.4_fold_0/dsqtl_preds/snp_scores.tsv\"\n",
    "# atac_preds_250m=\"/mnt/lab_data2/anusri/chrombpnet/results/chrombpnet/ATAC_PE/GM12878/subsampling/GM12878_250M/dsqtl_preds/snp_scores.tsv\"\n",
    "# atac_preds_100m=\"/mnt/lab_data2/anusri/chrombpnet/results/chrombpnet/ATAC_PE/GM12878/subsampling/GM12878_100M/dsqtl_preds/snp_scores.tsv\"\n",
    "# atac_preds_50m=\"/mnt/lab_data2/anusri/chrombpnet/results/chrombpnet/ATAC_PE/GM12878/subsampling/GM12878_50M/dsqtl_preds/snp_scores.tsv\"\n",
    "# atac_preds_25m=\"/mnt/lab_data2/anusri/chrombpnet/results/chrombpnet/ATAC_PE/GM12878/subsampling/GM12878_25M/dsqtl_preds/snp_scores.tsv\"\n",
    "# atac_preds_5m=\"/mnt/lab_data2/anusri/chrombpnet/results/chrombpnet/ATAC_PE/GM12878/subsampling/GM12878_5M/dsqtl_preds/snp_scores.tsv\"\n",
    "\n",
    "main_dir=\"/mnt/lab_data2/anusri/variant-scorer/src/output/dsqtls_lcl/\"\n",
    "dnase_preds=main_dir+\"DNASE/summary.mean.variant_scores_new_2.tsv\"\n",
    "atac_preds=main_dir+\"ATAC/summary.mean.variant_scores_new_2.tsv\"\n",
    "atac_preds_250m=main_dir+\"ATAC_250M/summary.mean.variant_scores_new_2.tsv\"\n",
    "atac_preds_100m=main_dir+\"ATAC_100M/summary.mean.variant_scores_new_2.tsv\"\n",
    "atac_preds_50m=main_dir+\"ATAC_50M/summary.mean.variant_scores_new_2.tsv\"\n",
    "atac_preds_25m=main_dir+\"ATAC_25M/summary.mean.variant_scores_new_2.tsv\"\n",
    "atac_preds_5m=main_dir+\"ATAC_5M/summary.mean.variant_scores_new_2.tsv\"\n",
    "gkm_svm = pd.read_csv(\"/mnt/lab_data3/anusri/histone_expts/all_qtl_analysis/gm12878_sequence_sets/test_set/deltasv,/41588_2015_BFng3331_MOESM26_ESM.csv\",header=0,sep=',')"
   ]
  },
  {
   "cell_type": "code",
   "execution_count": 2,
   "metadata": {},
   "outputs": [
    {
     "data": {
      "text/html": [
       "<div>\n",
       "<style scoped>\n",
       "    .dataframe tbody tr th:only-of-type {\n",
       "        vertical-align: middle;\n",
       "    }\n",
       "\n",
       "    .dataframe tbody tr th {\n",
       "        vertical-align: top;\n",
       "    }\n",
       "\n",
       "    .dataframe thead th {\n",
       "        text-align: right;\n",
       "    }\n",
       "</style>\n",
       "<table border=\"1\" class=\"dataframe\">\n",
       "  <thead>\n",
       "    <tr style=\"text-align: right;\">\n",
       "      <th></th>\n",
       "      <th>chrom_hg18</th>\n",
       "      <th>pos_hg18</th>\n",
       "      <th>SNPname1</th>\n",
       "      <th>chrom_hg19</th>\n",
       "      <th>pos_hg19</th>\n",
       "      <th>SNPname2</th>\n",
       "      <th>allele1</th>\n",
       "      <th>allele2</th>\n",
       "      <th>gkm_SVM</th>\n",
       "      <th>kmer_SVM</th>\n",
       "      <th>abs_gkm_SVM</th>\n",
       "      <th>abs_kmer_SVM</th>\n",
       "      <th>CADD</th>\n",
       "      <th>GWAVA_region</th>\n",
       "      <th>GWAVA_tss</th>\n",
       "      <th>GWAVA_unmatched</th>\n",
       "      <th>GERP</th>\n",
       "      <th>label</th>\n",
       "    </tr>\n",
       "  </thead>\n",
       "  <tbody>\n",
       "    <tr>\n",
       "      <th>0</th>\n",
       "      <td>chr1</td>\n",
       "      <td>846446</td>\n",
       "      <td>chr1.846446</td>\n",
       "      <td>chr1</td>\n",
       "      <td>856583</td>\n",
       "      <td>rs141671872</td>\n",
       "      <td>A</td>\n",
       "      <td>G</td>\n",
       "      <td>2.653531</td>\n",
       "      <td>7.938784</td>\n",
       "      <td>2.653531</td>\n",
       "      <td>7.938784</td>\n",
       "      <td>-1.522533</td>\n",
       "      <td>0.48</td>\n",
       "      <td>0.53</td>\n",
       "      <td>0.75</td>\n",
       "      <td>-0.682</td>\n",
       "      <td>1</td>\n",
       "    </tr>\n",
       "    <tr>\n",
       "      <th>1</th>\n",
       "      <td>chr1</td>\n",
       "      <td>901458</td>\n",
       "      <td>chr1.901458</td>\n",
       "      <td>chr1</td>\n",
       "      <td>911595</td>\n",
       "      <td>rs7417106</td>\n",
       "      <td>G</td>\n",
       "      <td>A</td>\n",
       "      <td>2.821422</td>\n",
       "      <td>6.027648</td>\n",
       "      <td>2.821422</td>\n",
       "      <td>6.027648</td>\n",
       "      <td>1.739152</td>\n",
       "      <td>0.29</td>\n",
       "      <td>0.36</td>\n",
       "      <td>0.89</td>\n",
       "      <td>2.150</td>\n",
       "      <td>1</td>\n",
       "    </tr>\n",
       "    <tr>\n",
       "      <th>2</th>\n",
       "      <td>chr1</td>\n",
       "      <td>1176365</td>\n",
       "      <td>chr1.1176365</td>\n",
       "      <td>chr1</td>\n",
       "      <td>1186502</td>\n",
       "      <td>rs6603785</td>\n",
       "      <td>T</td>\n",
       "      <td>A</td>\n",
       "      <td>-7.167236</td>\n",
       "      <td>-10.870018</td>\n",
       "      <td>7.167236</td>\n",
       "      <td>10.870018</td>\n",
       "      <td>-0.091378</td>\n",
       "      <td>0.42</td>\n",
       "      <td>0.49</td>\n",
       "      <td>0.66</td>\n",
       "      <td>0.451</td>\n",
       "      <td>1</td>\n",
       "    </tr>\n",
       "    <tr>\n",
       "      <th>3</th>\n",
       "      <td>chr1</td>\n",
       "      <td>1217275</td>\n",
       "      <td>chr1.1217275</td>\n",
       "      <td>chr1</td>\n",
       "      <td>1227412</td>\n",
       "      <td>rs112571439</td>\n",
       "      <td>A</td>\n",
       "      <td>G</td>\n",
       "      <td>-3.957382</td>\n",
       "      <td>2.387491</td>\n",
       "      <td>3.957382</td>\n",
       "      <td>2.387491</td>\n",
       "      <td>1.127472</td>\n",
       "      <td>0.34</td>\n",
       "      <td>0.43</td>\n",
       "      <td>0.49</td>\n",
       "      <td>2.430</td>\n",
       "      <td>1</td>\n",
       "    </tr>\n",
       "    <tr>\n",
       "      <th>4</th>\n",
       "      <td>chr1</td>\n",
       "      <td>1580438</td>\n",
       "      <td>chr1.1580438</td>\n",
       "      <td>chr1</td>\n",
       "      <td>1590575</td>\n",
       "      <td>rs9661285</td>\n",
       "      <td>A</td>\n",
       "      <td>G</td>\n",
       "      <td>-4.785596</td>\n",
       "      <td>-6.827102</td>\n",
       "      <td>4.785596</td>\n",
       "      <td>6.827102</td>\n",
       "      <td>0.665464</td>\n",
       "      <td>0.38</td>\n",
       "      <td>0.35</td>\n",
       "      <td>0.86</td>\n",
       "      <td>1.640</td>\n",
       "      <td>1</td>\n",
       "    </tr>\n",
       "  </tbody>\n",
       "</table>\n",
       "</div>"
      ],
      "text/plain": [
       "  chrom_hg18  pos_hg18      SNPname1 chrom_hg19  pos_hg19     SNPname2  \\\n",
       "0       chr1    846446   chr1.846446       chr1    856583  rs141671872   \n",
       "1       chr1    901458   chr1.901458       chr1    911595    rs7417106   \n",
       "2       chr1   1176365  chr1.1176365       chr1   1186502    rs6603785   \n",
       "3       chr1   1217275  chr1.1217275       chr1   1227412  rs112571439   \n",
       "4       chr1   1580438  chr1.1580438       chr1   1590575    rs9661285   \n",
       "\n",
       "  allele1 allele2   gkm_SVM   kmer_SVM  abs_gkm_SVM  abs_kmer_SVM      CADD  \\\n",
       "0       A       G  2.653531   7.938784     2.653531      7.938784 -1.522533   \n",
       "1       G       A  2.821422   6.027648     2.821422      6.027648  1.739152   \n",
       "2       T       A -7.167236 -10.870018     7.167236     10.870018 -0.091378   \n",
       "3       A       G -3.957382   2.387491     3.957382      2.387491  1.127472   \n",
       "4       A       G -4.785596  -6.827102     4.785596      6.827102  0.665464   \n",
       "\n",
       "   GWAVA_region  GWAVA_tss  GWAVA_unmatched   GERP  label  \n",
       "0          0.48       0.53             0.75 -0.682      1  \n",
       "1          0.29       0.36             0.89  2.150      1  \n",
       "2          0.42       0.49             0.66  0.451      1  \n",
       "3          0.34       0.43             0.49  2.430      1  \n",
       "4          0.38       0.35             0.86  1.640      1  "
      ]
     },
     "execution_count": 2,
     "metadata": {},
     "output_type": "execute_result"
    }
   ],
   "source": [
    "gkm_svm.head()"
   ]
  },
  {
   "cell_type": "code",
   "execution_count": 3,
   "metadata": {},
   "outputs": [],
   "source": [
    "# def fetch_auprc(preds):\n",
    "#     dsqtls = pd.read_csv(preds,sep=\"\\t\", header=0, index_col=False)\n",
    "#     dsqtls[['gkm_SVM','kmer_SVM','abs_gkm_SVM','abs_kmer_SVM','CADD','GWAVA_region','GWAVA_tss','GWAVA_unmatched','GERP','label']] = dsqtls['META_DATA'].str.split(\",\", expand=True)\n",
    "#     dsqtls[\"label\"] = dsqtls[\"label\"].astype(int)\n",
    "#     fpr_chrombpnet, tpr_chrombpnet, _ = precision_recall_curve(dsqtls[\"label\"], abs(dsqtls[\"log_probs_diff_abs_sum\"]))\n",
    "#     roc_auc = metrics.average_precision_score(dsqtls[\"label\"], abs(dsqtls[\"log_probs_diff_abs_sum\"]))\n",
    "#     return roc_auc\n",
    "    \n",
    "def fetch_auprc_new(preds):\n",
    "    dsqtls = pd.read_csv(preds,sep=\"\\t\", header=0, index_col=False)\n",
    "    print(dsqtls.shape)\n",
    "    print(gkm_svm.shape)\n",
    "    merged_atac = dsqtls.merge(gkm_svm, left_on=['chr', 'pos', 'allele1', 'allele2'], right_on=[\"chrom_hg19\", \"pos_hg19\", \"allele1\", \"allele2\"], how=\"inner\")\n",
    "    print(merged_atac.shape)\n",
    "    merged_atac[\"label\"] = merged_atac[\"label\"].astype(int)\n",
    "    fpr_chrombpnet, tpr_chrombpnet, _ = precision_recall_curve(merged_atac[\"label\"], abs(merged_atac[\"abs_logfc_x_jsd_x_max_percentile.mean\"]))\n",
    "    roc_auc = metrics.average_precision_score(merged_atac[\"label\"], abs(merged_atac[\"abs_logfc_x_jsd_x_max_percentile.mean\"]))\n",
    "    #roc_auc = metrics.average_precision_score(merged_atac[\"label\"], abs(merged_atac[\"jsd.mean\"]))\n",
    "\n",
    "    return roc_auc\n",
    "       \n",
    "    "
   ]
  },
  {
   "cell_type": "code",
   "execution_count": 6,
   "metadata": {},
   "outputs": [
    {
     "name": "stdout",
     "output_type": "stream",
     "text": [
      "(28309, 24)\n",
      "(28309, 18)\n",
      "(28309, 40)\n",
      "(28309, 24)\n",
      "(28309, 18)\n",
      "(28309, 40)\n",
      "(28309, 24)\n",
      "(28309, 18)\n",
      "(28309, 40)\n",
      "(28309, 24)\n",
      "(28309, 18)\n",
      "(28309, 40)\n",
      "(28309, 24)\n",
      "(28309, 18)\n",
      "(28309, 40)\n",
      "(28309, 24)\n",
      "(28309, 18)\n",
      "(28309, 40)\n",
      "(28309, 24)\n",
      "(28309, 18)\n",
      "(28309, 40)\n"
     ]
    }
   ],
   "source": [
    "# roc_500m = fetch_auprc(atac_preds)\n",
    "# roc_250m = fetch_auprc(atac_preds_250m)\n",
    "# roc_100m = fetch_auprc(atac_preds_100m)\n",
    "# roc_50m = fetch_auprc(atac_preds_50m)\n",
    "# roc_25m = fetch_auprc(atac_preds_25m)\n",
    "# roc_5m = fetch_auprc(atac_preds_5m)\n",
    "# roc_dnase = fetch_auprc(dnase_preds)\n",
    "\n",
    "\n",
    "roc_500m = fetch_auprc_new(atac_preds)\n",
    "roc_250m = fetch_auprc_new(atac_preds_250m)\n",
    "roc_100m = fetch_auprc_new(atac_preds_100m)\n",
    "roc_50m = fetch_auprc_new(atac_preds_50m)\n",
    "roc_25m = fetch_auprc_new(atac_preds_25m)\n",
    "roc_5m = fetch_auprc_new(atac_preds_5m)\n",
    "roc_dnase = fetch_auprc_new(dnase_preds)\n"
   ]
  },
  {
   "cell_type": "code",
   "execution_count": 7,
   "metadata": {},
   "outputs": [
    {
     "data": {
      "image/png": "[encoded data removed]",
      "text/plain": [
       "<Figure size 432x288 with 1 Axes>"
      ]
     },
     "metadata": {
      "needs_background": "light"
     },
     "output_type": "display_data"
    }
   ],
   "source": [
    "plt.scatter([\"ATAC\\n572M\", \"ATAC\\n250M\", \"ATAC\\n100M\" ,\"ATAC\\n50M\", \"ATAC\\n25M\", \"ATAC\\n5M\"],[roc_500m,roc_250m,roc_100m,roc_50m,roc_25m,roc_5m])\n",
    "plt.plot([\"ATAC\\n572M\", \"ATAC\\n250M\", \"ATAC\\n100M\",\"ATAC\\n50M\", \"ATAC\\n25M\", \"ATAC\\n5M\"],[roc_500m,roc_250m,roc_100m,roc_50m,roc_25m,roc_5m], alpha=0.5)\n",
    "plt.scatter([\"DNASE\\n68M\"], [roc_dnase])\n",
    "plt.savefig(\"subfigs_new/subsample_profile_performance.pdf\", transparent=True, dpi=300)\n",
    "\n",
    "\n",
    "\n"
   ]
  },
  {
   "cell_type": "code",
   "execution_count": 8,
   "metadata": {},
   "outputs": [],
   "source": [
    "def fetch_auprc(preds):\n",
    "    dsqtls = pd.read_csv(preds,sep=\"\\t\", header=0, index_col=False)\n",
    "    dsqtls[['gkm_SVM','kmer_SVM','abs_gkm_SVM','abs_kmer_SVM','CADD','GWAVA_region','GWAVA_tss','GWAVA_unmatched','GERP','label']] = dsqtls['META_DATA'].str.split(\",\", expand=True)\n",
    "    dsqtls[\"label\"] = dsqtls[\"label\"].astype(int)\n",
    "    fpr_chrombpnet, tpr_chrombpnet, _ = precision_recall_curve(dsqtls[\"label\"], abs(dsqtls[\"log_counts_diff\"]))\n",
    "    roc_auc = metrics.average_precision_score(dsqtls[\"label\"], abs(dsqtls[\"log_counts_diff\"]))\n",
    "    return roc_auc\n",
    "    \n",
    "    "
   ]
  },
  {
   "cell_type": "code",
   "execution_count": 9,
   "metadata": {},
   "outputs": [
    {
     "name": "stdout",
     "output_type": "stream",
     "text": [
      "(28309, 24)\n",
      "(28309, 18)\n",
      "(28309, 40)\n",
      "(28309, 24)\n",
      "(28309, 18)\n",
      "(28309, 40)\n",
      "(28309, 24)\n",
      "(28309, 18)\n",
      "(28309, 40)\n",
      "(28309, 24)\n",
      "(28309, 18)\n",
      "(28309, 40)\n",
      "(28309, 24)\n",
      "(28309, 18)\n",
      "(28309, 40)\n",
      "(28309, 24)\n",
      "(28309, 18)\n",
      "(28309, 40)\n",
      "(28309, 24)\n",
      "(28309, 18)\n",
      "(28309, 40)\n"
     ]
    }
   ],
   "source": [
    "roc_500m = fetch_auprc_new(atac_preds)\n",
    "roc_250m = fetch_auprc_new(atac_preds_250m)\n",
    "roc_100m = fetch_auprc_new(atac_preds_100m)\n",
    "roc_50m = fetch_auprc_new(atac_preds_50m)\n",
    "roc_25m = fetch_auprc_new(atac_preds_25m)\n",
    "roc_5m = fetch_auprc_new(atac_preds_5m)\n",
    "roc_dnase = fetch_auprc_new(dnase_preds)\n"
   ]
  },
  {
   "cell_type": "code",
   "execution_count": 10,
   "metadata": {},
   "outputs": [
    {
     "data": {
      "text/plain": [
       "<matplotlib.collections.PathCollection at 0x7f792258e550>"
      ]
     },
     "execution_count": 10,
     "metadata": {},
     "output_type": "execute_result"
    },
    {
     "data": {
      "image/png": "[encoded data removed]",
      "text/plain": [
       "<Figure size 432x288 with 1 Axes>"
      ]
     },
     "metadata": {
      "needs_background": "light"
     },
     "output_type": "display_data"
    }
   ],
   "source": [
    "plt.scatter([\"ATAC\\n572M\", \"ATAC\\n250M\", \"ATAC\\n100M\", \"DNASE\\n68M\" ,\"ATAC\\n50M\", \"ATAC\\n25M\", \"ATAC\\n5M\"],[roc_500m,roc_250m,roc_100m,roc_dnase,roc_50m,roc_25m,roc_5m])\n",
    "plt.plot([\"ATAC\\n572M\", \"ATAC\\n250M\", \"ATAC\\n100M\", \"DNASE\\n68M\" ,\"ATAC\\n50M\", \"ATAC\\n25M\", \"ATAC\\n5M\"],[roc_500m,roc_250m,roc_100m,roc_dnase,roc_50m,roc_25m,roc_5m], alpha=0.5)\n",
    "plt.scatter([\"DNASE\\n68M\"], [roc_dnase])\n",
    "\n",
    "#plt.savefig(\"subfigs/subsample_counts_performance.pdf\", transparent=True, dpi=300)\n",
    "\n",
    "\n"
   ]
  },
  {
   "cell_type": "code",
   "execution_count": 11,
   "metadata": {},
   "outputs": [],
   "source": [
    "es = pd.read_csv(\"/mnt/lab_data2/anusri/variant-scorer/src/output/dsqtls_lcl/dsqtl_effect_size.txt\", sep=\"\\t\")"
   ]
  },
  {
   "cell_type": "code",
   "execution_count": 12,
   "metadata": {},
   "outputs": [],
   "source": [
    "es.head()\n",
    "es[\"rsid\"] = es[\"Chr\"]+\".\"+es[\"SNP\"].astype(str)"
   ]
  },
  {
   "cell_type": "code",
   "execution_count": 13,
   "metadata": {},
   "outputs": [
    {
     "data": {
      "text/html": [
       "<div>\n",
       "<style scoped>\n",
       "    .dataframe tbody tr th:only-of-type {\n",
       "        vertical-align: middle;\n",
       "    }\n",
       "\n",
       "    .dataframe tbody tr th {\n",
       "        vertical-align: top;\n",
       "    }\n",
       "\n",
       "    .dataframe thead th {\n",
       "        text-align: right;\n",
       "    }\n",
       "</style>\n",
       "<table border=\"1\" class=\"dataframe\">\n",
       "  <thead>\n",
       "    <tr style=\"text-align: right;\">\n",
       "      <th></th>\n",
       "      <th>Chr</th>\n",
       "      <th>Start</th>\n",
       "      <th>End</th>\n",
       "      <th>SNP</th>\n",
       "      <th>Estimate</th>\n",
       "      <th>Std. Error</th>\n",
       "      <th>t value</th>\n",
       "      <th>Pr(&gt;|t|)</th>\n",
       "      <th>rsid</th>\n",
       "    </tr>\n",
       "  </thead>\n",
       "  <tbody>\n",
       "    <tr>\n",
       "      <th>0</th>\n",
       "      <td>chr1</td>\n",
       "      <td>802000</td>\n",
       "      <td>802100.0</td>\n",
       "      <td>801099</td>\n",
       "      <td>1.3980</td>\n",
       "      <td>0.35600</td>\n",
       "      <td>3.926</td>\n",
       "      <td>2.043000e-04</td>\n",
       "      <td>chr1.801099</td>\n",
       "    </tr>\n",
       "    <tr>\n",
       "      <th>1</th>\n",
       "      <td>chr1</td>\n",
       "      <td>846400</td>\n",
       "      <td>846500.0</td>\n",
       "      <td>846446</td>\n",
       "      <td>0.9301</td>\n",
       "      <td>0.17900</td>\n",
       "      <td>5.197</td>\n",
       "      <td>2.013000e-06</td>\n",
       "      <td>chr1.846446</td>\n",
       "    </tr>\n",
       "    <tr>\n",
       "      <th>2</th>\n",
       "      <td>chr1</td>\n",
       "      <td>901300</td>\n",
       "      <td>901400.0</td>\n",
       "      <td>901912</td>\n",
       "      <td>-0.6247</td>\n",
       "      <td>0.15260</td>\n",
       "      <td>-4.094</td>\n",
       "      <td>1.148000e-04</td>\n",
       "      <td>chr1.901912</td>\n",
       "    </tr>\n",
       "    <tr>\n",
       "      <th>3</th>\n",
       "      <td>chr1</td>\n",
       "      <td>901400</td>\n",
       "      <td>901500.0</td>\n",
       "      <td>901458</td>\n",
       "      <td>-0.6285</td>\n",
       "      <td>0.08721</td>\n",
       "      <td>-7.207</td>\n",
       "      <td>6.010000e-10</td>\n",
       "      <td>chr1.901458</td>\n",
       "    </tr>\n",
       "    <tr>\n",
       "      <th>4</th>\n",
       "      <td>chr1</td>\n",
       "      <td>905000</td>\n",
       "      <td>905100.0</td>\n",
       "      <td>904803</td>\n",
       "      <td>-0.7331</td>\n",
       "      <td>0.17580</td>\n",
       "      <td>-4.169</td>\n",
       "      <td>8.843000e-05</td>\n",
       "      <td>chr1.904803</td>\n",
       "    </tr>\n",
       "    <tr>\n",
       "      <th>...</th>\n",
       "      <td>...</td>\n",
       "      <td>...</td>\n",
       "      <td>...</td>\n",
       "      <td>...</td>\n",
       "      <td>...</td>\n",
       "      <td>...</td>\n",
       "      <td>...</td>\n",
       "      <td>...</td>\n",
       "      <td>...</td>\n",
       "    </tr>\n",
       "    <tr>\n",
       "      <th>6065</th>\n",
       "      <td>chr22</td>\n",
       "      <td>48975800</td>\n",
       "      <td>48975900.0</td>\n",
       "      <td>48975897</td>\n",
       "      <td>-0.4515</td>\n",
       "      <td>0.13100</td>\n",
       "      <td>-3.445</td>\n",
       "      <td>9.825000e-04</td>\n",
       "      <td>chr22.48975897</td>\n",
       "    </tr>\n",
       "    <tr>\n",
       "      <th>6066</th>\n",
       "      <td>chr22</td>\n",
       "      <td>49041600</td>\n",
       "      <td>49041700.0</td>\n",
       "      <td>49041614</td>\n",
       "      <td>-0.3606</td>\n",
       "      <td>0.09483</td>\n",
       "      <td>-3.802</td>\n",
       "      <td>3.092000e-04</td>\n",
       "      <td>chr22.49041614</td>\n",
       "    </tr>\n",
       "    <tr>\n",
       "      <th>6067</th>\n",
       "      <td>chr22</td>\n",
       "      <td>49082800</td>\n",
       "      <td>49082900.0</td>\n",
       "      <td>49083204</td>\n",
       "      <td>1.0370</td>\n",
       "      <td>0.26980</td>\n",
       "      <td>3.842</td>\n",
       "      <td>2.710000e-04</td>\n",
       "      <td>chr22.49083204</td>\n",
       "    </tr>\n",
       "    <tr>\n",
       "      <th>6068</th>\n",
       "      <td>chr22</td>\n",
       "      <td>49333100</td>\n",
       "      <td>49333200.0</td>\n",
       "      <td>49332654</td>\n",
       "      <td>-1.2440</td>\n",
       "      <td>0.32090</td>\n",
       "      <td>-3.877</td>\n",
       "      <td>2.406000e-04</td>\n",
       "      <td>chr22.49332654</td>\n",
       "    </tr>\n",
       "    <tr>\n",
       "      <th>6069</th>\n",
       "      <td>chr22</td>\n",
       "      <td>49391600</td>\n",
       "      <td>49391700.0</td>\n",
       "      <td>49391612</td>\n",
       "      <td>1.4460</td>\n",
       "      <td>0.19450</td>\n",
       "      <td>7.435</td>\n",
       "      <td>2.325000e-10</td>\n",
       "      <td>chr22.49391612</td>\n",
       "    </tr>\n",
       "  </tbody>\n",
       "</table>\n",
       "<p>6070 rows × 9 columns</p>\n",
       "</div>"
      ],
      "text/plain": [
       "        Chr     Start         End       SNP  Estimate  Std. Error  t value  \\\n",
       "0      chr1    802000    802100.0    801099    1.3980     0.35600    3.926   \n",
       "1      chr1    846400    846500.0    846446    0.9301     0.17900    5.197   \n",
       "2      chr1    901300    901400.0    901912   -0.6247     0.15260   -4.094   \n",
       "3      chr1    901400    901500.0    901458   -0.6285     0.08721   -7.207   \n",
       "4      chr1    905000    905100.0    904803   -0.7331     0.17580   -4.169   \n",
       "...     ...       ...         ...       ...       ...         ...      ...   \n",
       "6065  chr22  48975800  48975900.0  48975897   -0.4515     0.13100   -3.445   \n",
       "6066  chr22  49041600  49041700.0  49041614   -0.3606     0.09483   -3.802   \n",
       "6067  chr22  49082800  49082900.0  49083204    1.0370     0.26980    3.842   \n",
       "6068  chr22  49333100  49333200.0  49332654   -1.2440     0.32090   -3.877   \n",
       "6069  chr22  49391600  49391700.0  49391612    1.4460     0.19450    7.435   \n",
       "\n",
       "          Pr(>|t|)            rsid  \n",
       "0     2.043000e-04     chr1.801099  \n",
       "1     2.013000e-06     chr1.846446  \n",
       "2     1.148000e-04     chr1.901912  \n",
       "3     6.010000e-10     chr1.901458  \n",
       "4     8.843000e-05     chr1.904803  \n",
       "...            ...             ...  \n",
       "6065  9.825000e-04  chr22.48975897  \n",
       "6066  3.092000e-04  chr22.49041614  \n",
       "6067  2.710000e-04  chr22.49083204  \n",
       "6068  2.406000e-04  chr22.49332654  \n",
       "6069  2.325000e-10  chr22.49391612  \n",
       "\n",
       "[6070 rows x 9 columns]"
      ]
     },
     "execution_count": 13,
     "metadata": {},
     "output_type": "execute_result"
    }
   ],
   "source": [
    "es"
   ]
  },
  {
   "cell_type": "code",
   "execution_count": 106,
   "metadata": {},
   "outputs": [],
   "source": [
    "import scipy.stats\n",
    "def fetch_pearsonr_new(preds):\n",
    "    dsqtls = pd.read_csv(preds,sep=\"\\t\", header=0, index_col=False)\n",
    "    pc_comp = get_pc_component(dsqtls)\n",
    "    dsqtls[\"pc_comp\"] = pc_comp\n",
    "    print(dsqtls.shape)\n",
    "    print(gkm_svm.shape)\n",
    "    \n",
    "    n_gkm = gkm_svm[gkm_svm[\"label\"]==1]\n",
    "    n_gkm = n_gkm.merge(es, left_on=[\"SNPname1\"], right_on='rsid')\n",
    "    n_gkm.shape\n",
    "    merged_atac = dsqtls.merge(n_gkm, left_on=['chr', 'pos', 'allele1', 'allele2'], right_on=[\"chrom_hg19\", \"pos_hg19\", \"allele1\", \"allele2\"], how=\"inner\")\n",
    "    merged_atac[\"sign.jsd.mean\"] = merged_atac[\"jsd.mean\"]*np.sign(merged_atac[\"logfc.mean\"])*-1\n",
    "    print(merged_atac.shape)\n",
    "    pearsonr_val = scipy.stats.pearsonr(merged_atac[\"pc_comp\"]*-1, merged_atac[\"Estimate\"])[0]\n",
    "    print( scipy.stats.pearsonr(merged_atac[\"pc_comp\"] *-1, merged_atac[\"Estimate\"]))\n",
    "    return pearsonr_val\n",
    "   #roc_auc = metrics.average_precision_score(merged_atac[\"label\"], abs(merged_atac[\"jsd.mean\"]))\n"
   ]
  },
  {
   "cell_type": "code",
   "execution_count": 104,
   "metadata": {},
   "outputs": [
    {
     "data": {
      "text/plain": [
       "(28309, 18)"
      ]
     },
     "execution_count": 104,
     "metadata": {},
     "output_type": "execute_result"
    }
   ],
   "source": [
    "gkm_svm.shape"
   ]
  },
  {
   "cell_type": "code",
   "execution_count": 105,
   "metadata": {},
   "outputs": [
    {
     "name": "stdout",
     "output_type": "stream",
     "text": [
      "(28309, 25)\n",
      "(28309, 18)\n",
      "(573, 51)\n",
      "(-0.7434338847859769, 7.929452369781007e-102)\n",
      "(28309, 25)\n",
      "(28309, 18)\n",
      "(573, 51)\n",
      "(-0.7481599323797763, 8.450905648554289e-104)\n",
      "(28309, 25)\n",
      "(28309, 18)\n",
      "(573, 51)\n",
      "(-0.7432867751936212, 9.118835467297648e-102)\n",
      "(28309, 25)\n",
      "(28309, 18)\n",
      "(573, 51)\n",
      "(-0.7328011065482104, 1.5200131846418242e-97)\n",
      "(28309, 25)\n",
      "(28309, 18)\n",
      "(573, 51)\n",
      "(-0.722337851955676, 1.5841608876975079e-93)\n",
      "(28309, 25)\n",
      "(28309, 18)\n",
      "(573, 51)\n",
      "(-0.6701745148909097, 5.820630900061512e-76)\n",
      "(28309, 25)\n",
      "(28309, 18)\n",
      "(573, 51)\n",
      "(-0.7478832203392873, 1.1055970599803303e-103)\n"
     ]
    }
   ],
   "source": [
    "from sklearn.decomposition import PCA\n",
    "import scipy.stats\n",
    "\n",
    "def get_pc_component(df1):\n",
    "    val1 = df1[\"jsd.mean\"].astype(float)*np.sign(df1['logfc.mean'].astype(float))\n",
    "    val2 = df1[\"logfc.mean\"].astype(float)\n",
    "    val3 = df1[\"jsd.mean\"].astype(float)*df1['logfc.mean'].astype(float)\n",
    "    val4 = df1[\"log_prob_log2s.mean\"].astype(float)*df1['logfc.mean'].astype(float)\n",
    "\n",
    "    values = [val2, val3]\n",
    "    values = np.transpose(values)\n",
    "    mean_axis = np.mean(values, axis=1)\n",
    "    new_values = PCA(n_components=1).fit_transform(X=values)\n",
    "    \n",
    "    if scipy.stats.pearsonr(new_values[:,0], mean_axis)[0] > 0:\n",
    "        return new_values[:,0]\n",
    "    else:\n",
    "        return new_values[:,0]*-1\n",
    "\n",
    "roc_500m = fetch_pearsonr_new(atac_preds)\n",
    "roc_250m = fetch_pearsonr_new(atac_preds_250m)\n",
    "roc_100m = fetch_pearsonr_new(atac_preds_100m)\n",
    "roc_50m = fetch_pearsonr_new(atac_preds_50m)\n",
    "roc_25m = fetch_pearsonr_new(atac_preds_25m)\n",
    "roc_5m = fetch_pearsonr_new(atac_preds_5m)\n",
    "roc_dnase = fetch_pearsonr_new(dnase_preds)\n"
   ]
  },
  {
   "cell_type": "code",
   "execution_count": 80,
   "metadata": {},
   "outputs": [
    {
     "data": {
      "image/png": "[encoded data removed]",
      "text/plain": [
       "<Figure size 432x288 with 1 Axes>"
      ]
     },
     "metadata": {
      "needs_background": "light"
     },
     "output_type": "display_data"
    }
   ],
   "source": [
    "plt.figure()\n",
    "plt.scatter([\"ATAC\\n572M\", \"ATAC\\n250M\", \"ATAC\\n100M\" ,\"ATAC\\n50M\", \"ATAC\\n25M\", \"ATAC\\n5M\"],[roc_500m,roc_250m,roc_100m,roc_50m,roc_25m,roc_5m])\n",
    "plt.plot([\"ATAC\\n572M\", \"ATAC\\n250M\", \"ATAC\\n100M\",\"ATAC\\n50M\", \"ATAC\\n25M\", \"ATAC\\n5M\"],[roc_500m,roc_250m,roc_100m,roc_50m,roc_25m,roc_5m], alpha=0.5)\n",
    "plt.scatter([\"DNASE\\n68M\"], [roc_dnase])\n",
    "plt.scatter([\"Enformer DNase\\n68M\"], [0.56])\n",
    "plt.scatter([\"SVM DNase\\n68M\"], [0.72])\n",
    "\n",
    "plt.ylim((0,0.8))\n",
    "plt.savefig(\"subfigs_new/subsample_pearsonr_performance.pdf\", transparent=True, dpi=300)\n"
   ]
  },
  {
   "cell_type": "code",
   "execution_count": 81,
   "metadata": {},
   "outputs": [],
   "source": [
    "n_gkm = gkm_svm[gkm_svm[\"label\"]==1]\n",
    "n_gkm = n_gkm.merge(es, left_on=[\"SNPname1\"], right_on='rsid')\n",
    "\n"
   ]
  },
  {
   "cell_type": "code",
   "execution_count": 82,
   "metadata": {},
   "outputs": [
    {
     "data": {
      "text/plain": [
       "(0.7280057455461137, 1.1132173119906522e-95)"
      ]
     },
     "execution_count": 82,
     "metadata": {},
     "output_type": "execute_result"
    }
   ],
   "source": [
    "scipy.stats.pearsonr(n_gkm[\"gkm_SVM\"],n_gkm[\"Estimate\"])"
   ]
  },
  {
   "cell_type": "code",
   "execution_count": 83,
   "metadata": {},
   "outputs": [],
   "source": [
    "enformer_ids = pd.read_csv(\"/mnt/lab_data2/anusri/chrombpnet/results/variant_data/dsqtls/process/fetch_enformer/enformer_predictions.tsv\", sep=\"\\t\", header=0)"
   ]
  },
  {
   "cell_type": "code",
   "execution_count": 84,
   "metadata": {},
   "outputs": [],
   "source": [
    "merged_enf_1 = enformer_ids.merge(n_gkm, left_on=[\"rsid\", \"chr\", \"pos\", \"ref\", \"alt\"], right_on=[\"SNPname2\", \"chrom_hg19\", \"pos_hg19\", \"allele2\", \"allele1\"])\n",
    "merged_enf_2 = enformer_ids.merge(n_gkm, left_on=[\"rsid\", \"chr\", \"pos\", \"ref\", \"alt\"], right_on=[\"SNPname2\", \"chrom_hg19\", \"pos_hg19\", \"allele1\", \"allele2\"])\n",
    "merged_enf_2[\"DNASE_SAD\"] = merged_enf_2[\"DNASE_SAD\"]*-1\n",
    "merged_enf_2[\"DNASE_SAR\"] = merged_enf_2[\"DNASE_SAR\"]*-1"
   ]
  },
  {
   "cell_type": "code",
   "execution_count": 85,
   "metadata": {},
   "outputs": [],
   "source": [
    "merged_enf = pd.concat([merged_enf_1, merged_enf_2]).drop_duplicates()"
   ]
  },
  {
   "cell_type": "code",
   "execution_count": 86,
   "metadata": {},
   "outputs": [
    {
     "data": {
      "text/plain": [
       "(560, 34)"
      ]
     },
     "execution_count": 86,
     "metadata": {},
     "output_type": "execute_result"
    }
   ],
   "source": [
    "merged_enf.shape"
   ]
  },
  {
   "cell_type": "code",
   "execution_count": 87,
   "metadata": {},
   "outputs": [
    {
     "data": {
      "text/plain": [
       "(0.5549551237929846, 1.5010306000678956e-46)"
      ]
     },
     "execution_count": 87,
     "metadata": {},
     "output_type": "execute_result"
    }
   ],
   "source": [
    "scipy.stats.pearsonr(merged_enf[\"DNASE_SAD\"],merged_enf[\"Estimate\"])"
   ]
  },
  {
   "cell_type": "code",
   "execution_count": 88,
   "metadata": {},
   "outputs": [
    {
     "data": {
      "text/plain": [
       "(0.5631287804191751, 3.62503784193437e-48)"
      ]
     },
     "execution_count": 88,
     "metadata": {},
     "output_type": "execute_result"
    }
   ],
   "source": [
    "scipy.stats.pearsonr(merged_enf[\"DNASE_SAR\"],merged_enf[\"Estimate\"])"
   ]
  },
  {
   "cell_type": "code",
   "execution_count": 89,
   "metadata": {},
   "outputs": [
    {
     "data": {
      "text/plain": [
       "<matplotlib.collections.PathCollection at 0x7f78cc1393d0>"
      ]
     },
     "execution_count": 89,
     "metadata": {},
     "output_type": "execute_result"
    },
    {
     "data": {
      "image/png": "[encoded data removed]",
      "text/plain": [
       "<Figure size 432x288 with 1 Axes>"
      ]
     },
     "metadata": {
      "needs_background": "light"
     },
     "output_type": "display_data"
    }
   ],
   "source": [
    "plt.scatter(merged_enf[\"DNASE_SAR\"],merged_enf[\"Estimate\"], alpha=0.5, s=10)"
   ]
  },
  {
   "cell_type": "code",
   "execution_count": 90,
   "metadata": {},
   "outputs": [
    {
     "data": {
      "text/plain": [
       "(0.5549551237929846, 1.5010306000678956e-46)"
      ]
     },
     "execution_count": 90,
     "metadata": {},
     "output_type": "execute_result"
    }
   ],
   "source": [
    "scipy.stats.pearsonr(merged_enf[\"DNASE_SAD\"],merged_enf[\"Estimate\"])"
   ]
  },
  {
   "cell_type": "code",
   "execution_count": 91,
   "metadata": {},
   "outputs": [
    {
     "name": "stdout",
     "output_type": "stream",
     "text": [
      "(28309, 24)\n",
      "(28309, 18)\n"
     ]
    }
   ],
   "source": [
    "dsqtls = pd.read_csv(atac_preds,sep=\"\\t\", header=0, index_col=False)\n",
    "print(dsqtls.shape)\n",
    "print(gkm_svm.shape)\n",
    "\n",
    "n_gkm = gkm_svm[gkm_svm[\"label\"]==1]\n",
    "n_gkm = n_gkm.merge(es, left_on=[\"SNPname1\"], right_on='rsid')\n",
    "n_gkm.shape\n",
    "merged_atac = dsqtls.merge(n_gkm, left_on=['chr', 'pos', 'allele1', 'allele2'], right_on=[\"chrom_hg19\", \"pos_hg19\", \"allele1\", \"allele2\"], how=\"inner\")\n",
    "merged_atac[\"sign.jsd.mean\"] = merged_atac[\"jsd.mean\"]*np.sign(merged_atac[\"logfc.mean\"])*-1\n",
    "\n",
    "\n",
    "\n"
   ]
  },
  {
   "cell_type": "code",
   "execution_count": 92,
   "metadata": {},
   "outputs": [
    {
     "name": "stdout",
     "output_type": "stream",
     "text": [
      "   sd_sign.mean    Beta  max_percentile.mean\n",
      "0      0.108381  0.9301             0.483655\n",
      "1     -0.061612 -0.6285             0.781544\n",
      "2     -0.054349 -0.7363             0.739015\n",
      "3     -0.317087 -0.9236             0.714120\n",
      "4     -0.064704 -1.0890             0.992978\n"
     ]
    },
    {
     "data": {
      "image/png": "[encoded data removed]",
      "text/plain": [
       "<Figure size 576x360 with 2 Axes>"
      ]
     },
     "metadata": {
      "needs_background": "light"
     },
     "output_type": "display_data"
    }
   ],
   "source": [
    "import seaborn as sns\n",
    "import matplotlib\n",
    "matplotlib.rcParams['pdf.fonttype'] = 42\n",
    "matplotlib.rcParams['ps.fonttype'] = 42 \n",
    "\n",
    "\n",
    "data = pd.DataFrame()\n",
    "data[\"sd_sign.mean\"] = merged_atac[\"sign.jsd.mean\"]\n",
    "data[\"Beta\"] = merged_atac[\"Estimate\"]\n",
    "data[\"max_percentile.mean\"] = abs(merged_atac[\"max_percentile.mean\"])\n",
    "data = data.reset_index(drop=True)\n",
    "print(data.head())\n",
    "plt.figure(figsize=(8,5))\n",
    "\n",
    "sns.kdeplot(\n",
    "    data=data,\n",
    "    x=\"Beta\",\n",
    "    y=\"sd_sign.mean\",\n",
    "    levels=5,\n",
    "    fill=False,\n",
    "    alpha=0.2,\n",
    "    color=\"grey\",\n",
    "    cut=2,\n",
    "\n",
    ")\n",
    "ax = sns.scatterplot(x=\"Beta\", y=\"sd_sign.mean\", hue=\"max_percentile.mean\", data=data, s=15, palette=\"Reds\")\n",
    "sns.regplot(x=\"Beta\", y=\"sd_sign.mean\", data=data, scatter=False, ci=None, color=\"#ffcccb\")\n",
    "#sns.jointplot(x=data[\"Beta\"], y=data[\"sd_sign.mean\"],s=0,ax=ax)\n",
    "\n",
    "norm = plt.Normalize(data['max_percentile.mean'].min(), data['max_percentile.mean'].max())\n",
    "sm = plt.cm.ScalarMappable(cmap=\"Reds\", norm=norm)\n",
    "sm.set_array([])\n",
    "\n",
    "# Remove the legend and add a colorbar\n",
    "ax.get_legend().remove()\n",
    "ax.figure.colorbar(sm)\n",
    "\n",
    "\n",
    "plt.savefig(\"subfigs_new/dsqtls_scatter_plot.pdf\", transparent=True, dpi=300)"
   ]
  },
  {
   "cell_type": "code",
   "execution_count": null,
   "metadata": {},
   "outputs": [],
   "source": [
    "\n"
   ]
  },
  {
   "cell_type": "code",
   "execution_count": 93,
   "metadata": {},
   "outputs": [
    {
     "name": "stdout",
     "output_type": "stream",
     "text": [
      "   sd_sign.mean    Beta  max_percentile.mean\n",
      "0      0.692179  0.9301             0.483655\n",
      "1     -0.118311 -0.6285             0.781544\n",
      "2     -0.862356 -0.7363             0.739015\n",
      "3     -1.762505 -0.9236             0.714120\n",
      "4     -0.275676 -1.0890             0.992978\n"
     ]
    },
    {
     "data": {
      "text/plain": [
       "<matplotlib.colorbar.Colorbar at 0x7f78c5cc9050>"
      ]
     },
     "execution_count": 93,
     "metadata": {},
     "output_type": "execute_result"
    },
    {
     "data": {
      "image/png": "[encoded data removed]",
      "text/plain": [
       "<Figure size 576x360 with 2 Axes>"
      ]
     },
     "metadata": {
      "needs_background": "light"
     },
     "output_type": "display_data"
    }
   ],
   "source": [
    "import seaborn as sns\n",
    "import matplotlib\n",
    "matplotlib.rcParams['pdf.fonttype'] = 42\n",
    "matplotlib.rcParams['ps.fonttype'] = 42 \n",
    "\n",
    "\n",
    "data = pd.DataFrame()\n",
    "data[\"sd_sign.mean\"] = get_pc_component(merged_atac)*-1\n",
    "data[\"Beta\"] = merged_atac[\"Estimate\"]\n",
    "data[\"max_percentile.mean\"] = abs(merged_atac[\"max_percentile.mean\"])\n",
    "data = data.reset_index(drop=True)\n",
    "print(data.head())\n",
    "plt.figure(figsize=(8,5))\n",
    "\n",
    "sns.kdeplot(\n",
    "    data=data,\n",
    "    x=\"Beta\",\n",
    "    y=\"sd_sign.mean\",\n",
    "    levels=5,\n",
    "    fill=False,\n",
    "    alpha=0.2,\n",
    "    color=\"grey\",\n",
    "    cut=2,\n",
    "\n",
    ")\n",
    "ax = sns.scatterplot(x=\"Beta\", y=\"sd_sign.mean\", hue=\"max_percentile.mean\", data=data, s=15, palette=\"Reds\")\n",
    "sns.regplot(x=\"Beta\", y=\"sd_sign.mean\", data=data, scatter=False, ci=None, color=\"#ffcccb\")\n",
    "#sns.jointplot(x=data[\"Beta\"], y=data[\"sd_sign.mean\"],s=0,ax=ax)\n",
    "\n",
    "norm = plt.Normalize(data['max_percentile.mean'].min(), data['max_percentile.mean'].max())\n",
    "sm = plt.cm.ScalarMappable(cmap=\"Reds\", norm=norm)\n",
    "sm.set_array([])\n",
    "\n",
    "# Remove the legend and add a colorbar\n",
    "ax.get_legend().remove()\n",
    "ax.figure.colorbar(sm)"
   ]
  },
  {
   "cell_type": "code",
   "execution_count": null,
   "metadata": {},
   "outputs": [],
   "source": []
  }
 ],
 "metadata": {
  "kernelspec": {
   "display_name": "Python 3",
   "language": "python",
   "name": "python3"
  },
  "language_info": {
   "codemirror_mode": {
    "name": "ipython",
    "version": 3
   },
   "file_extension": ".py",
   "mimetype": "text/x-python",
   "name": "python",
   "nbconvert_exporter": "python",
   "pygments_lexer": "ipython3",
   "version": "3.7.6"
  }
 },
 "nbformat": 4,
 "nbformat_minor": 4
}
