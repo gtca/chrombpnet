{
 "cells": [
  {
   "cell_type": "code",
   "execution_count": 1,
   "metadata": {},
   "outputs": [
    {
     "data": {
      "text/plain": [
       "Index(['Feature_ID', 'rsID', 'Chromosome', 'SNP_position', 'Ref_allele',\n",
       "       'Alt_allele', 'Freq', 'HWE_Chisquare', 'Imp_quality', 'Log10_BH_Q',\n",
       "       'Chisquare', 'Effect_size', 'Delta', 'Phi', 'Overdispersion',\n",
       "       'SNP_id_region', 'Num_feature_SNPs', 'Num_tested_SNPs',\n",
       "       'Num_iterations_null', 'Num_iterations_alt', 'Random_ties',\n",
       "       'Log_likelihood_null', 'Convergence_status', 'Sq_corr_fSNPs',\n",
       "       'Sq_corr_rSNP'],\n",
       "      dtype='object')"
      ]
     },
     "execution_count": 1,
     "metadata": {},
     "output_type": "execute_result"
    }
   ],
   "source": [
    "import pandas as pd\n",
    "\n",
    "snps_all=pd.read_csv(\"/oak/stanford/groups/akundaje/projects/cad/data/clint_data/rasqual_results/revisions/smc/smc_4_results_081921_2.txt\", sep=\"\\t\", header=0)\n",
    "snps2=pd.read_csv(\"/oak/stanford/groups/akundaje/projects/cad/data/clint_data/rasqual_results/revisions/smc/SMC_rasqual_results_FDR_0.05_083121.txt\", sep=\"\\t\", header=0)\n",
    "\n",
    "snps_all = snps_all.replace({\",\": 'comma'}, regex=True)\n",
    "snps_all = snps_all.replace({\"_\": '--'}, regex=True)\n",
    "snps_all.columns = snps2.columns[0:25]\n",
    "\n",
    "snps_all.columns"
   ]
  },
  {
   "cell_type": "code",
   "execution_count": 2,
   "metadata": {},
   "outputs": [
    {
     "data": {
      "text/html": [
       "<div>\n",
       "<style scoped>\n",
       "    .dataframe tbody tr th:only-of-type {\n",
       "        vertical-align: middle;\n",
       "    }\n",
       "\n",
       "    .dataframe tbody tr th {\n",
       "        vertical-align: top;\n",
       "    }\n",
       "\n",
       "    .dataframe thead th {\n",
       "        text-align: right;\n",
       "    }\n",
       "</style>\n",
       "<table border=\"1\" class=\"dataframe\">\n",
       "  <thead>\n",
       "    <tr style=\"text-align: right;\">\n",
       "      <th></th>\n",
       "      <th>Feature_ID</th>\n",
       "      <th>rsID</th>\n",
       "      <th>Chromosome</th>\n",
       "      <th>SNP_position</th>\n",
       "      <th>Ref_allele</th>\n",
       "      <th>Alt_allele</th>\n",
       "      <th>Freq</th>\n",
       "      <th>HWE_Chisquare</th>\n",
       "      <th>Imp_quality</th>\n",
       "      <th>Log10_BH_Q</th>\n",
       "      <th>...</th>\n",
       "      <th>SNP_id_region</th>\n",
       "      <th>Num_feature_SNPs</th>\n",
       "      <th>Num_tested_SNPs</th>\n",
       "      <th>Num_iterations_null</th>\n",
       "      <th>Num_iterations_alt</th>\n",
       "      <th>Random_ties</th>\n",
       "      <th>Log_likelihood_null</th>\n",
       "      <th>Convergence_status</th>\n",
       "      <th>Sq_corr_fSNPs</th>\n",
       "      <th>Sq_corr_rSNP</th>\n",
       "    </tr>\n",
       "  </thead>\n",
       "  <tbody>\n",
       "    <tr>\n",
       "      <th>0</th>\n",
       "      <td>chr10.100006344.100006745</td>\n",
       "      <td>rs11592868</td>\n",
       "      <td>chr10</td>\n",
       "      <td>100009635</td>\n",
       "      <td>T</td>\n",
       "      <td>G</td>\n",
       "      <td>0.4625</td>\n",
       "      <td>0.843225</td>\n",
       "      <td>0.999948</td>\n",
       "      <td>-0.7851329981</td>\n",
       "      <td>...</td>\n",
       "      <td>3.275177</td>\n",
       "      <td>2</td>\n",
       "      <td>50</td>\n",
       "      <td>4</td>\n",
       "      <td>3</td>\n",
       "      <td>100009635</td>\n",
       "      <td>2.374082</td>\n",
       "      <td>0</td>\n",
       "      <td>0.982096</td>\n",
       "      <td>0.993065</td>\n",
       "    </tr>\n",
       "    <tr>\n",
       "      <th>1</th>\n",
       "      <td>chr10.100008240.100008641</td>\n",
       "      <td>rs11190364</td>\n",
       "      <td>chr10</td>\n",
       "      <td>100006780</td>\n",
       "      <td>C</td>\n",
       "      <td>T</td>\n",
       "      <td>0.3125</td>\n",
       "      <td>0.647934</td>\n",
       "      <td>0.999939</td>\n",
       "      <td>-1.8697830229</td>\n",
       "      <td>...</td>\n",
       "      <td>2.589123</td>\n",
       "      <td>2</td>\n",
       "      <td>50</td>\n",
       "      <td>5</td>\n",
       "      <td>4</td>\n",
       "      <td>100005358</td>\n",
       "      <td>4.610132</td>\n",
       "      <td>0</td>\n",
       "      <td>0.989587</td>\n",
       "      <td>0.992047</td>\n",
       "    </tr>\n",
       "    <tr>\n",
       "      <th>2</th>\n",
       "      <td>chr10.100008812.100009213</td>\n",
       "      <td>rs11593328</td>\n",
       "      <td>chr10</td>\n",
       "      <td>100015645</td>\n",
       "      <td>T</td>\n",
       "      <td>C</td>\n",
       "      <td>0.4</td>\n",
       "      <td>0.15625</td>\n",
       "      <td>0.999947</td>\n",
       "      <td>-0.3408101516</td>\n",
       "      <td>...</td>\n",
       "      <td>2.632266</td>\n",
       "      <td>1</td>\n",
       "      <td>50</td>\n",
       "      <td>4</td>\n",
       "      <td>5</td>\n",
       "      <td>100018116</td>\n",
       "      <td>1.04081</td>\n",
       "      <td>0</td>\n",
       "      <td>0.990291</td>\n",
       "      <td>0.992138</td>\n",
       "    </tr>\n",
       "    <tr>\n",
       "      <th>3</th>\n",
       "      <td>chr10.100009332.100009733</td>\n",
       "      <td>rs12783181</td>\n",
       "      <td>chr10</td>\n",
       "      <td>100015400</td>\n",
       "      <td>G</td>\n",
       "      <td>A</td>\n",
       "      <td>0.2875</td>\n",
       "      <td>0.286748</td>\n",
       "      <td>0.999936</td>\n",
       "      <td>-0.4710837639</td>\n",
       "      <td>...</td>\n",
       "      <td>4.542324</td>\n",
       "      <td>1</td>\n",
       "      <td>50</td>\n",
       "      <td>6</td>\n",
       "      <td>5</td>\n",
       "      <td>100015400</td>\n",
       "      <td>0.429945</td>\n",
       "      <td>0</td>\n",
       "      <td>0.901012</td>\n",
       "      <td>0.991069</td>\n",
       "    </tr>\n",
       "    <tr>\n",
       "      <th>4</th>\n",
       "      <td>chr10.100009818.100010219</td>\n",
       "      <td>rs12261919</td>\n",
       "      <td>chr10</td>\n",
       "      <td>100001413</td>\n",
       "      <td>G</td>\n",
       "      <td>T</td>\n",
       "      <td>0.5375</td>\n",
       "      <td>0.079659</td>\n",
       "      <td>0.975202</td>\n",
       "      <td>-0.5253220851</td>\n",
       "      <td>...</td>\n",
       "      <td>5.472201</td>\n",
       "      <td>0</td>\n",
       "      <td>50</td>\n",
       "      <td>5</td>\n",
       "      <td>4</td>\n",
       "      <td>100001413</td>\n",
       "      <td>0.660478</td>\n",
       "      <td>0</td>\n",
       "      <td>nan</td>\n",
       "      <td>0.949196</td>\n",
       "    </tr>\n",
       "  </tbody>\n",
       "</table>\n",
       "<p>5 rows × 25 columns</p>\n",
       "</div>"
      ],
      "text/plain": [
       "                  Feature_ID        rsID Chromosome SNP_position Ref_allele  \\\n",
       "0  chr10.100006344.100006745  rs11592868      chr10    100009635          T   \n",
       "1  chr10.100008240.100008641  rs11190364      chr10    100006780          C   \n",
       "2  chr10.100008812.100009213  rs11593328      chr10    100015645          T   \n",
       "3  chr10.100009332.100009733  rs12783181      chr10    100015400          G   \n",
       "4  chr10.100009818.100010219  rs12261919      chr10    100001413          G   \n",
       "\n",
       "  Alt_allele    Freq HWE_Chisquare Imp_quality     Log10_BH_Q  ...  \\\n",
       "0          G  0.4625      0.843225    0.999948  -0.7851329981  ...   \n",
       "1          T  0.3125      0.647934    0.999939  -1.8697830229  ...   \n",
       "2          C     0.4       0.15625    0.999947  -0.3408101516  ...   \n",
       "3          A  0.2875      0.286748    0.999936  -0.4710837639  ...   \n",
       "4          T  0.5375      0.079659    0.975202  -0.5253220851  ...   \n",
       "\n",
       "  SNP_id_region Num_feature_SNPs Num_tested_SNPs Num_iterations_null  \\\n",
       "0      3.275177                2              50                   4   \n",
       "1      2.589123                2              50                   5   \n",
       "2      2.632266                1              50                   4   \n",
       "3      4.542324                1              50                   6   \n",
       "4      5.472201                0              50                   5   \n",
       "\n",
       "  Num_iterations_alt Random_ties Log_likelihood_null Convergence_status  \\\n",
       "0                  3   100009635            2.374082                  0   \n",
       "1                  4   100005358            4.610132                  0   \n",
       "2                  5   100018116             1.04081                  0   \n",
       "3                  5   100015400            0.429945                  0   \n",
       "4                  4   100001413            0.660478                  0   \n",
       "\n",
       "  Sq_corr_fSNPs Sq_corr_rSNP  \n",
       "0      0.982096     0.993065  \n",
       "1      0.989587     0.992047  \n",
       "2      0.990291     0.992138  \n",
       "3      0.901012     0.991069  \n",
       "4           nan     0.949196  \n",
       "\n",
       "[5 rows x 25 columns]"
      ]
     },
     "execution_count": 2,
     "metadata": {},
     "output_type": "execute_result"
    }
   ],
   "source": [
    "preds = pd.read_csv(\"/mnt/lab_data2/anusri/variant-scorer/src/output/smc_caqtls/ATAC_sig_only/summary.mean.variant_scores_new.tsv\", sep=\"\\t\", header=0)\n",
    "preds[snps_all.columns] = preds[\"rsid\"].str.split(\",\", expand=True)\n",
    "preds[snps_all.columns].head()"
   ]
  },
  {
   "cell_type": "code",
   "execution_count": 3,
   "metadata": {},
   "outputs": [
    {
     "data": {
      "text/plain": [
       "(239816, 25)"
      ]
     },
     "execution_count": 3,
     "metadata": {},
     "output_type": "execute_result"
    }
   ],
   "source": [
    "snps_all.shape"
   ]
  },
  {
   "cell_type": "code",
   "execution_count": 4,
   "metadata": {},
   "outputs": [
    {
     "data": {
      "text/plain": [
       "(238534, 48)"
      ]
     },
     "execution_count": 4,
     "metadata": {},
     "output_type": "execute_result"
    }
   ],
   "source": [
    "preds.shape"
   ]
  },
  {
   "cell_type": "code",
   "execution_count": 5,
   "metadata": {},
   "outputs": [
    {
     "data": {
      "text/plain": [
       "Index(['Feature_ID', 'rsID', 'Chromosome', 'SNP_position', 'Ref_allele',\n",
       "       'Alt_allele', 'Freq', 'HWE_Chisquare', 'Imp_quality', 'Log10_BH_Q',\n",
       "       'Chisquare', 'Effect_size', 'Delta', 'Phi', 'Overdispersion',\n",
       "       'SNP_id_region', 'Num_feature_SNPs', 'Num_tested_SNPs',\n",
       "       'Num_iterations_null', 'Num_iterations_alt', 'Random_ties',\n",
       "       'Log_likelihood_null', 'Convergence_status', 'Sq_corr_fSNPs',\n",
       "       'Sq_corr_rSNP'],\n",
       "      dtype='object')"
      ]
     },
     "execution_count": 5,
     "metadata": {},
     "output_type": "execute_result"
    }
   ],
   "source": [
    "snps_all.columns"
   ]
  },
  {
   "cell_type": "code",
   "execution_count": 6,
   "metadata": {},
   "outputs": [
    {
     "data": {
      "text/plain": [
       "(239816, 25)"
      ]
     },
     "execution_count": 6,
     "metadata": {},
     "output_type": "execute_result"
    }
   ],
   "source": [
    "snps_all.shape"
   ]
  },
  {
   "cell_type": "code",
   "execution_count": 7,
   "metadata": {},
   "outputs": [
    {
     "data": {
      "text/plain": [
       "Index(['chr', 'pos', 'allele1', 'allele2', 'rsid', 'logfc.mean',\n",
       "       'abs_logfc.mean', 'abs_logfc.mean.pval', 'jsd.mean', 'jsd.mean.pval',\n",
       "       'logfc_x_jsd.mean', 'abs_logfc_x_jsd.mean', 'abs_logfc_x_jsd.mean.pval',\n",
       "       'max_percentile.mean', 'max_percentile.mean.pval',\n",
       "       'logfc_x_max_percentile.mean', 'abs_logfc_x_max_percentile.mean',\n",
       "       'abs_logfc_x_max_percentile.mean.pval', 'jsd_x_max_percentile.mean',\n",
       "       'jsd_x_max_percentile.mean.pval',\n",
       "       'abs_logfc_x_jsd_x_max_percentile.mean',\n",
       "       'abs_logfc_x_jsd_x_max_percentile.mean.pval',\n",
       "       'logfc_x_jsd_x_max_percentile.mean', 'Feature_ID', 'rsID', 'Chromosome',\n",
       "       'SNP_position', 'Ref_allele', 'Alt_allele', 'Freq', 'HWE_Chisquare',\n",
       "       'Imp_quality', 'Log10_BH_Q', 'Chisquare', 'Effect_size', 'Delta', 'Phi',\n",
       "       'Overdispersion', 'SNP_id_region', 'Num_feature_SNPs',\n",
       "       'Num_tested_SNPs', 'Num_iterations_null', 'Num_iterations_alt',\n",
       "       'Random_ties', 'Log_likelihood_null', 'Convergence_status',\n",
       "       'Sq_corr_fSNPs', 'Sq_corr_rSNP'],\n",
       "      dtype='object')"
      ]
     },
     "execution_count": 7,
     "metadata": {},
     "output_type": "execute_result"
    }
   ],
   "source": [
    "preds.columns"
   ]
  },
  {
   "cell_type": "code",
   "execution_count": 8,
   "metadata": {},
   "outputs": [
    {
     "data": {
      "text/plain": [
       "1984"
      ]
     },
     "execution_count": 8,
     "metadata": {},
     "output_type": "execute_result"
    }
   ],
   "source": [
    "sum(preds['Log10_BH_Q'].astype(float)<-2.8759)"
   ]
  },
  {
   "cell_type": "code",
   "execution_count": 9,
   "metadata": {},
   "outputs": [
    {
     "data": {
      "text/plain": [
       "-2.8759227842"
      ]
     },
     "execution_count": 9,
     "metadata": {},
     "output_type": "execute_result"
    }
   ],
   "source": [
    "import numpy as np\n",
    "np.max(snps2['Log10_BH_Q'])"
   ]
  },
  {
   "cell_type": "code",
   "execution_count": 10,
   "metadata": {},
   "outputs": [
    {
     "data": {
      "text/plain": [
       "-40.136213949"
      ]
     },
     "execution_count": 10,
     "metadata": {},
     "output_type": "execute_result"
    }
   ],
   "source": [
    "np.min(snps2['Log10_BH_Q'])"
   ]
  },
  {
   "cell_type": "code",
   "execution_count": 11,
   "metadata": {},
   "outputs": [
    {
     "data": {
      "text/plain": [
       "(1984, 47)"
      ]
     },
     "execution_count": 11,
     "metadata": {},
     "output_type": "execute_result"
    }
   ],
   "source": [
    "snps2.shape"
   ]
  },
  {
   "cell_type": "code",
   "execution_count": 12,
   "metadata": {},
   "outputs": [],
   "source": [
    "from scipy.stats import pearsonr"
   ]
  },
  {
   "cell_type": "code",
   "execution_count": 19,
   "metadata": {},
   "outputs": [],
   "source": [
    "import matplotlib\n",
    "\n",
    "\n",
    "matplotlib.rcParams['pdf.fonttype'] = 42\n",
    "matplotlib.rcParams['ps.fonttype'] = 42 \n",
    "\n",
    "import matplotlib.pyplot as plt\n",
    "from matplotlib.pyplot import figure\n",
    "\n",
    "plt.rcParams['figure.figsize'] = [12, 10]\n",
    "\n",
    "def plot_enrichment_curves(df, compare_score, model_score, output_file, compare_score_ascending=False, model_score_ascending=True,\n",
    "                           thresh_list=[0.5, 0.1, 0.05, 0.01, 0.005], subsample=False, ymax='auto', debug=False):\n",
    "    by_thresh_dict = {'score':[], 'ratio':[], 'thresh':[]}\n",
    "    \n",
    "    for thresh in thresh_list:\n",
    "        df[compare_score].fillna(0, inplace=True)\n",
    "        sample_df = df.sort_values(by=[compare_score, model_score], ascending=[False, True])\n",
    "        #print(sample_df.head())\n",
    "        #print(sample_df.tail())\n",
    "        print(sum(sample_df[model_score] < thresh))\n",
    "        ratio = len(sample_df.loc[sample_df[model_score] < thresh]) / len(sample_df)\n",
    "        sample_df['sig'] = sample_df[model_score].apply(lambda x: x < thresh)\n",
    "        sample_df['expected'] = [ratio] * len(sample_df)\n",
    "        expected = sample_df['expected'].cumsum().tolist()\n",
    "        observed = sample_df['sig'].cumsum().tolist()\n",
    "        \n",
    "        enrich_ratio = np.array(observed) / np.array(expected)\n",
    "        compare_vals = sample_df[compare_score].tolist()\n",
    "        enrich_ratio = enrich_ratio.tolist()\n",
    "        assert len(compare_vals) == len(enrich_ratio)\n",
    "        by_thresh_dict['ratio'].extend(enrich_ratio)\n",
    "        by_thresh_dict['score'].extend(compare_vals)\n",
    "        by_thresh_dict['thresh'].extend([thresh] * len(sample_df))\n",
    "        \n",
    "        if debug:\n",
    "            print(thresh)\n",
    "            print('Expected:', expected[:10])\n",
    "            print('Observed:', observed[:10])\n",
    "            print('Ratio:', enrich_ratio[:10])\n",
    "            print('Compare Scores:', compare_vals[:10])\n",
    "            print()\n",
    "        \n",
    "    by_thresh_df = pd.DataFrame(by_thresh_dict)\n",
    "    by_thresh_df.sort_values(by=['score'], ascending=False, inplace=True)\n",
    "    return by_thresh_df"
   ]
  },
  {
   "cell_type": "code",
   "execution_count": 20,
   "metadata": {},
   "outputs": [
    {
     "name": "stdout",
     "output_type": "stream",
     "text": [
      "118411\n",
      "20430\n",
      "10095\n",
      "2453\n",
      "1362\n"
     ]
    }
   ],
   "source": [
    "preds[\"Log10_BF\"] = preds[\"Log10_BH_Q\"].astype(float)*-1\n",
    "by_thresh_df = plot_enrichment_curves(preds,\n",
    "                       compare_score='Log10_BF', model_score='abs_logfc_x_jsd_x_max_percentile.mean.pval',\n",
    "                       compare_score_ascending=False, model_score_ascending=True, output_file=\"lcl_caqtls_latest.pdf\")"
   ]
  },
  {
   "cell_type": "code",
   "execution_count": 31,
   "metadata": {},
   "outputs": [
    {
     "data": {
      "image/png": "[encoded data removed]",
      "text/plain": [
       "<Figure size 864x720 with 1 Axes>"
      ]
     },
     "metadata": {
      "needs_background": "light"
     },
     "output_type": "display_data"
    }
   ],
   "source": [
    "\n",
    "import matplotlib\n",
    "matplotlib.rcParams['pdf.fonttype'] = 42\n",
    "matplotlib.rcParams['ps.fonttype'] = 42 \n",
    "import seaborn as sns\n",
    "compare_score='Log10_BF'\n",
    "model_score='abs_logfc_x_jsd_x_max_percentile.mean.pval'\n",
    "ax = sns.lineplot(data=by_thresh_df, x='score', y='ratio', linewidth=3, ci=None,\n",
    "                  hue='thresh', palette=sns.color_palette('winter', 5))\n",
    "leg = plt.legend(bbox_to_anchor=(1.02, 1), loc='upper left', borderaxespad=0)\n",
    "for line in leg.get_lines():\n",
    "    line.set_linewidth(4)\n",
    "xmax=\"auto\"\n",
    "ymax=\"auto\"\n",
    "output_file=\"lcl_caqtls_latest.pdf\"\n",
    "ax.set(title=compare_score + ' vs ' + model_score, xlabel=compare_score, ylabel='observed / expected')\n",
    "ax.set(yscale='log')\n",
    "ax.set_yticks([1,  3,  5, 7, 10, 20, 40, 60, 80, 100, 150,200])\n",
    "ax.get_yaxis().set_major_formatter(matplotlib.ticker.ScalarFormatter())\n",
    "ax.axhline(y=1, color='grey', linestyle='-', alpha=0.2)\n",
    "\n",
    "ax.axhline(y=3, color='grey', linestyle='-', alpha=0.2)\n",
    "ax.axhline(y=5, color='grey', linestyle='-', alpha=0.2)\n",
    "ax.axhline(y=7, color='grey', linestyle='-', alpha=0.2)\n",
    "ax.axhline(y=10, color='grey', linestyle='-', alpha=0.2)\n",
    "ax.axhline(y=20, color='grey', linestyle='-', alpha=0.2)\n",
    "ax.axhline(y=40, color='grey', linestyle='-', alpha=0.2)\n",
    "ax.axhline(y=60, color='grey', linestyle='-', alpha=0.2)\n",
    "ax.axhline(y=80, color='grey', linestyle='-', alpha=0.2)\n",
    "ax.axhline(y=100, color='grey', linestyle='-', alpha=0.2)\n",
    "ax.axhline(y=150, color='grey', linestyle='-', alpha=0.2)\n",
    "ax.axhline(y=200, color='grey', linestyle='-', alpha=0.2)\n",
    "\n",
    "plt.savefig(\"subfigs_new/\"+\"smc_caqtls_all.pdf\", transparent=True, dpi=300)"
   ]
  },
  {
   "cell_type": "code",
   "execution_count": 32,
   "metadata": {},
   "outputs": [],
   "source": [
    "preds['jsd_sign'] = preds['jsd.mean'] * np.sign(preds['logfc.mean'])"
   ]
  },
  {
   "cell_type": "code",
   "execution_count": 33,
   "metadata": {},
   "outputs": [
    {
     "name": "stdout",
     "output_type": "stream",
     "text": [
      "(0.3997394341780456, 5.223253407212269e-77)\n"
     ]
    },
    {
     "data": {
      "image/png": "[encoded data removed]",
      "text/plain": [
       "<Figure size 360x360 with 1 Axes>"
      ]
     },
     "metadata": {
      "needs_background": "light"
     },
     "output_type": "display_data"
    }
   ],
   "source": [
    "import seaborn as sns\n",
    "import scipy.stats\n",
    "\n",
    "plt.figure(figsize=(5,5))\n",
    "data = pd.DataFrame()\n",
    "data[\"Predicted (ES)\"] = preds[preds[\"Log10_BH_Q\"].astype(float)<-2.8759][\"jsd_sign\"]\n",
    "data[\"Observed\"] = preds[preds[\"Log10_BH_Q\"].astype(float)<-2.8759][\"Effect_size\"].astype(float)\n",
    "data[\"max_percentile.mean\"] = abs(preds[preds[\"Log10_BH_Q\"].astype(float)<-2.8759][\"max_percentile.mean\"])\n",
    "\n",
    "sns.scatterplot(data=data, y=\"Predicted (ES)\", x=\"Observed\", hue=\"max_percentile.mean\", s=10)\n",
    "print(scipy.stats.pearsonr(data[\"Predicted (ES)\"],data[\"Observed\"]))"
   ]
  },
  {
   "cell_type": "code",
   "execution_count": 34,
   "metadata": {},
   "outputs": [
    {
     "data": {
      "text/html": [
       "<div>\n",
       "<style scoped>\n",
       "    .dataframe tbody tr th:only-of-type {\n",
       "        vertical-align: middle;\n",
       "    }\n",
       "\n",
       "    .dataframe tbody tr th {\n",
       "        vertical-align: top;\n",
       "    }\n",
       "\n",
       "    .dataframe thead th {\n",
       "        text-align: right;\n",
       "    }\n",
       "</style>\n",
       "<table border=\"1\" class=\"dataframe\">\n",
       "  <thead>\n",
       "    <tr style=\"text-align: right;\">\n",
       "      <th></th>\n",
       "      <th>chr</th>\n",
       "      <th>pos</th>\n",
       "      <th>pos1</th>\n",
       "      <th>allele1</th>\n",
       "      <th>allele2</th>\n",
       "      <th>rsid</th>\n",
       "      <th>logfc.mean</th>\n",
       "      <th>abs_logfc.mean</th>\n",
       "      <th>abs_logfc.mean.pval</th>\n",
       "      <th>jsd.mean</th>\n",
       "      <th>...</th>\n",
       "      <th>Num_tested_SNPs</th>\n",
       "      <th>Num_iterations_null</th>\n",
       "      <th>Num_iterations_alt</th>\n",
       "      <th>Random_ties</th>\n",
       "      <th>Log_likelihood_null</th>\n",
       "      <th>Convergence_status</th>\n",
       "      <th>Sq_corr_fSNPs</th>\n",
       "      <th>Sq_corr_rSNP</th>\n",
       "      <th>Log10_BF</th>\n",
       "      <th>jsd_sign</th>\n",
       "    </tr>\n",
       "  </thead>\n",
       "  <tbody>\n",
       "    <tr>\n",
       "      <th>0</th>\n",
       "      <td>chr10</td>\n",
       "      <td>100009635</td>\n",
       "      <td>100009636</td>\n",
       "      <td>T</td>\n",
       "      <td>G</td>\n",
       "      <td>chr10.100006344.100006745,rs11592868,chr10,100...</td>\n",
       "      <td>0.006190</td>\n",
       "      <td>0.007367</td>\n",
       "      <td>0.831199</td>\n",
       "      <td>0.009882</td>\n",
       "      <td>...</td>\n",
       "      <td>50</td>\n",
       "      <td>4</td>\n",
       "      <td>3</td>\n",
       "      <td>100009635</td>\n",
       "      <td>2.374082</td>\n",
       "      <td>0</td>\n",
       "      <td>0.982096</td>\n",
       "      <td>0.993065</td>\n",
       "      <td>0.785133</td>\n",
       "      <td>0.009882</td>\n",
       "    </tr>\n",
       "    <tr>\n",
       "      <th>1</th>\n",
       "      <td>chr10</td>\n",
       "      <td>100006780</td>\n",
       "      <td>100006781</td>\n",
       "      <td>C</td>\n",
       "      <td>T</td>\n",
       "      <td>chr10.100008240.100008641,rs11190364,chr10,100...</td>\n",
       "      <td>0.001474</td>\n",
       "      <td>0.009650</td>\n",
       "      <td>0.791830</td>\n",
       "      <td>0.006145</td>\n",
       "      <td>...</td>\n",
       "      <td>50</td>\n",
       "      <td>5</td>\n",
       "      <td>4</td>\n",
       "      <td>100005358</td>\n",
       "      <td>4.610132</td>\n",
       "      <td>0</td>\n",
       "      <td>0.989587</td>\n",
       "      <td>0.992047</td>\n",
       "      <td>1.869783</td>\n",
       "      <td>0.006145</td>\n",
       "    </tr>\n",
       "    <tr>\n",
       "      <th>2</th>\n",
       "      <td>chr10</td>\n",
       "      <td>100015645</td>\n",
       "      <td>100015646</td>\n",
       "      <td>T</td>\n",
       "      <td>C</td>\n",
       "      <td>chr10.100008812.100009213,rs11593328,chr10,100...</td>\n",
       "      <td>0.113058</td>\n",
       "      <td>0.113058</td>\n",
       "      <td>0.139362</td>\n",
       "      <td>0.015260</td>\n",
       "      <td>...</td>\n",
       "      <td>50</td>\n",
       "      <td>4</td>\n",
       "      <td>5</td>\n",
       "      <td>100018116</td>\n",
       "      <td>1.04081</td>\n",
       "      <td>0</td>\n",
       "      <td>0.990291</td>\n",
       "      <td>0.992138</td>\n",
       "      <td>0.340810</td>\n",
       "      <td>0.015260</td>\n",
       "    </tr>\n",
       "    <tr>\n",
       "      <th>3</th>\n",
       "      <td>chr10</td>\n",
       "      <td>100015400</td>\n",
       "      <td>100015401</td>\n",
       "      <td>G</td>\n",
       "      <td>A</td>\n",
       "      <td>chr10.100009332.100009733,rs12783181,chr10,100...</td>\n",
       "      <td>-0.119587</td>\n",
       "      <td>0.119587</td>\n",
       "      <td>0.135612</td>\n",
       "      <td>0.012063</td>\n",
       "      <td>...</td>\n",
       "      <td>50</td>\n",
       "      <td>6</td>\n",
       "      <td>5</td>\n",
       "      <td>100015400</td>\n",
       "      <td>0.429945</td>\n",
       "      <td>0</td>\n",
       "      <td>0.901012</td>\n",
       "      <td>0.991069</td>\n",
       "      <td>0.471084</td>\n",
       "      <td>-0.012063</td>\n",
       "    </tr>\n",
       "    <tr>\n",
       "      <th>4</th>\n",
       "      <td>chr10</td>\n",
       "      <td>100001413</td>\n",
       "      <td>100001414</td>\n",
       "      <td>G</td>\n",
       "      <td>T</td>\n",
       "      <td>chr10.100009818.100010219,rs12261919,chr10,100...</td>\n",
       "      <td>-0.009792</td>\n",
       "      <td>0.009792</td>\n",
       "      <td>0.783421</td>\n",
       "      <td>0.006923</td>\n",
       "      <td>...</td>\n",
       "      <td>50</td>\n",
       "      <td>5</td>\n",
       "      <td>4</td>\n",
       "      <td>100001413</td>\n",
       "      <td>0.660478</td>\n",
       "      <td>0</td>\n",
       "      <td>nan</td>\n",
       "      <td>0.949196</td>\n",
       "      <td>0.525322</td>\n",
       "      <td>-0.006923</td>\n",
       "    </tr>\n",
       "    <tr>\n",
       "      <th>...</th>\n",
       "      <td>...</td>\n",
       "      <td>...</td>\n",
       "      <td>...</td>\n",
       "      <td>...</td>\n",
       "      <td>...</td>\n",
       "      <td>...</td>\n",
       "      <td>...</td>\n",
       "      <td>...</td>\n",
       "      <td>...</td>\n",
       "      <td>...</td>\n",
       "      <td>...</td>\n",
       "      <td>...</td>\n",
       "      <td>...</td>\n",
       "      <td>...</td>\n",
       "      <td>...</td>\n",
       "      <td>...</td>\n",
       "      <td>...</td>\n",
       "      <td>...</td>\n",
       "      <td>...</td>\n",
       "      <td>...</td>\n",
       "      <td>...</td>\n",
       "    </tr>\n",
       "    <tr>\n",
       "      <th>238529</th>\n",
       "      <td>chr9</td>\n",
       "      <td>99862115</td>\n",
       "      <td>99862116</td>\n",
       "      <td>T</td>\n",
       "      <td>C</td>\n",
       "      <td>chr9.99859616.99860017,rs7024294,chr9,99862115...</td>\n",
       "      <td>0.046749</td>\n",
       "      <td>0.046749</td>\n",
       "      <td>0.355006</td>\n",
       "      <td>0.010596</td>\n",
       "      <td>...</td>\n",
       "      <td>13</td>\n",
       "      <td>3</td>\n",
       "      <td>3</td>\n",
       "      <td>99862115</td>\n",
       "      <td>1.642292</td>\n",
       "      <td>0</td>\n",
       "      <td>0.991061</td>\n",
       "      <td>0.992296</td>\n",
       "      <td>0.962901</td>\n",
       "      <td>0.010596</td>\n",
       "    </tr>\n",
       "    <tr>\n",
       "      <th>238530</th>\n",
       "      <td>chr9</td>\n",
       "      <td>99900933</td>\n",
       "      <td>99900934</td>\n",
       "      <td>A</td>\n",
       "      <td>T</td>\n",
       "      <td>chr9.99906279.99906680,rs12346763,chr9,9990093...</td>\n",
       "      <td>-0.043854</td>\n",
       "      <td>0.047679</td>\n",
       "      <td>0.401620</td>\n",
       "      <td>0.008175</td>\n",
       "      <td>...</td>\n",
       "      <td>30</td>\n",
       "      <td>4</td>\n",
       "      <td>3</td>\n",
       "      <td>99900933</td>\n",
       "      <td>-0.740242</td>\n",
       "      <td>0</td>\n",
       "      <td>nan</td>\n",
       "      <td>0.990015</td>\n",
       "      <td>0.045387</td>\n",
       "      <td>-0.008175</td>\n",
       "    </tr>\n",
       "    <tr>\n",
       "      <th>238531</th>\n",
       "      <td>chr9</td>\n",
       "      <td>99907337</td>\n",
       "      <td>99907338</td>\n",
       "      <td>G</td>\n",
       "      <td>C</td>\n",
       "      <td>chr9.99906734.99907135,rs12352899,chr9,9990733...</td>\n",
       "      <td>-0.202839</td>\n",
       "      <td>0.202839</td>\n",
       "      <td>0.061324</td>\n",
       "      <td>0.035271</td>\n",
       "      <td>...</td>\n",
       "      <td>31</td>\n",
       "      <td>4</td>\n",
       "      <td>3</td>\n",
       "      <td>99909971</td>\n",
       "      <td>-1.231401</td>\n",
       "      <td>0</td>\n",
       "      <td>nan</td>\n",
       "      <td>0.991607</td>\n",
       "      <td>0.052787</td>\n",
       "      <td>-0.035271</td>\n",
       "    </tr>\n",
       "    <tr>\n",
       "      <th>238532</th>\n",
       "      <td>chr9</td>\n",
       "      <td>99900349</td>\n",
       "      <td>99900350</td>\n",
       "      <td>T</td>\n",
       "      <td>C</td>\n",
       "      <td>chr9.99907206.99907607,rs4742776,chr9,99900349...</td>\n",
       "      <td>0.145110</td>\n",
       "      <td>0.145110</td>\n",
       "      <td>0.102289</td>\n",
       "      <td>0.018292</td>\n",
       "      <td>...</td>\n",
       "      <td>31</td>\n",
       "      <td>6</td>\n",
       "      <td>9</td>\n",
       "      <td>99900349</td>\n",
       "      <td>0.557542</td>\n",
       "      <td>0</td>\n",
       "      <td>0.986182</td>\n",
       "      <td>0.988833</td>\n",
       "      <td>0.357810</td>\n",
       "      <td>0.018292</td>\n",
       "    </tr>\n",
       "    <tr>\n",
       "      <th>238533</th>\n",
       "      <td>chr9</td>\n",
       "      <td>99945505</td>\n",
       "      <td>99945506</td>\n",
       "      <td>A</td>\n",
       "      <td>G</td>\n",
       "      <td>chr9.99948930.99949331,rs1969577,chr9,99945505...</td>\n",
       "      <td>0.029446</td>\n",
       "      <td>0.029446</td>\n",
       "      <td>0.488938</td>\n",
       "      <td>0.007526</td>\n",
       "      <td>...</td>\n",
       "      <td>32</td>\n",
       "      <td>4</td>\n",
       "      <td>3</td>\n",
       "      <td>99945505</td>\n",
       "      <td>0.47271</td>\n",
       "      <td>0</td>\n",
       "      <td>nan</td>\n",
       "      <td>0.99172</td>\n",
       "      <td>0.138865</td>\n",
       "      <td>0.007526</td>\n",
       "    </tr>\n",
       "  </tbody>\n",
       "</table>\n",
       "<p>238534 rows × 51 columns</p>\n",
       "</div>"
      ],
      "text/plain": [
       "          chr        pos       pos1 allele1 allele2  \\\n",
       "0       chr10  100009635  100009636       T       G   \n",
       "1       chr10  100006780  100006781       C       T   \n",
       "2       chr10  100015645  100015646       T       C   \n",
       "3       chr10  100015400  100015401       G       A   \n",
       "4       chr10  100001413  100001414       G       T   \n",
       "...       ...        ...        ...     ...     ...   \n",
       "238529   chr9   99862115   99862116       T       C   \n",
       "238530   chr9   99900933   99900934       A       T   \n",
       "238531   chr9   99907337   99907338       G       C   \n",
       "238532   chr9   99900349   99900350       T       C   \n",
       "238533   chr9   99945505   99945506       A       G   \n",
       "\n",
       "                                                     rsid  logfc.mean  \\\n",
       "0       chr10.100006344.100006745,rs11592868,chr10,100...    0.006190   \n",
       "1       chr10.100008240.100008641,rs11190364,chr10,100...    0.001474   \n",
       "2       chr10.100008812.100009213,rs11593328,chr10,100...    0.113058   \n",
       "3       chr10.100009332.100009733,rs12783181,chr10,100...   -0.119587   \n",
       "4       chr10.100009818.100010219,rs12261919,chr10,100...   -0.009792   \n",
       "...                                                   ...         ...   \n",
       "238529  chr9.99859616.99860017,rs7024294,chr9,99862115...    0.046749   \n",
       "238530  chr9.99906279.99906680,rs12346763,chr9,9990093...   -0.043854   \n",
       "238531  chr9.99906734.99907135,rs12352899,chr9,9990733...   -0.202839   \n",
       "238532  chr9.99907206.99907607,rs4742776,chr9,99900349...    0.145110   \n",
       "238533  chr9.99948930.99949331,rs1969577,chr9,99945505...    0.029446   \n",
       "\n",
       "        abs_logfc.mean  abs_logfc.mean.pval  jsd.mean  ...  Num_tested_SNPs  \\\n",
       "0             0.007367             0.831199  0.009882  ...               50   \n",
       "1             0.009650             0.791830  0.006145  ...               50   \n",
       "2             0.113058             0.139362  0.015260  ...               50   \n",
       "3             0.119587             0.135612  0.012063  ...               50   \n",
       "4             0.009792             0.783421  0.006923  ...               50   \n",
       "...                ...                  ...       ...  ...              ...   \n",
       "238529        0.046749             0.355006  0.010596  ...               13   \n",
       "238530        0.047679             0.401620  0.008175  ...               30   \n",
       "238531        0.202839             0.061324  0.035271  ...               31   \n",
       "238532        0.145110             0.102289  0.018292  ...               31   \n",
       "238533        0.029446             0.488938  0.007526  ...               32   \n",
       "\n",
       "        Num_iterations_null  Num_iterations_alt  Random_ties  \\\n",
       "0                         4                   3    100009635   \n",
       "1                         5                   4    100005358   \n",
       "2                         4                   5    100018116   \n",
       "3                         6                   5    100015400   \n",
       "4                         5                   4    100001413   \n",
       "...                     ...                 ...          ...   \n",
       "238529                    3                   3     99862115   \n",
       "238530                    4                   3     99900933   \n",
       "238531                    4                   3     99909971   \n",
       "238532                    6                   9     99900349   \n",
       "238533                    4                   3     99945505   \n",
       "\n",
       "        Log_likelihood_null  Convergence_status  Sq_corr_fSNPs  Sq_corr_rSNP  \\\n",
       "0                  2.374082                   0       0.982096      0.993065   \n",
       "1                  4.610132                   0       0.989587      0.992047   \n",
       "2                   1.04081                   0       0.990291      0.992138   \n",
       "3                  0.429945                   0       0.901012      0.991069   \n",
       "4                  0.660478                   0            nan      0.949196   \n",
       "...                     ...                 ...            ...           ...   \n",
       "238529             1.642292                   0       0.991061      0.992296   \n",
       "238530            -0.740242                   0            nan      0.990015   \n",
       "238531            -1.231401                   0            nan      0.991607   \n",
       "238532             0.557542                   0       0.986182      0.988833   \n",
       "238533              0.47271                   0            nan       0.99172   \n",
       "\n",
       "        Log10_BF  jsd_sign  \n",
       "0       0.785133  0.009882  \n",
       "1       1.869783  0.006145  \n",
       "2       0.340810  0.015260  \n",
       "3       0.471084 -0.012063  \n",
       "4       0.525322 -0.006923  \n",
       "...          ...       ...  \n",
       "238529  0.962901  0.010596  \n",
       "238530  0.045387 -0.008175  \n",
       "238531  0.052787 -0.035271  \n",
       "238532  0.357810  0.018292  \n",
       "238533  0.138865  0.007526  \n",
       "\n",
       "[238534 rows x 51 columns]"
      ]
     },
     "execution_count": 34,
     "metadata": {},
     "output_type": "execute_result"
    }
   ],
   "source": [
    "preds[\"pos1\"] = preds[\"pos\"] + 1\n",
    "old_cols = preds.columns\n",
    "new_cols  = [\"chr\", \"pos\", \"pos1\"] + old_cols[2:-1].tolist()\n",
    "preds[new_cols]"
   ]
  },
  {
   "cell_type": "code",
   "execution_count": 35,
   "metadata": {},
   "outputs": [],
   "source": [
    "# preds[new_cols].to_csv(\"/mnt/lab_data2/anusri/variant-scorer/src/output/smc_caqtls/bed_formatter_regions.bed\", sep=\"\\t\", header=False, index=False)\n",
    "# f=pd.read_csv(\"/oak/stanford/groups/akundaje/projects/cad/outs/7_30_2023_human_all_models/peaks/original/SMC.peaks.bed\", sep=\"\\t\", header=None)\n",
    "# df[2] = df[1] + df[9] + 250\n",
    "# df[1] = df[1] + df[9] - 250\n",
    "# df.to_csv(\"/mnt/lab_data2/anusri/variant-scorer/src/output/smc_caqtls/peaks_formatted.bed\", sep=\"\\t\", index=False, header=False)"
   ]
  },
  {
   "cell_type": "code",
   "execution_count": 36,
   "metadata": {},
   "outputs": [],
   "source": [
    "new_scores = pd.read_csv(\"/mnt/lab_data2/anusri/variant-scorer/src/output/smc_caqtls/snps_in_peaks.bed\", sep=\"\\t\", header=None, names=new_cols+[\"peak_overlap\"])\n",
    "\n"
   ]
  },
  {
   "cell_type": "code",
   "execution_count": 37,
   "metadata": {},
   "outputs": [],
   "source": [
    "new_scores[\"peak_overlap\"] = (new_scores[\"peak_overlap\"]>0) & (new_scores[\"Log10_BH_Q\"].astype(float)<-2.8759)\n",
    "new_scores[\"Effect_size\"] = new_scores[\"Effect_size\"].astype(float)"
   ]
  },
  {
   "cell_type": "code",
   "execution_count": 39,
   "metadata": {},
   "outputs": [
    {
     "data": {
      "text/plain": [
       "<AxesSubplot:xlabel='Observed', ylabel='Predicted (ES)'>"
      ]
     },
     "execution_count": 39,
     "metadata": {},
     "output_type": "execute_result"
    },
    {
     "data": {
      "image/png": "[encoded data removed]",
      "text/plain": [
       "<Figure size 360x360 with 1 Axes>"
      ]
     },
     "metadata": {
      "needs_background": "light"
     },
     "output_type": "display_data"
    }
   ],
   "source": [
    "import seaborn as sns\n",
    "\n",
    "plt.figure(figsize=(5,5))\n",
    "data = pd.DataFrame()\n",
    "data[\"Predicted (ES)\"] = new_scores[new_scores[\"peak_overlap\"]][\"jsd_sign\"]\n",
    "data[\"Observed\"] = new_scores[new_scores[\"peak_overlap\"]][\"Effect_size\"]\n",
    "data[\"max_percentile.mean\"] = abs(new_scores[new_scores[\"peak_overlap\"]][\"max_percentile.mean\"])\n",
    "\n",
    "sns.scatterplot(data=data, y=\"Predicted (ES)\", x=\"Observed\", hue=\"max_percentile.mean\", s=10)\n"
   ]
  },
  {
   "cell_type": "code",
   "execution_count": 46,
   "metadata": {},
   "outputs": [
    {
     "name": "stdout",
     "output_type": "stream",
     "text": [
      "      Predicted (ES)  Observed  max_percentile.mean  sd_sign.mean      Beta\n",
      "660        -0.050136  0.275779             0.177851     -0.050136  0.275779\n",
      "1535        0.016267  0.358584             0.620328      0.016267  0.358584\n",
      "1661        0.015680  0.272100             0.542213      0.015680  0.272100\n",
      "2019       -0.019800  0.347713             0.916965     -0.019800  0.347713\n",
      "2838        0.036740  0.755112             0.613221      0.036740  0.755112\n"
     ]
    },
    {
     "data": {
      "image/png": "[encoded data removed]",
      "text/plain": [
       "<Figure size 576x360 with 2 Axes>"
      ]
     },
     "metadata": {
      "needs_background": "light"
     },
     "output_type": "display_data"
    }
   ],
   "source": [
    "import seaborn as sns\n",
    "import matplotlib\n",
    "matplotlib.rcParams['pdf.fonttype'] = 42\n",
    "matplotlib.rcParams['ps.fonttype'] = 42 \n",
    "\n",
    "data[\"sd_sign.mean\"] = new_scores[new_scores[\"peak_overlap\"]][\"jsd_sign\"]\n",
    "data[\"Beta\"] = new_scores[new_scores[\"peak_overlap\"]][\"Effect_size\"]\n",
    "data[\"max_percentile.mean\"] = abs(new_scores[new_scores[\"peak_overlap\"]][\"max_percentile.mean\"])\n",
    "\n",
    "print(data.head())\n",
    "plt.figure(figsize=(8,5))\n",
    "\n",
    "sns.kdeplot(\n",
    "    data=data,\n",
    "    x=\"Beta\",\n",
    "    y=\"sd_sign.mean\",\n",
    "    levels=5,\n",
    "    fill=False,\n",
    "    alpha=0.2,\n",
    "    color=\"grey\",\n",
    "    cut=2,\n",
    "\n",
    ")\n",
    "ax = sns.scatterplot(x=\"Beta\", y=\"sd_sign.mean\", hue=\"max_percentile.mean\", data=data, s=15, palette=\"Purples\")\n",
    "sns.regplot(x=\"Beta\", y=\"sd_sign.mean\", data=data, scatter=False, ci=None, color=\"#CBC3E3\")\n",
    "#sns.jointplot(x=data[\"Beta\"], y=data[\"sd_sign.mean\"],s=0,ax=ax)\n",
    "\n",
    "norm = plt.Normalize(data['max_percentile.mean'].min(), data['max_percentile.mean'].max())\n",
    "sm = plt.cm.ScalarMappable(cmap=\"Purples\", norm=norm)\n",
    "sm.set_array([])\n",
    "\n",
    "# Remove the legend and add a colorbar\n",
    "ax.get_legend().remove()\n",
    "ax.figure.colorbar(sm)\n",
    "plt.savefig(\"subfigs_new/smc_caqtls_scatter_plot.pdf\", transparent=True, dpi=300)\n"
   ]
  },
  {
   "cell_type": "code",
   "execution_count": 43,
   "metadata": {},
   "outputs": [
    {
     "data": {
      "text/plain": [
       "365"
      ]
     },
     "execution_count": 43,
     "metadata": {},
     "output_type": "execute_result"
    }
   ],
   "source": [
    "sum(new_scores[\"peak_overlap\"])"
   ]
  },
  {
   "cell_type": "code",
   "execution_count": 48,
   "metadata": {},
   "outputs": [
    {
     "data": {
      "text/plain": [
       "(0.6258929514561228, 4.3181928887425475e-41)"
      ]
     },
     "execution_count": 48,
     "metadata": {},
     "output_type": "execute_result"
    }
   ],
   "source": [
    "scipy.stats.pearsonr(data[\"sd_sign.mean\"] ,data[\"Beta\"]  )"
   ]
  },
  {
   "cell_type": "code",
   "execution_count": 49,
   "metadata": {},
   "outputs": [],
   "source": [
    "from sklearn.decomposition import PCA\n",
    "import scipy.stats\n",
    "def get_pc_component(df1):\n",
    "    val1 = df1[\"jsd.mean\"].astype(float)*np.sign(df1['logfc.mean'].astype(float))\n",
    "    val2 = df1[\"logfc.mean\"].astype(float)\n",
    "    val3 = df1[\"jsd.mean\"].astype(float)*df1['logfc.mean'].astype(float)\n",
    "    #val4 = df1[\"log_prob_log2s.mean\"].astype(float)*df1['logfc.mean'].astype(float)\n",
    "\n",
    "    #print(df1.shape)\n",
    "    values = [val2, val3]\n",
    "    values = np.array(values)\n",
    "    #print(values.shape)\n",
    "    values = np.transpose(values)\n",
    "    mean_axis = np.mean(values, axis=1)\n",
    "    new_values = PCA(n_components=1).fit_transform(X=values)\n",
    "    #print(new_values.shape)\n",
    "    if scipy.stats.pearsonr(new_values[:,0], mean_axis)[0] > 0:\n",
    "        #print(scipy.stats.pearsonr(new_values[:,0], mean_axis)[0])\n",
    "        return new_values[:,0]\n",
    "    else:\n",
    "        #print(scipy.stats.pearsonr(new_values[:,0], mean_axis)[0])\n",
    "        return new_values[:,0]*-1"
   ]
  },
  {
   "cell_type": "code",
   "execution_count": 52,
   "metadata": {},
   "outputs": [
    {
     "data": {
      "text/plain": [
       "(0.6296341356229039, 1.0511861622515106e-41)"
      ]
     },
     "execution_count": 52,
     "metadata": {},
     "output_type": "execute_result"
    }
   ],
   "source": [
    "scipy.stats.pearsonr(get_pc_component(new_scores)[new_scores[\"peak_overlap\"]],data[\"Beta\"]  )"
   ]
  },
  {
   "cell_type": "code",
   "execution_count": 92,
   "metadata": {},
   "outputs": [
    {
     "data": {
      "text/html": [
       "<div>\n",
       "<style scoped>\n",
       "    .dataframe tbody tr th:only-of-type {\n",
       "        vertical-align: middle;\n",
       "    }\n",
       "\n",
       "    .dataframe tbody tr th {\n",
       "        vertical-align: top;\n",
       "    }\n",
       "\n",
       "    .dataframe thead th {\n",
       "        text-align: right;\n",
       "    }\n",
       "</style>\n",
       "<table border=\"1\" class=\"dataframe\">\n",
       "  <thead>\n",
       "    <tr style=\"text-align: right;\">\n",
       "      <th></th>\n",
       "      <th>chr</th>\n",
       "      <th>pos</th>\n",
       "      <th>allele1</th>\n",
       "      <th>allele2</th>\n",
       "      <th>rsid</th>\n",
       "      <th>logfc.mean</th>\n",
       "      <th>abs_logfc.mean</th>\n",
       "      <th>abs_logfc.mean.pval</th>\n",
       "      <th>jsd.mean</th>\n",
       "      <th>jsd.mean.pval</th>\n",
       "      <th>...</th>\n",
       "      <th>Num_iterations_null</th>\n",
       "      <th>Num_iterations_alt</th>\n",
       "      <th>Random_ties</th>\n",
       "      <th>Log_likelihood_null</th>\n",
       "      <th>Convergence_status</th>\n",
       "      <th>Sq_corr_fSNPs</th>\n",
       "      <th>Sq_corr_rSNP</th>\n",
       "      <th>Log10_BF</th>\n",
       "      <th>jsd_sign</th>\n",
       "      <th>pos1</th>\n",
       "    </tr>\n",
       "  </thead>\n",
       "  <tbody>\n",
       "    <tr>\n",
       "      <th>0</th>\n",
       "      <td>chr10</td>\n",
       "      <td>100009634</td>\n",
       "      <td>T</td>\n",
       "      <td>G</td>\n",
       "      <td>chr10.100006344.100006745,rs11592868,chr10,100...</td>\n",
       "      <td>-0.017215</td>\n",
       "      <td>0.017215</td>\n",
       "      <td>0.626804</td>\n",
       "      <td>0.009156</td>\n",
       "      <td>0.513335</td>\n",
       "      <td>...</td>\n",
       "      <td>4</td>\n",
       "      <td>3</td>\n",
       "      <td>100009635</td>\n",
       "      <td>2.374082</td>\n",
       "      <td>0</td>\n",
       "      <td>0.982096</td>\n",
       "      <td>0.993065</td>\n",
       "      <td>0.785133</td>\n",
       "      <td>-0.009156</td>\n",
       "      <td>100009635</td>\n",
       "    </tr>\n",
       "    <tr>\n",
       "      <th>1</th>\n",
       "      <td>chr10</td>\n",
       "      <td>100006779</td>\n",
       "      <td>C</td>\n",
       "      <td>T</td>\n",
       "      <td>chr10.100008240.100008641,rs11190364,chr10,100...</td>\n",
       "      <td>-0.003125</td>\n",
       "      <td>0.015808</td>\n",
       "      <td>0.667671</td>\n",
       "      <td>0.006751</td>\n",
       "      <td>0.757877</td>\n",
       "      <td>...</td>\n",
       "      <td>5</td>\n",
       "      <td>4</td>\n",
       "      <td>100005358</td>\n",
       "      <td>4.610132</td>\n",
       "      <td>0</td>\n",
       "      <td>0.989587</td>\n",
       "      <td>0.992047</td>\n",
       "      <td>1.869783</td>\n",
       "      <td>-0.006751</td>\n",
       "      <td>100006780</td>\n",
       "    </tr>\n",
       "    <tr>\n",
       "      <th>2</th>\n",
       "      <td>chr10</td>\n",
       "      <td>100015644</td>\n",
       "      <td>T</td>\n",
       "      <td>C</td>\n",
       "      <td>chr10.100008812.100009213,rs11593328,chr10,100...</td>\n",
       "      <td>0.172159</td>\n",
       "      <td>0.172159</td>\n",
       "      <td>0.105868</td>\n",
       "      <td>0.024766</td>\n",
       "      <td>0.079446</td>\n",
       "      <td>...</td>\n",
       "      <td>4</td>\n",
       "      <td>5</td>\n",
       "      <td>100018116</td>\n",
       "      <td>1.04081</td>\n",
       "      <td>0</td>\n",
       "      <td>0.990291</td>\n",
       "      <td>0.992138</td>\n",
       "      <td>0.340810</td>\n",
       "      <td>0.024766</td>\n",
       "      <td>100015645</td>\n",
       "    </tr>\n",
       "    <tr>\n",
       "      <th>3</th>\n",
       "      <td>chr10</td>\n",
       "      <td>100015399</td>\n",
       "      <td>G</td>\n",
       "      <td>A</td>\n",
       "      <td>chr10.100009332.100009733,rs12783181,chr10,100...</td>\n",
       "      <td>-0.007196</td>\n",
       "      <td>0.023521</td>\n",
       "      <td>0.531352</td>\n",
       "      <td>0.013530</td>\n",
       "      <td>0.281725</td>\n",
       "      <td>...</td>\n",
       "      <td>6</td>\n",
       "      <td>5</td>\n",
       "      <td>100015400</td>\n",
       "      <td>0.429945</td>\n",
       "      <td>0</td>\n",
       "      <td>0.901012</td>\n",
       "      <td>0.991069</td>\n",
       "      <td>0.471084</td>\n",
       "      <td>-0.013530</td>\n",
       "      <td>100015400</td>\n",
       "    </tr>\n",
       "    <tr>\n",
       "      <th>4</th>\n",
       "      <td>chr10</td>\n",
       "      <td>100001412</td>\n",
       "      <td>G</td>\n",
       "      <td>T</td>\n",
       "      <td>chr10.100009818.100010219,rs12261919,chr10,100...</td>\n",
       "      <td>0.012041</td>\n",
       "      <td>0.018584</td>\n",
       "      <td>0.622337</td>\n",
       "      <td>0.009156</td>\n",
       "      <td>0.513728</td>\n",
       "      <td>...</td>\n",
       "      <td>5</td>\n",
       "      <td>4</td>\n",
       "      <td>100001413</td>\n",
       "      <td>0.660478</td>\n",
       "      <td>0</td>\n",
       "      <td>nan</td>\n",
       "      <td>0.949196</td>\n",
       "      <td>0.525322</td>\n",
       "      <td>0.009156</td>\n",
       "      <td>100001413</td>\n",
       "    </tr>\n",
       "    <tr>\n",
       "      <th>...</th>\n",
       "      <td>...</td>\n",
       "      <td>...</td>\n",
       "      <td>...</td>\n",
       "      <td>...</td>\n",
       "      <td>...</td>\n",
       "      <td>...</td>\n",
       "      <td>...</td>\n",
       "      <td>...</td>\n",
       "      <td>...</td>\n",
       "      <td>...</td>\n",
       "      <td>...</td>\n",
       "      <td>...</td>\n",
       "      <td>...</td>\n",
       "      <td>...</td>\n",
       "      <td>...</td>\n",
       "      <td>...</td>\n",
       "      <td>...</td>\n",
       "      <td>...</td>\n",
       "      <td>...</td>\n",
       "      <td>...</td>\n",
       "      <td>...</td>\n",
       "    </tr>\n",
       "    <tr>\n",
       "      <th>238529</th>\n",
       "      <td>chr9</td>\n",
       "      <td>99862114</td>\n",
       "      <td>T</td>\n",
       "      <td>C</td>\n",
       "      <td>chr9.99859616.99860017,rs7024294,chr9,99862115...</td>\n",
       "      <td>0.015420</td>\n",
       "      <td>0.015420</td>\n",
       "      <td>0.661997</td>\n",
       "      <td>0.011146</td>\n",
       "      <td>0.384553</td>\n",
       "      <td>...</td>\n",
       "      <td>3</td>\n",
       "      <td>3</td>\n",
       "      <td>99862115</td>\n",
       "      <td>1.642292</td>\n",
       "      <td>0</td>\n",
       "      <td>0.991061</td>\n",
       "      <td>0.992296</td>\n",
       "      <td>0.962901</td>\n",
       "      <td>0.011146</td>\n",
       "      <td>99862115</td>\n",
       "    </tr>\n",
       "    <tr>\n",
       "      <th>238530</th>\n",
       "      <td>chr9</td>\n",
       "      <td>99900932</td>\n",
       "      <td>A</td>\n",
       "      <td>T</td>\n",
       "      <td>chr9.99906279.99906680,rs12346763,chr9,9990093...</td>\n",
       "      <td>-0.027554</td>\n",
       "      <td>0.027554</td>\n",
       "      <td>0.502346</td>\n",
       "      <td>0.008188</td>\n",
       "      <td>0.613903</td>\n",
       "      <td>...</td>\n",
       "      <td>4</td>\n",
       "      <td>3</td>\n",
       "      <td>99900933</td>\n",
       "      <td>-0.740242</td>\n",
       "      <td>0</td>\n",
       "      <td>nan</td>\n",
       "      <td>0.990015</td>\n",
       "      <td>0.045387</td>\n",
       "      <td>-0.008188</td>\n",
       "      <td>99900933</td>\n",
       "    </tr>\n",
       "    <tr>\n",
       "      <th>238531</th>\n",
       "      <td>chr9</td>\n",
       "      <td>99907336</td>\n",
       "      <td>G</td>\n",
       "      <td>C</td>\n",
       "      <td>chr9.99906734.99907135,rs12352899,chr9,9990733...</td>\n",
       "      <td>0.162884</td>\n",
       "      <td>0.162884</td>\n",
       "      <td>0.109280</td>\n",
       "      <td>0.024782</td>\n",
       "      <td>0.086828</td>\n",
       "      <td>...</td>\n",
       "      <td>4</td>\n",
       "      <td>3</td>\n",
       "      <td>99909971</td>\n",
       "      <td>-1.231401</td>\n",
       "      <td>0</td>\n",
       "      <td>nan</td>\n",
       "      <td>0.991607</td>\n",
       "      <td>0.052787</td>\n",
       "      <td>0.024782</td>\n",
       "      <td>99907337</td>\n",
       "    </tr>\n",
       "    <tr>\n",
       "      <th>238532</th>\n",
       "      <td>chr9</td>\n",
       "      <td>99900348</td>\n",
       "      <td>T</td>\n",
       "      <td>C</td>\n",
       "      <td>chr9.99907206.99907607,rs4742776,chr9,99900349...</td>\n",
       "      <td>-0.103327</td>\n",
       "      <td>0.103327</td>\n",
       "      <td>0.181599</td>\n",
       "      <td>0.015048</td>\n",
       "      <td>0.242672</td>\n",
       "      <td>...</td>\n",
       "      <td>6</td>\n",
       "      <td>9</td>\n",
       "      <td>99900349</td>\n",
       "      <td>0.557542</td>\n",
       "      <td>0</td>\n",
       "      <td>0.986182</td>\n",
       "      <td>0.988833</td>\n",
       "      <td>0.357810</td>\n",
       "      <td>-0.015048</td>\n",
       "      <td>99900349</td>\n",
       "    </tr>\n",
       "    <tr>\n",
       "      <th>238533</th>\n",
       "      <td>chr9</td>\n",
       "      <td>99945504</td>\n",
       "      <td>A</td>\n",
       "      <td>G</td>\n",
       "      <td>chr9.99948930.99949331,rs1969577,chr9,99945505...</td>\n",
       "      <td>0.060148</td>\n",
       "      <td>0.060148</td>\n",
       "      <td>0.296234</td>\n",
       "      <td>0.010914</td>\n",
       "      <td>0.389713</td>\n",
       "      <td>...</td>\n",
       "      <td>4</td>\n",
       "      <td>3</td>\n",
       "      <td>99945505</td>\n",
       "      <td>0.47271</td>\n",
       "      <td>0</td>\n",
       "      <td>nan</td>\n",
       "      <td>0.99172</td>\n",
       "      <td>0.138865</td>\n",
       "      <td>0.010914</td>\n",
       "      <td>99945505</td>\n",
       "    </tr>\n",
       "  </tbody>\n",
       "</table>\n",
       "<p>238534 rows × 51 columns</p>\n",
       "</div>"
      ],
      "text/plain": [
       "          chr        pos allele1 allele2  \\\n",
       "0       chr10  100009634       T       G   \n",
       "1       chr10  100006779       C       T   \n",
       "2       chr10  100015644       T       C   \n",
       "3       chr10  100015399       G       A   \n",
       "4       chr10  100001412       G       T   \n",
       "...       ...        ...     ...     ...   \n",
       "238529   chr9   99862114       T       C   \n",
       "238530   chr9   99900932       A       T   \n",
       "238531   chr9   99907336       G       C   \n",
       "238532   chr9   99900348       T       C   \n",
       "238533   chr9   99945504       A       G   \n",
       "\n",
       "                                                     rsid  logfc.mean  \\\n",
       "0       chr10.100006344.100006745,rs11592868,chr10,100...   -0.017215   \n",
       "1       chr10.100008240.100008641,rs11190364,chr10,100...   -0.003125   \n",
       "2       chr10.100008812.100009213,rs11593328,chr10,100...    0.172159   \n",
       "3       chr10.100009332.100009733,rs12783181,chr10,100...   -0.007196   \n",
       "4       chr10.100009818.100010219,rs12261919,chr10,100...    0.012041   \n",
       "...                                                   ...         ...   \n",
       "238529  chr9.99859616.99860017,rs7024294,chr9,99862115...    0.015420   \n",
       "238530  chr9.99906279.99906680,rs12346763,chr9,9990093...   -0.027554   \n",
       "238531  chr9.99906734.99907135,rs12352899,chr9,9990733...    0.162884   \n",
       "238532  chr9.99907206.99907607,rs4742776,chr9,99900349...   -0.103327   \n",
       "238533  chr9.99948930.99949331,rs1969577,chr9,99945505...    0.060148   \n",
       "\n",
       "        abs_logfc.mean  abs_logfc.mean.pval  jsd.mean  jsd.mean.pval  ...  \\\n",
       "0             0.017215             0.626804  0.009156       0.513335  ...   \n",
       "1             0.015808             0.667671  0.006751       0.757877  ...   \n",
       "2             0.172159             0.105868  0.024766       0.079446  ...   \n",
       "3             0.023521             0.531352  0.013530       0.281725  ...   \n",
       "4             0.018584             0.622337  0.009156       0.513728  ...   \n",
       "...                ...                  ...       ...            ...  ...   \n",
       "238529        0.015420             0.661997  0.011146       0.384553  ...   \n",
       "238530        0.027554             0.502346  0.008188       0.613903  ...   \n",
       "238531        0.162884             0.109280  0.024782       0.086828  ...   \n",
       "238532        0.103327             0.181599  0.015048       0.242672  ...   \n",
       "238533        0.060148             0.296234  0.010914       0.389713  ...   \n",
       "\n",
       "        Num_iterations_null  Num_iterations_alt  Random_ties  \\\n",
       "0                         4                   3    100009635   \n",
       "1                         5                   4    100005358   \n",
       "2                         4                   5    100018116   \n",
       "3                         6                   5    100015400   \n",
       "4                         5                   4    100001413   \n",
       "...                     ...                 ...          ...   \n",
       "238529                    3                   3     99862115   \n",
       "238530                    4                   3     99900933   \n",
       "238531                    4                   3     99909971   \n",
       "238532                    6                   9     99900349   \n",
       "238533                    4                   3     99945505   \n",
       "\n",
       "        Log_likelihood_null  Convergence_status  Sq_corr_fSNPs  Sq_corr_rSNP  \\\n",
       "0                  2.374082                   0       0.982096      0.993065   \n",
       "1                  4.610132                   0       0.989587      0.992047   \n",
       "2                   1.04081                   0       0.990291      0.992138   \n",
       "3                  0.429945                   0       0.901012      0.991069   \n",
       "4                  0.660478                   0            nan      0.949196   \n",
       "...                     ...                 ...            ...           ...   \n",
       "238529             1.642292                   0       0.991061      0.992296   \n",
       "238530            -0.740242                   0            nan      0.990015   \n",
       "238531            -1.231401                   0            nan      0.991607   \n",
       "238532             0.557542                   0       0.986182      0.988833   \n",
       "238533              0.47271                   0            nan       0.99172   \n",
       "\n",
       "        Log10_BF  jsd_sign       pos1  \n",
       "0       0.785133 -0.009156  100009635  \n",
       "1       1.869783 -0.006751  100006780  \n",
       "2       0.340810  0.024766  100015645  \n",
       "3       0.471084 -0.013530  100015400  \n",
       "4       0.525322  0.009156  100001413  \n",
       "...          ...       ...        ...  \n",
       "238529  0.962901  0.011146   99862115  \n",
       "238530  0.045387 -0.008188   99900933  \n",
       "238531  0.052787  0.024782   99907337  \n",
       "238532  0.357810 -0.015048   99900349  \n",
       "238533  0.138865  0.010914   99945505  \n",
       "\n",
       "[238534 rows x 51 columns]"
      ]
     },
     "execution_count": 92,
     "metadata": {},
     "output_type": "execute_result"
    }
   ],
   "source": [
    "preds"
   ]
  },
  {
   "cell_type": "code",
   "execution_count": 94,
   "metadata": {},
   "outputs": [
    {
     "data": {
      "text/html": [
       "<div>\n",
       "<style scoped>\n",
       "    .dataframe tbody tr th:only-of-type {\n",
       "        vertical-align: middle;\n",
       "    }\n",
       "\n",
       "    .dataframe tbody tr th {\n",
       "        vertical-align: top;\n",
       "    }\n",
       "\n",
       "    .dataframe thead th {\n",
       "        text-align: right;\n",
       "    }\n",
       "</style>\n",
       "<table border=\"1\" class=\"dataframe\">\n",
       "  <thead>\n",
       "    <tr style=\"text-align: right;\">\n",
       "      <th></th>\n",
       "      <th>Feature_ID</th>\n",
       "      <th>rsID</th>\n",
       "      <th>Chromosome</th>\n",
       "      <th>SNP_position</th>\n",
       "      <th>Ref_allele</th>\n",
       "      <th>Alt_allele</th>\n",
       "      <th>Freq</th>\n",
       "      <th>HWE_Chisquare</th>\n",
       "      <th>Imp_quality</th>\n",
       "      <th>Log10_BH_Q</th>\n",
       "      <th>...</th>\n",
       "      <th>Distance to TSS</th>\n",
       "      <th>Nearest PromoterID</th>\n",
       "      <th>Entrez ID</th>\n",
       "      <th>Nearest Unigene</th>\n",
       "      <th>Nearest Refseq</th>\n",
       "      <th>Nearest Ensembl</th>\n",
       "      <th>Gene Name</th>\n",
       "      <th>Gene Alias</th>\n",
       "      <th>Gene Description</th>\n",
       "      <th>Gene Type</th>\n",
       "    </tr>\n",
       "  </thead>\n",
       "  <tbody>\n",
       "    <tr>\n",
       "      <th>0</th>\n",
       "      <td>chr1.1069225.1069626</td>\n",
       "      <td>rs74048003</td>\n",
       "      <td>chr1</td>\n",
       "      <td>1067007</td>\n",
       "      <td>A</td>\n",
       "      <td>G</td>\n",
       "      <td>0.2</td>\n",
       "      <td>0.15625</td>\n",
       "      <td>0.999916</td>\n",
       "      <td>-4.920961</td>\n",
       "      <td>...</td>\n",
       "      <td>4881</td>\n",
       "      <td>NM_001205252</td>\n",
       "      <td>401934.0</td>\n",
       "      <td>Hs.568137</td>\n",
       "      <td>NM_001205252</td>\n",
       "      <td>ENSG00000237330</td>\n",
       "      <td>RNF223</td>\n",
       "      <td>-</td>\n",
       "      <td>ring finger protein 223</td>\n",
       "      <td>protein-coding</td>\n",
       "    </tr>\n",
       "  </tbody>\n",
       "</table>\n",
       "<p>1 rows × 47 columns</p>\n",
       "</div>"
      ],
      "text/plain": [
       "             Feature_ID        rsID Chromosome  SNP_position Ref_allele  \\\n",
       "0  chr1.1069225.1069626  rs74048003       chr1       1067007          A   \n",
       "\n",
       "  Alt_allele  Freq  HWE_Chisquare  Imp_quality  Log10_BH_Q  ...  \\\n",
       "0          G   0.2        0.15625     0.999916   -4.920961  ...   \n",
       "\n",
       "   Distance to TSS  Nearest PromoterID  Entrez ID  Nearest Unigene  \\\n",
       "0             4881        NM_001205252   401934.0        Hs.568137   \n",
       "\n",
       "   Nearest Refseq  Nearest Ensembl  Gene Name  Gene Alias  \\\n",
       "0    NM_001205252  ENSG00000237330     RNF223           -   \n",
       "\n",
       "          Gene Description       Gene Type  \n",
       "0  ring finger protein 223  protein-coding  \n",
       "\n",
       "[1 rows x 47 columns]"
      ]
     },
     "execution_count": 94,
     "metadata": {},
     "output_type": "execute_result"
    }
   ],
   "source": [
    "snps2.head(1)\n"
   ]
  },
  {
   "cell_type": "code",
   "execution_count": 95,
   "metadata": {},
   "outputs": [
    {
     "data": {
      "text/html": [
       "<div>\n",
       "<style scoped>\n",
       "    .dataframe tbody tr th:only-of-type {\n",
       "        vertical-align: middle;\n",
       "    }\n",
       "\n",
       "    .dataframe tbody tr th {\n",
       "        vertical-align: top;\n",
       "    }\n",
       "\n",
       "    .dataframe thead th {\n",
       "        text-align: right;\n",
       "    }\n",
       "</style>\n",
       "<table border=\"1\" class=\"dataframe\">\n",
       "  <thead>\n",
       "    <tr style=\"text-align: right;\">\n",
       "      <th></th>\n",
       "      <th>chr</th>\n",
       "      <th>pos</th>\n",
       "      <th>pos1</th>\n",
       "      <th>allele1</th>\n",
       "      <th>allele2</th>\n",
       "      <th>rsid</th>\n",
       "      <th>logfc.mean</th>\n",
       "      <th>abs_logfc.mean</th>\n",
       "      <th>abs_logfc.mean.pval</th>\n",
       "      <th>jsd.mean</th>\n",
       "      <th>...</th>\n",
       "      <th>Num_iterations_null</th>\n",
       "      <th>Num_iterations_alt</th>\n",
       "      <th>Random_ties</th>\n",
       "      <th>Log_likelihood_null</th>\n",
       "      <th>Convergence_status</th>\n",
       "      <th>Sq_corr_fSNPs</th>\n",
       "      <th>Sq_corr_rSNP</th>\n",
       "      <th>Log10_BF</th>\n",
       "      <th>jsd_sign</th>\n",
       "      <th>peak_overlap</th>\n",
       "    </tr>\n",
       "  </thead>\n",
       "  <tbody>\n",
       "    <tr>\n",
       "      <th>0</th>\n",
       "      <td>chr10</td>\n",
       "      <td>100009634</td>\n",
       "      <td>100009635</td>\n",
       "      <td>T</td>\n",
       "      <td>G</td>\n",
       "      <td>chr10.100006344.100006745,rs11592868,chr10,100...</td>\n",
       "      <td>-0.017215</td>\n",
       "      <td>0.017215</td>\n",
       "      <td>0.626804</td>\n",
       "      <td>0.009156</td>\n",
       "      <td>...</td>\n",
       "      <td>4</td>\n",
       "      <td>3</td>\n",
       "      <td>100009635</td>\n",
       "      <td>2.374082</td>\n",
       "      <td>0</td>\n",
       "      <td>0.982096</td>\n",
       "      <td>0.993065</td>\n",
       "      <td>0.785133</td>\n",
       "      <td>-0.009156</td>\n",
       "      <td>False</td>\n",
       "    </tr>\n",
       "    <tr>\n",
       "      <th>1</th>\n",
       "      <td>chr10</td>\n",
       "      <td>100006779</td>\n",
       "      <td>100006780</td>\n",
       "      <td>C</td>\n",
       "      <td>T</td>\n",
       "      <td>chr10.100008240.100008641,rs11190364,chr10,100...</td>\n",
       "      <td>-0.003125</td>\n",
       "      <td>0.015808</td>\n",
       "      <td>0.667671</td>\n",
       "      <td>0.006751</td>\n",
       "      <td>...</td>\n",
       "      <td>5</td>\n",
       "      <td>4</td>\n",
       "      <td>100005358</td>\n",
       "      <td>4.610132</td>\n",
       "      <td>0</td>\n",
       "      <td>0.989587</td>\n",
       "      <td>0.992047</td>\n",
       "      <td>1.869783</td>\n",
       "      <td>-0.006751</td>\n",
       "      <td>False</td>\n",
       "    </tr>\n",
       "  </tbody>\n",
       "</table>\n",
       "<p>2 rows × 52 columns</p>\n",
       "</div>"
      ],
      "text/plain": [
       "     chr        pos       pos1 allele1 allele2  \\\n",
       "0  chr10  100009634  100009635       T       G   \n",
       "1  chr10  100006779  100006780       C       T   \n",
       "\n",
       "                                                rsid  logfc.mean  \\\n",
       "0  chr10.100006344.100006745,rs11592868,chr10,100...   -0.017215   \n",
       "1  chr10.100008240.100008641,rs11190364,chr10,100...   -0.003125   \n",
       "\n",
       "   abs_logfc.mean  abs_logfc.mean.pval  jsd.mean  ...  Num_iterations_null  \\\n",
       "0        0.017215             0.626804  0.009156  ...                    4   \n",
       "1        0.015808             0.667671  0.006751  ...                    5   \n",
       "\n",
       "   Num_iterations_alt  Random_ties  Log_likelihood_null  Convergence_status  \\\n",
       "0                   3    100009635             2.374082                   0   \n",
       "1                   4    100005358             4.610132                   0   \n",
       "\n",
       "   Sq_corr_fSNPs  Sq_corr_rSNP  Log10_BF  jsd_sign  peak_overlap  \n",
       "0       0.982096      0.993065  0.785133 -0.009156         False  \n",
       "1       0.989587      0.992047  1.869783 -0.006751         False  \n",
       "\n",
       "[2 rows x 52 columns]"
      ]
     },
     "execution_count": 95,
     "metadata": {},
     "output_type": "execute_result"
    }
   ],
   "source": [
    "new_scores.head(1)"
   ]
  },
  {
   "cell_type": "code",
   "execution_count": 114,
   "metadata": {},
   "outputs": [],
   "source": [
    "snps2[\"pos1\"] = snps2[\"SNP_position\"] - 1\n",
    "newd = snps2.merge(new_scores, left_on=[\"Chromosome\", \"pos1\", \"Ref_allele\", \"Alt_allele\"], right_on=[\"chr\", \"pos\", \"allele1\", \"allele2\"]\n",
    "               ,how=\"left\").drop_duplicates()"
   ]
  },
  {
   "cell_type": "code",
   "execution_count": 115,
   "metadata": {},
   "outputs": [
    {
     "data": {
      "text/plain": [
       "(1984, 48)"
      ]
     },
     "execution_count": 115,
     "metadata": {},
     "output_type": "execute_result"
    }
   ],
   "source": [
    "snps2.shape"
   ]
  },
  {
   "cell_type": "code",
   "execution_count": 117,
   "metadata": {},
   "outputs": [
    {
     "data": {
      "text/plain": [
       "(2500, 100)"
      ]
     },
     "execution_count": 117,
     "metadata": {},
     "output_type": "execute_result"
    }
   ],
   "source": [
    "newd.shape"
   ]
  },
  {
   "cell_type": "code",
   "execution_count": 122,
   "metadata": {},
   "outputs": [
    {
     "data": {
      "text/plain": [
       "402"
      ]
     },
     "execution_count": 122,
     "metadata": {},
     "output_type": "execute_result"
    }
   ],
   "source": [
    "sum(newd[\"peak_overlap\"])"
   ]
  },
  {
   "cell_type": "code",
   "execution_count": 123,
   "metadata": {},
   "outputs": [
    {
     "data": {
      "text/plain": [
       "Index(['Feature_ID_x', 'rsID_x', 'Chromosome_x', 'SNP_position_x',\n",
       "       'Ref_allele_x', 'Alt_allele_x', 'Freq_x', 'HWE_Chisquare_x',\n",
       "       'Imp_quality_x', 'Log10_BH_Q_x', 'Chisquare_x', 'Effect_size_x',\n",
       "       'Delta_x', 'Phi_x', 'Overdispersion_x', 'SNP_id_region_x',\n",
       "       'Num_feature_SNPs_x', 'Num_tested_SNPs_x', 'Num_iterations_null_x',\n",
       "       'Num_iterations_alt_x', 'Random_ties_x', 'Log_likelihood_null_x',\n",
       "       'Convergence_status_x', 'Sq_corr_fSNPs_x', 'Sq_corr_rSNP_x', 'P', 'q',\n",
       "       'keep', 'PeakID', 'Chr', 'Start', 'End', 'Strand', 'Peak Score',\n",
       "       'Focus Ratio/Region Size', 'Annotation', 'Detailed Annotation',\n",
       "       'Distance to TSS', 'Nearest PromoterID', 'Entrez ID', 'Nearest Unigene',\n",
       "       'Nearest Refseq', 'Nearest Ensembl', 'Gene Name', 'Gene Alias',\n",
       "       'Gene Description', 'Gene Type', 'pos1_x', 'chr', 'pos', 'pos1_y',\n",
       "       'allele1', 'allele2', 'rsid', 'logfc.mean', 'abs_logfc.mean',\n",
       "       'abs_logfc.mean.pval', 'jsd.mean', 'jsd.mean.pval', 'logfc_x_jsd.mean',\n",
       "       'abs_logfc_x_jsd.mean', 'abs_logfc_x_jsd.mean.pval',\n",
       "       'max_percentile.mean', 'max_percentile.mean.pval',\n",
       "       'logfc_x_max_percentile.mean', 'abs_logfc_x_max_percentile.mean',\n",
       "       'abs_logfc_x_max_percentile.mean.pval', 'jsd_x_max_percentile.mean',\n",
       "       'jsd_x_max_percentile.mean.pval',\n",
       "       'abs_logfc_x_jsd_x_max_percentile.mean',\n",
       "       'abs_logfc_x_jsd_x_max_percentile.mean.pval',\n",
       "       'logfc_x_jsd_x_max_percentile.mean', 'Feature_ID_y', 'rsID_y',\n",
       "       'Chromosome_y', 'SNP_position_y', 'Ref_allele_y', 'Alt_allele_y',\n",
       "       'Freq_y', 'HWE_Chisquare_y', 'Imp_quality_y', 'Log10_BH_Q_y',\n",
       "       'Chisquare_y', 'Effect_size_y', 'Delta_y', 'Phi_y', 'Overdispersion_y',\n",
       "       'SNP_id_region_y', 'Num_feature_SNPs_y', 'Num_tested_SNPs_y',\n",
       "       'Num_iterations_null_y', 'Num_iterations_alt_y', 'Random_ties_y',\n",
       "       'Log_likelihood_null_y', 'Convergence_status_y', 'Sq_corr_fSNPs_y',\n",
       "       'Sq_corr_rSNP_y', 'Log10_BF', 'jsd_sign', 'peak_overlap'],\n",
       "      dtype='object')"
      ]
     },
     "execution_count": 123,
     "metadata": {},
     "output_type": "execute_result"
    }
   ],
   "source": [
    "newd.columns"
   ]
  },
  {
   "cell_type": "code",
   "execution_count": 127,
   "metadata": {},
   "outputs": [
    {
     "data": {
      "text/plain": [
       "<AxesSubplot:xlabel='Predicted (ES)', ylabel='Observed'>"
      ]
     },
     "execution_count": 127,
     "metadata": {},
     "output_type": "execute_result"
    },
    {
     "data": {
      "image/png": "[encoded data removed]",
      "text/plain": [
       "<Figure size 360x360 with 1 Axes>"
      ]
     },
     "metadata": {
      "needs_background": "light"
     },
     "output_type": "display_data"
    }
   ],
   "source": [
    "import seaborn as sns\n",
    "\n",
    "plt.figure(figsize=(5,5))\n",
    "data = pd.DataFrame()\n",
    "data[\"Predicted (ES)\"] = newd[newd[\"peak_overlap\"]][\"Effect_size_x\"]\n",
    "data[\"Observed\"] = newd[newd[\"peak_overlap\"]][\"Effect_size_y\"]-0.5\n",
    "data[\"max_percentile.mean\"] = abs(newd[newd[\"peak_overlap\"]][\"max_percentile.mean\"])\n",
    "\n",
    "sns.scatterplot(data=data, x=\"Predicted (ES)\", y=\"Observed\", hue=\"max_percentile.mean\", s=10)\n"
   ]
  },
  {
   "cell_type": "code",
   "execution_count": 129,
   "metadata": {},
   "outputs": [],
   "source": [
    "preds\n",
    "before = pd.read_csv(\"/mnt/lab_data2/anusri/chrombpnet/results/variant_data/smc_caqtls/preds_fold0/snp_scores_bed_format_inpeaks.bed\", sep=\"\\t\", header=None)"
   ]
  },
  {
   "cell_type": "code",
   "execution_count": 139,
   "metadata": {},
   "outputs": [],
   "source": [
    "kk = preds.merge(before, left_on=[\"chr\", \"pos\", \"allele1\", \"allele2\"], right_on=[0,1,3,4]).drop_duplicates()"
   ]
  },
  {
   "cell_type": "code",
   "execution_count": 135,
   "metadata": {},
   "outputs": [
    {
     "data": {
      "text/plain": [
       "<matplotlib.collections.PathCollection at 0x7f9b380eef50>"
      ]
     },
     "execution_count": 135,
     "metadata": {},
     "output_type": "execute_result"
    },
    {
     "data": {
      "image/png": "[encoded data removed]",
      "text/plain": [
       "<Figure size 864x720 with 1 Axes>"
      ]
     },
     "metadata": {
      "needs_background": "light"
     },
     "output_type": "display_data"
    }
   ],
   "source": [
    "plt.scatter(before[8], before[20])"
   ]
  },
  {
   "cell_type": "code",
   "execution_count": 148,
   "metadata": {},
   "outputs": [
    {
     "data": {
      "text/plain": [
       "<matplotlib.collections.PathCollection at 0x7f9b38ab2cd0>"
      ]
     },
     "execution_count": 148,
     "metadata": {},
     "output_type": "execute_result"
    },
    {
     "data": {
      "image/png": "[encoded data removed]",
      "text/plain": [
       "<Figure size 864x720 with 1 Axes>"
      ]
     },
     "metadata": {
      "needs_background": "light"
     },
     "output_type": "display_data"
    }
   ],
   "source": [
    "plt.scatter(kk[\"Effect_size\"].astype(float), kk[20])"
   ]
  },
  {
   "cell_type": "code",
   "execution_count": 141,
   "metadata": {},
   "outputs": [
    {
     "data": {
      "text/plain": [
       "['chr',\n",
       " 'pos',\n",
       " 'allele1',\n",
       " 'allele2',\n",
       " 'rsid',\n",
       " 'logfc.mean',\n",
       " 'abs_logfc.mean',\n",
       " 'abs_logfc.mean.pval',\n",
       " 'jsd.mean',\n",
       " 'jsd.mean.pval',\n",
       " 'logfc_x_jsd.mean',\n",
       " 'abs_logfc_x_jsd.mean',\n",
       " 'abs_logfc_x_jsd.mean.pval',\n",
       " 'max_percentile.mean',\n",
       " 'max_percentile.mean.pval',\n",
       " 'logfc_x_max_percentile.mean',\n",
       " 'abs_logfc_x_max_percentile.mean',\n",
       " 'abs_logfc_x_max_percentile.mean.pval',\n",
       " 'jsd_x_max_percentile.mean',\n",
       " 'jsd_x_max_percentile.mean.pval',\n",
       " 'abs_logfc_x_jsd_x_max_percentile.mean',\n",
       " 'abs_logfc_x_jsd_x_max_percentile.mean.pval',\n",
       " 'logfc_x_jsd_x_max_percentile.mean',\n",
       " 'Feature_ID',\n",
       " 'rsID',\n",
       " 'Chromosome',\n",
       " 'SNP_position',\n",
       " 'Ref_allele',\n",
       " 'Alt_allele',\n",
       " 'Freq',\n",
       " 'HWE_Chisquare',\n",
       " 'Imp_quality',\n",
       " 'Log10_BH_Q',\n",
       " 'Chisquare',\n",
       " 'Effect_size',\n",
       " 'Delta',\n",
       " 'Phi',\n",
       " 'Overdispersion',\n",
       " 'SNP_id_region',\n",
       " 'Num_feature_SNPs',\n",
       " 'Num_tested_SNPs',\n",
       " 'Num_iterations_null',\n",
       " 'Num_iterations_alt',\n",
       " 'Random_ties',\n",
       " 'Log_likelihood_null',\n",
       " 'Convergence_status',\n",
       " 'Sq_corr_fSNPs',\n",
       " 'Sq_corr_rSNP',\n",
       " 'Log10_BF',\n",
       " 'jsd_sign',\n",
       " 'pos1',\n",
       " 0,\n",
       " 1,\n",
       " 2,\n",
       " 3,\n",
       " 4,\n",
       " 5,\n",
       " 6,\n",
       " 7,\n",
       " 8,\n",
       " 9,\n",
       " 10,\n",
       " 11,\n",
       " 12,\n",
       " 13,\n",
       " 14,\n",
       " 15,\n",
       " 16,\n",
       " 17,\n",
       " 18,\n",
       " 19,\n",
       " 20,\n",
       " 21,\n",
       " 22,\n",
       " 23,\n",
       " 24,\n",
       " 25,\n",
       " 26,\n",
       " 27,\n",
       " 28,\n",
       " 29,\n",
       " 30,\n",
       " 31,\n",
       " 32,\n",
       " 33,\n",
       " 34,\n",
       " 35,\n",
       " 36,\n",
       " 37,\n",
       " 38,\n",
       " 39,\n",
       " 40,\n",
       " 41,\n",
       " 42,\n",
       " 43,\n",
       " 44,\n",
       " 45,\n",
       " 46,\n",
       " 47,\n",
       " 48,\n",
       " 49,\n",
       " 50,\n",
       " 51,\n",
       " 52,\n",
       " 53,\n",
       " 54,\n",
       " 55]"
      ]
     },
     "execution_count": 141,
     "metadata": {},
     "output_type": "execute_result"
    }
   ],
   "source": [
    "#kk.columns.tolist()"
   ]
  },
  {
   "cell_type": "code",
   "execution_count": null,
   "metadata": {},
   "outputs": [],
   "source": []
  }
 ],
 "metadata": {
  "kernelspec": {
   "display_name": "Python 3",
   "language": "python",
   "name": "python3"
  },
  "language_info": {
   "codemirror_mode": {
    "name": "ipython",
    "version": 3
   },
   "file_extension": ".py",
   "mimetype": "text/x-python",
   "name": "python",
   "nbconvert_exporter": "python",
   "pygments_lexer": "ipython3",
   "version": "3.7.6"
  }
 },
 "nbformat": 4,
 "nbformat_minor": 4
}
