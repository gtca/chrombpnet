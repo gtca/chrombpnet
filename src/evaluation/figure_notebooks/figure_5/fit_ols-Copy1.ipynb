{
 "cells": [
  {
   "cell_type": "code",
   "execution_count": 17,
   "metadata": {},
   "outputs": [],
   "source": [
    "import pickle\n",
    "with open('addons/imr90/coop_matrix_all_new_spaced_sub_2.pkl', 'rb') as handle:\n",
    "    values_fresh = pickle.load(handle)"
   ]
  },
  {
   "cell_type": "code",
   "execution_count": 18,
   "metadata": {},
   "outputs": [
    {
     "data": {
      "text/plain": [
       "dict_keys(['ZEB-AP1', 'TEAD-AP1', 'control'])"
      ]
     },
     "execution_count": 18,
     "metadata": {},
     "output_type": "execute_result"
    }
   ],
   "source": [
    "values_fresh.keys()"
   ]
  },
  {
   "cell_type": "code",
   "execution_count": 19,
   "metadata": {},
   "outputs": [],
   "source": [
    "#vals, label = values_fresh['metacluster_0.pattern_0-metacluster_0.pattern_0']\n",
    "vals, label = values_fresh['ZEB-AP1']"
   ]
  },
  {
   "cell_type": "code",
   "execution_count": 20,
   "metadata": {},
   "outputs": [
    {
     "name": "stdout",
     "output_type": "stream",
     "text": [
      "ZEB-AP1\n"
     ]
    }
   ],
   "source": [
    "print(label)"
   ]
  },
  {
   "cell_type": "code",
   "execution_count": 21,
   "metadata": {},
   "outputs": [],
   "source": [
    "[motif1_only, motif2_only, data_in_spacings, motif1_only_rev, motif2_only_rev, data_in_spacings_rev, distance] = vals"
   ]
  },
  {
   "cell_type": "code",
   "execution_count": 22,
   "metadata": {},
   "outputs": [],
   "source": [
    "control = values_fresh['control']"
   ]
  },
  {
   "cell_type": "code",
   "execution_count": 23,
   "metadata": {},
   "outputs": [],
   "source": [
    "from statsmodels.regression.linear_model import OLS\n",
    "import numpy as np"
   ]
  },
  {
   "cell_type": "code",
   "execution_count": 48,
   "metadata": {},
   "outputs": [],
   "source": [
    "all_data = data_in_spacings+data_in_spacings_rev\n",
    "all_data_m1 = motif1_only + motif1_only_rev\n",
    "all_data_m2 = motif2_only + motif2_only_rev\n",
    "\n",
    "plot_dist= []\n",
    "plot_vals = []\n",
    "m1_vals = []\n",
    "m2_vals = []\n",
    "for idx in range(len(distance)):\n",
    "    plot_dist.append(distance[idx])\n",
    "    plot_vals.append(np.log(np.mean(np.squeeze(all_data[idx][1]), axis=-1)))\n",
    "    m1_vals.append(np.log(np.mean(np.squeeze(all_data_m1[idx][1]), axis=-1)))\n",
    "    m2_vals.append(np.log(np.mean(np.squeeze(all_data_m2[idx][1]), axis=-1)))\n",
    "    \n",
    "    "
   ]
  },
  {
   "cell_type": "code",
   "execution_count": 49,
   "metadata": {},
   "outputs": [],
   "source": [
    "import matplotlib.pyplot as plt"
   ]
  },
  {
   "cell_type": "code",
   "execution_count": 50,
   "metadata": {},
   "outputs": [
    {
     "data": {
      "text/plain": [
       "<matplotlib.collections.PathCollection at 0x7fe7ba8cc0d0>"
      ]
     },
     "execution_count": 50,
     "metadata": {},
     "output_type": "execute_result"
    },
    {
     "data": {
      "image/png": "[encoded data removed]",
      "text/plain": [
       "<Figure size 432x288 with 1 Axes>"
      ]
     },
     "metadata": {
      "needs_background": "light"
     },
     "output_type": "display_data"
    }
   ],
   "source": [
    "plt.scatter(plot_dist, plot_vals-np.mean(np.log(control[1])))\n",
    "#plt.axhline(y = np.mean(np.log(control[1])), color = 'r', linestyle = 'dashed')    \n",
    "plt.scatter(plot_dist, m1_vals-np.mean(np.log(control[1])))\n",
    "plt.scatter(plot_dist, m2_vals-np.mean(np.log(control[1])))\n"
   ]
  },
  {
   "cell_type": "code",
   "execution_count": 11,
   "metadata": {},
   "outputs": [
    {
     "data": {
      "text/plain": [
       "7"
      ]
     },
     "execution_count": 11,
     "metadata": {},
     "output_type": "execute_result"
    }
   ],
   "source": [
    "np.argmin(np.exp(plot_vals)-np.mean(control[1]))"
   ]
  },
  {
   "cell_type": "code",
   "execution_count": 12,
   "metadata": {},
   "outputs": [
    {
     "name": "stdout",
     "output_type": "stream",
     "text": [
      "8\n"
     ]
    }
   ],
   "source": [
    "print(plot_dist[7])"
   ]
  },
  {
   "cell_type": "code",
   "execution_count": 11,
   "metadata": {},
   "outputs": [
    {
     "data": {
      "text/plain": [
       "<matplotlib.collections.PathCollection at 0x7f7b0ff50c50>"
      ]
     },
     "execution_count": 11,
     "metadata": {},
     "output_type": "execute_result"
    },
    {
     "data": {
      "image/png": "[encoded data removed]",
      "text/plain": [
       "<Figure size 432x288 with 1 Axes>"
      ]
     },
     "metadata": {
      "needs_background": "light"
     },
     "output_type": "display_data"
    }
   ],
   "source": [
    "plt.scatter(plot_dist, np.exp(plot_vals))\n",
    "plt.axhline(y = np.mean(control[1]), color = 'r', linestyle = 'dashed')    \n",
    "plt.scatter(plot_dist, np.exp(m1_vals))\n",
    "plt.scatter(plot_dist, np.exp(m2_vals))\n"
   ]
  },
  {
   "cell_type": "code",
   "execution_count": 12,
   "metadata": {},
   "outputs": [
    {
     "data": {
      "text/plain": [
       "43.72696"
      ]
     },
     "execution_count": 12,
     "metadata": {},
     "output_type": "execute_result"
    }
   ],
   "source": [
    "np.min(np.exp(plot_vals))"
   ]
  },
  {
   "cell_type": "code",
   "execution_count": 13,
   "metadata": {},
   "outputs": [
    {
     "data": {
      "text/plain": [
       "7"
      ]
     },
     "execution_count": 13,
     "metadata": {},
     "output_type": "execute_result"
    }
   ],
   "source": [
    "np.argmin(np.exp(plot_vals))"
   ]
  },
  {
   "cell_type": "code",
   "execution_count": 14,
   "metadata": {},
   "outputs": [
    {
     "name": "stdout",
     "output_type": "stream",
     "text": [
      "36.987663\n"
     ]
    },
    {
     "data": {
      "image/png": "[encoded data removed]",
      "text/plain": [
       "<Figure size 432x288 with 1 Axes>"
      ]
     },
     "metadata": {
      "needs_background": "light"
     },
     "output_type": "display_data"
    }
   ],
   "source": [
    "idx=7\n",
    "plt.scatter(np.arange(100),all_data_m1[idx][1])\n",
    "print(np.mean(all_data_m1[idx][1]))"
   ]
  },
  {
   "cell_type": "code",
   "execution_count": 15,
   "metadata": {},
   "outputs": [
    {
     "name": "stdout",
     "output_type": "stream",
     "text": [
      "84.79952\n"
     ]
    },
    {
     "data": {
      "image/png": "[encoded data removed]",
      "text/plain": [
       "<Figure size 432x288 with 1 Axes>"
      ]
     },
     "metadata": {
      "needs_background": "light"
     },
     "output_type": "display_data"
    }
   ],
   "source": [
    "idx=7\n",
    "plt.scatter(np.arange(100),all_data_m2[idx][1])\n",
    "print(np.mean(all_data_m2[idx][1]))"
   ]
  },
  {
   "cell_type": "code",
   "execution_count": 16,
   "metadata": {},
   "outputs": [
    {
     "name": "stdout",
     "output_type": "stream",
     "text": [
      "41.862362\n"
     ]
    },
    {
     "data": {
      "image/png": "[encoded data removed]",
      "text/plain": [
       "<Figure size 432x288 with 1 Axes>"
      ]
     },
     "metadata": {
      "needs_background": "light"
     },
     "output_type": "display_data"
    }
   ],
   "source": [
    "plt.scatter(np.arange(100),control[1])\n",
    "print(np.mean(control[1]))"
   ]
  },
  {
   "cell_type": "code",
   "execution_count": null,
   "metadata": {},
   "outputs": [],
   "source": []
  },
  {
   "cell_type": "code",
   "execution_count": 17,
   "metadata": {},
   "outputs": [
    {
     "name": "stdout",
     "output_type": "stream",
     "text": [
      "43.726963\n"
     ]
    },
    {
     "data": {
      "image/png": "[encoded data removed]",
      "text/plain": [
       "<Figure size 432x288 with 1 Axes>"
      ]
     },
     "metadata": {
      "needs_background": "light"
     },
     "output_type": "display_data"
    }
   ],
   "source": [
    "idx=7\n",
    "plt.scatter(np.arange(100),all_data[idx][1])\n",
    "print(np.mean(all_data[idx][1]))"
   ]
  },
  {
   "cell_type": "code",
   "execution_count": 18,
   "metadata": {},
   "outputs": [
    {
     "data": {
      "text/plain": [
       "(100, 1)"
      ]
     },
     "execution_count": 18,
     "metadata": {},
     "output_type": "execute_result"
    }
   ],
   "source": [
    "control[1].shape"
   ]
  },
  {
   "cell_type": "code",
   "execution_count": 19,
   "metadata": {},
   "outputs": [],
   "source": [
    "controlm = np.mean(control[1])"
   ]
  },
  {
   "cell_type": "markdown",
   "metadata": {},
   "source": [
    "# y =  alpha * m1 + beta* m2 + gamme*(a*b)+yeta*d  (y,m1,m2 are average response)"
   ]
  },
  {
   "cell_type": "code",
   "execution_count": 20,
   "metadata": {},
   "outputs": [
    {
     "name": "stdout",
     "output_type": "stream",
     "text": [
      "(56, 4)\n"
     ]
    }
   ],
   "source": [
    "Y = plot_vals\n",
    "d = plot_dist\n",
    "X = np.array([m1_vals-np.log(controlm), m2_vals-np.log(controlm), (m1_vals-np.log(controlm))*(m2_vals-np.log(controlm)), d]).transpose()\n",
    "print(X.shape)"
   ]
  },
  {
   "cell_type": "code",
   "execution_count": 21,
   "metadata": {},
   "outputs": [],
   "source": [
    "model = OLS(Y,X)"
   ]
  },
  {
   "cell_type": "code",
   "execution_count": 22,
   "metadata": {},
   "outputs": [],
   "source": [
    "results = model.fit()"
   ]
  },
  {
   "cell_type": "code",
   "execution_count": 23,
   "metadata": {},
   "outputs": [
    {
     "name": "stdout",
     "output_type": "stream",
     "text": [
      "                             Test for Constraints                             \n",
      "==============================================================================\n",
      "                 coef    std err          t      P>|t|      [0.025      0.975]\n",
      "------------------------------------------------------------------------------\n",
      "c0           -28.6178      4.321     -6.623      0.000     -37.289     -19.947\n",
      "==============================================================================\n"
     ]
    }
   ],
   "source": [
    "print(results.t_test([1, 0, 0, 0]))"
   ]
  },
  {
   "cell_type": "code",
   "execution_count": 24,
   "metadata": {},
   "outputs": [
    {
     "name": "stdout",
     "output_type": "stream",
     "text": [
      "                             Test for Constraints                             \n",
      "==============================================================================\n",
      "                 coef    std err          t      P>|t|      [0.025      0.975]\n",
      "------------------------------------------------------------------------------\n",
      "c0          6.486e+05   1.67e+06      0.388      0.699    -2.7e+06       4e+06\n",
      "==============================================================================\n"
     ]
    }
   ],
   "source": [
    "print(results.t_test([0, 1, 0, 0]))"
   ]
  },
  {
   "cell_type": "code",
   "execution_count": 25,
   "metadata": {},
   "outputs": [
    {
     "name": "stdout",
     "output_type": "stream",
     "text": [
      "                             Test for Constraints                             \n",
      "==============================================================================\n",
      "                 coef    std err          t      P>|t|      [0.025      0.975]\n",
      "------------------------------------------------------------------------------\n",
      "c0          5.239e+06   1.35e+07      0.388      0.699   -2.18e+07    3.23e+07\n",
      "==============================================================================\n"
     ]
    }
   ],
   "source": [
    "print(results.t_test([0, 0, 1, 0]))"
   ]
  },
  {
   "cell_type": "code",
   "execution_count": 26,
   "metadata": {},
   "outputs": [
    {
     "name": "stdout",
     "output_type": "stream",
     "text": [
      "                             Test for Constraints                             \n",
      "==============================================================================\n",
      "                 coef    std err          t      P>|t|      [0.025      0.975]\n",
      "------------------------------------------------------------------------------\n",
      "c0            -0.0001      0.000     -0.337      0.737      -0.001       0.001\n",
      "==============================================================================\n"
     ]
    }
   ],
   "source": [
    "print(results.t_test([0, 0, 0, 1]))"
   ]
  },
  {
   "cell_type": "code",
   "execution_count": null,
   "metadata": {},
   "outputs": [],
   "source": []
  },
  {
   "cell_type": "code",
   "execution_count": 27,
   "metadata": {},
   "outputs": [
    {
     "data": {
      "text/plain": [
       "<statsmodels.regression.linear_model.OLS at 0x7f7b0fcb4490>"
      ]
     },
     "execution_count": 27,
     "metadata": {},
     "output_type": "execute_result"
    }
   ],
   "source": [
    "model"
   ]
  },
  {
   "cell_type": "code",
   "execution_count": 28,
   "metadata": {},
   "outputs": [
    {
     "data": {
      "text/plain": [
       "<matplotlib.collections.PathCollection at 0x7f7b0fcab250>"
      ]
     },
     "execution_count": 28,
     "metadata": {},
     "output_type": "execute_result"
    },
    {
     "data": {
      "image/png": "[encoded data removed]",
      "text/plain": [
       "<Figure size 432x288 with 1 Axes>"
      ]
     },
     "metadata": {
      "needs_background": "light"
     },
     "output_type": "display_data"
    }
   ],
   "source": [
    "plt.scatter(Y,results.predict())"
   ]
  },
  {
   "cell_type": "markdown",
   "metadata": {},
   "source": [
    "# # y =  alpha * m1 + beta* m2 + gamme*(a*b)+yeta*d  (y,m1,m2 are not average response)\n"
   ]
  },
  {
   "cell_type": "code",
   "execution_count": 29,
   "metadata": {},
   "outputs": [],
   "source": [
    "all_data = data_in_spacings+data_in_spacings_rev\n",
    "all_data_m1 = motif1_only + motif1_only_rev\n",
    "all_data_m2 = motif2_only + motif2_only_rev\n",
    "\n",
    "plot_dist= []\n",
    "plot_vals = []\n",
    "m1_vals = []\n",
    "m2_vals = []\n",
    "control1 = []\n",
    "for idx in range(len(distance)):\n",
    "    plot_vals.append(np.log(np.squeeze(all_data[idx][1])))\n",
    "    m1_vals.append(np.log(np.squeeze(all_data_m1[idx][1])))\n",
    "    m2_vals.append(np.log(np.squeeze(all_data_m2[idx][1])))\n",
    "    plot_dist.append([distance[idx]]*all_data[idx][1].shape[0])\n",
    "    control1.append(np.log(np.squeeze(control[1])))\n",
    "    "
   ]
  },
  {
   "cell_type": "code",
   "execution_count": 30,
   "metadata": {},
   "outputs": [
    {
     "name": "stdout",
     "output_type": "stream",
     "text": [
      "(5600, 5)\n"
     ]
    }
   ],
   "source": [
    "Y = np.array(plot_vals).flatten()\n",
    "d = np.array(plot_dist).flatten()\n",
    "m1 = np.array(m1_vals).flatten()\n",
    "m2 = np.array(m2_vals).flatten()\n",
    "controls = np.array(control1).flatten()\n",
    "X = np.array([m1-controls, m2-controls, (m1-controls)*(m2-controls), d]).transpose()\n",
    "import statsmodels.api as sm\n",
    "X = sm.add_constant(X)\n",
    "\n",
    "print(X.shape)"
   ]
  },
  {
   "cell_type": "code",
   "execution_count": 31,
   "metadata": {},
   "outputs": [],
   "source": [
    "model = OLS(Y,X)"
   ]
  },
  {
   "cell_type": "code",
   "execution_count": 32,
   "metadata": {},
   "outputs": [],
   "source": [
    "results = model.fit()"
   ]
  },
  {
   "cell_type": "code",
   "execution_count": 33,
   "metadata": {},
   "outputs": [
    {
     "name": "stdout",
     "output_type": "stream",
     "text": [
      "                             Test for Constraints                             \n",
      "==============================================================================\n",
      "                 coef    std err          t      P>|t|      [0.025      0.975]\n",
      "------------------------------------------------------------------------------\n",
      "c0             3.4851      0.019    184.297      0.000       3.448       3.522\n",
      "==============================================================================\n"
     ]
    }
   ],
   "source": [
    "print(results.t_test([1, 0, 0, 0,0]))"
   ]
  },
  {
   "cell_type": "code",
   "execution_count": 34,
   "metadata": {},
   "outputs": [
    {
     "name": "stdout",
     "output_type": "stream",
     "text": [
      "                             Test for Constraints                             \n",
      "==============================================================================\n",
      "                 coef    std err          t      P>|t|      [0.025      0.975]\n",
      "------------------------------------------------------------------------------\n",
      "c0            -0.1019      0.080     -1.279      0.201      -0.258       0.054\n",
      "==============================================================================\n"
     ]
    }
   ],
   "source": [
    "print(results.t_test([0, 1, 0, 0,0]))"
   ]
  },
  {
   "cell_type": "code",
   "execution_count": 35,
   "metadata": {},
   "outputs": [
    {
     "name": "stdout",
     "output_type": "stream",
     "text": [
      "                             Test for Constraints                             \n",
      "==============================================================================\n",
      "                 coef    std err          t      P>|t|      [0.025      0.975]\n",
      "------------------------------------------------------------------------------\n",
      "c0             0.2710      0.029      9.292      0.000       0.214       0.328\n",
      "==============================================================================\n"
     ]
    }
   ],
   "source": [
    "print(results.t_test([0, 0, 1, 0,0]))"
   ]
  },
  {
   "cell_type": "code",
   "execution_count": 36,
   "metadata": {},
   "outputs": [
    {
     "name": "stdout",
     "output_type": "stream",
     "text": [
      "                             Test for Constraints                             \n",
      "==============================================================================\n",
      "                 coef    std err          t      P>|t|      [0.025      0.975]\n",
      "------------------------------------------------------------------------------\n",
      "c0             0.0520      0.108      0.484      0.629      -0.159       0.263\n",
      "==============================================================================\n"
     ]
    }
   ],
   "source": [
    "print(results.t_test([0, 0, 0, 1,0]))"
   ]
  },
  {
   "cell_type": "code",
   "execution_count": 37,
   "metadata": {},
   "outputs": [
    {
     "name": "stdout",
     "output_type": "stream",
     "text": [
      "                             Test for Constraints                             \n",
      "==============================================================================\n",
      "                 coef    std err          t      P>|t|      [0.025      0.975]\n",
      "------------------------------------------------------------------------------\n",
      "c0           1.57e-05      0.000      0.094      0.925      -0.000       0.000\n",
      "==============================================================================\n"
     ]
    }
   ],
   "source": [
    "print(results.t_test([0, 0, 0, 0,1]))"
   ]
  },
  {
   "cell_type": "code",
   "execution_count": 38,
   "metadata": {},
   "outputs": [
    {
     "data": {
      "text/plain": [
       "<matplotlib.collections.PathCollection at 0x7f7b0a021e10>"
      ]
     },
     "execution_count": 38,
     "metadata": {},
     "output_type": "execute_result"
    },
    {
     "data": {
      "image/png": "[encoded data removed]",
      "text/plain": [
       "<Figure size 432x288 with 1 Axes>"
      ]
     },
     "metadata": {
      "needs_background": "light"
     },
     "output_type": "display_data"
    }
   ],
   "source": [
    "plt.scatter(Y,results.predict())"
   ]
  },
  {
   "cell_type": "code",
   "execution_count": 39,
   "metadata": {},
   "outputs": [],
   "source": [
    "from scipy.stats import pearsonr"
   ]
  },
  {
   "cell_type": "code",
   "execution_count": 40,
   "metadata": {},
   "outputs": [
    {
     "data": {
      "text/plain": [
       "(0.17011658891357856, 1.2495752577566415e-37)"
      ]
     },
     "execution_count": 40,
     "metadata": {},
     "output_type": "execute_result"
    }
   ],
   "source": [
    "pearsonr(Y,results.predict())"
   ]
  },
  {
   "cell_type": "markdown",
   "metadata": {},
   "source": [
    "# y =  alpha * m1 + beta* m2 + gamme*(a*b)  (for max distance)\n"
   ]
  },
  {
   "cell_type": "code",
   "execution_count": 53,
   "metadata": {},
   "outputs": [],
   "source": [
    "all_data = data_in_spacings+data_in_spacings_rev\n",
    "all_data_m1 = motif1_only + motif1_only_rev\n",
    "all_data_m2 = motif2_only + motif2_only_rev\n",
    "\n",
    "plot_dist= []\n",
    "plot_vals_mean = []\n",
    "m1_vals = []\n",
    "m2_vals = []\n",
    "control1 = []\n",
    "plot_vals = []\n",
    "for idx in range(len(distance)):\n",
    "    plot_vals_mean.append(np.log(np.mean(np.squeeze(all_data[idx][1]), axis=-1)))\n",
    "    plot_vals.append(np.log(np.squeeze(all_data[idx][1])))\n",
    "    m1_vals.append(np.log(np.squeeze(all_data_m1[idx][1])))\n",
    "    m2_vals.append(np.log(np.squeeze(all_data_m2[idx][1])))\n",
    "    plot_dist.append([distance[idx]]*all_data[idx][1].shape[0])\n",
    "    control1.append(np.log(np.squeeze(control[1])))\n",
    "    "
   ]
  },
  {
   "cell_type": "code",
   "execution_count": 54,
   "metadata": {},
   "outputs": [
    {
     "data": {
      "text/plain": [
       "<matplotlib.collections.PathCollection at 0x7fe7ba740910>"
      ]
     },
     "execution_count": 54,
     "metadata": {},
     "output_type": "execute_result"
    },
    {
     "data": {
      "image/png": "[encoded data removed]",
      "text/plain": [
       "<Figure size 432x288 with 1 Axes>"
      ]
     },
     "metadata": {
      "needs_background": "light"
     },
     "output_type": "display_data"
    }
   ],
   "source": [
    "plt.scatter(np.arange(100),m1_vals[7].flatten())\n",
    "plt.scatter(np.arange(100),m2_vals[7].flatten())\n",
    "plt.scatter(np.arange(100),(plot_vals[7]-m1_vals[7]-m2_vals[7]+control1[7]).flatten())"
   ]
  },
  {
   "cell_type": "code",
   "execution_count": 55,
   "metadata": {},
   "outputs": [
    {
     "data": {
      "text/plain": [
       "36.987663"
      ]
     },
     "execution_count": 55,
     "metadata": {},
     "output_type": "execute_result"
    }
   ],
   "source": [
    "np.mean(np.exp(m1_vals[7].flatten()))"
   ]
  },
  {
   "cell_type": "code",
   "execution_count": 56,
   "metadata": {},
   "outputs": [
    {
     "data": {
      "text/plain": [
       "84.79952"
      ]
     },
     "execution_count": 56,
     "metadata": {},
     "output_type": "execute_result"
    }
   ],
   "source": [
    "np.mean(np.exp(m2_vals[7].flatten()))"
   ]
  },
  {
   "cell_type": "code",
   "execution_count": 57,
   "metadata": {},
   "outputs": [
    {
     "data": {
      "text/plain": [
       "43.726963"
      ]
     },
     "execution_count": 57,
     "metadata": {},
     "output_type": "execute_result"
    }
   ],
   "source": [
    "np.mean(np.exp(plot_vals[7].flatten()))"
   ]
  },
  {
   "cell_type": "code",
   "execution_count": null,
   "metadata": {},
   "outputs": [],
   "source": []
  },
  {
   "cell_type": "code",
   "execution_count": 58,
   "metadata": {},
   "outputs": [
    {
     "data": {
      "text/plain": [
       "3.8488505"
      ]
     },
     "execution_count": 58,
     "metadata": {},
     "output_type": "execute_result"
    }
   ],
   "source": [
    "plot_vals_mean[8]"
   ]
  },
  {
   "cell_type": "code",
   "execution_count": 59,
   "metadata": {},
   "outputs": [],
   "source": [
    "#Y.shape"
   ]
  },
  {
   "cell_type": "code",
   "execution_count": 61,
   "metadata": {},
   "outputs": [
    {
     "name": "stdout",
     "output_type": "stream",
     "text": [
      "-0.47208184\n",
      "(100, 1)\n",
      "(100,)\n"
     ]
    }
   ],
   "source": [
    "idx=7\n",
    "m1 = np.array(m1_vals[idx]).flatten()\n",
    "m2 = np.array(m2_vals[idx]).flatten()\n",
    "controls = np.array(control1[idx]).flatten()\n",
    "Y = np.array(plot_vals[idx]).flatten() - controls - (m1-controls) - (m2-controls)\n",
    "X = np.array([(m1-controls)*(m2-controls)]).transpose()\n",
    "#X = np.array([(m1-controls)*(m2-controls)]).transpose()\n",
    "print(np.mean(Y))\n",
    "#X = sm.add_constant(X)\n",
    "print(X.shape)\n",
    "print(Y.shape)"
   ]
  },
  {
   "cell_type": "code",
   "execution_count": 62,
   "metadata": {},
   "outputs": [
    {
     "name": "stdout",
     "output_type": "stream",
     "text": [
      "-0.12509489\n"
     ]
    }
   ],
   "source": [
    "print(np.mean(m1-controls))"
   ]
  },
  {
   "cell_type": "code",
   "execution_count": 63,
   "metadata": {},
   "outputs": [
    {
     "name": "stdout",
     "output_type": "stream",
     "text": [
      "0.64565676\n"
     ]
    }
   ],
   "source": [
    "print(np.mean(m2-controls))"
   ]
  },
  {
   "cell_type": "code",
   "execution_count": 64,
   "metadata": {},
   "outputs": [],
   "source": [
    "model = OLS(Y,X)"
   ]
  },
  {
   "cell_type": "code",
   "execution_count": 65,
   "metadata": {},
   "outputs": [],
   "source": [
    "results = model.fit()"
   ]
  },
  {
   "cell_type": "code",
   "execution_count": 66,
   "metadata": {},
   "outputs": [
    {
     "name": "stdout",
     "output_type": "stream",
     "text": [
      "[1.0633658]\n"
     ]
    }
   ],
   "source": [
    "print(results.params)"
   ]
  },
  {
   "cell_type": "code",
   "execution_count": 67,
   "metadata": {},
   "outputs": [
    {
     "name": "stdout",
     "output_type": "stream",
     "text": [
      "                             Test for Constraints                             \n",
      "==============================================================================\n",
      "                 coef    std err          t      P>|t|      [0.025      0.975]\n",
      "------------------------------------------------------------------------------\n",
      "c0             1.0634      0.239      4.448      0.000       0.589       1.538\n",
      "==============================================================================\n"
     ]
    }
   ],
   "source": [
    "print(results.t_test([1]))"
   ]
  },
  {
   "cell_type": "code",
   "execution_count": 68,
   "metadata": {},
   "outputs": [],
   "source": [
    "#print(results.t_test([0, 1, 0, 0]))"
   ]
  },
  {
   "cell_type": "code",
   "execution_count": 69,
   "metadata": {},
   "outputs": [],
   "source": [
    "#print(results.t_test([0, 0, 1, 0]))"
   ]
  },
  {
   "cell_type": "code",
   "execution_count": 70,
   "metadata": {},
   "outputs": [],
   "source": [
    "#print(results.t_test([0, 0, 0, 1]))"
   ]
  },
  {
   "cell_type": "code",
   "execution_count": 71,
   "metadata": {},
   "outputs": [
    {
     "data": {
      "text/plain": [
       "Text(0, 0.5, 'Predicted')"
      ]
     },
     "execution_count": 71,
     "metadata": {},
     "output_type": "execute_result"
    },
    {
     "data": {
      "image/png": "[encoded data removed]",
      "text/plain": [
       "<Figure size 432x288 with 1 Axes>"
      ]
     },
     "metadata": {
      "needs_background": "light"
     },
     "output_type": "display_data"
    }
   ],
   "source": [
    "plt.scatter(Y,results.predict())\n",
    "plt.xlabel(\"Observed\")\n",
    "plt.ylabel(\"Predicted\")"
   ]
  },
  {
   "cell_type": "code",
   "execution_count": 98,
   "metadata": {},
   "outputs": [
    {
     "data": {
      "text/plain": [
       "(0.1531330540033729, 0.12824371097495318)"
      ]
     },
     "execution_count": 98,
     "metadata": {},
     "output_type": "execute_result"
    }
   ],
   "source": [
    "pearsonr(Y,results.predict())"
   ]
  },
  {
   "cell_type": "code",
   "execution_count": 99,
   "metadata": {},
   "outputs": [
    {
     "data": {
      "text/plain": [
       "(0.04321867419458533, 0.6694138012056383)"
      ]
     },
     "execution_count": 99,
     "metadata": {},
     "output_type": "execute_result"
    }
   ],
   "source": [
    "pearsonr(Y,m1)"
   ]
  },
  {
   "cell_type": "code",
   "execution_count": 100,
   "metadata": {},
   "outputs": [
    {
     "data": {
      "text/plain": [
       "(-0.38989350251769544, 6.076783492366976e-05)"
      ]
     },
     "execution_count": 100,
     "metadata": {},
     "output_type": "execute_result"
    }
   ],
   "source": [
    "pearsonr(Y,m2)"
   ]
  },
  {
   "cell_type": "code",
   "execution_count": 101,
   "metadata": {},
   "outputs": [
    {
     "data": {
      "text/plain": [
       "<matplotlib.collections.PathCollection at 0x7f7b054a33d0>"
      ]
     },
     "execution_count": 101,
     "metadata": {},
     "output_type": "execute_result"
    },
    {
     "data": {
      "image/png": "[encoded data removed]",
      "text/plain": [
       "<Figure size 432x288 with 1 Axes>"
      ]
     },
     "metadata": {
      "needs_background": "light"
     },
     "output_type": "display_data"
    }
   ],
   "source": [
    "plt.scatter(m1,m2)\n"
   ]
  },
  {
   "cell_type": "code",
   "execution_count": 60,
   "metadata": {},
   "outputs": [],
   "source": [
    "#m1_vals[7]"
   ]
  },
  {
   "cell_type": "code",
   "execution_count": 61,
   "metadata": {},
   "outputs": [],
   "source": [
    "#m2_vals[7]"
   ]
  },
  {
   "cell_type": "code",
   "execution_count": 62,
   "metadata": {},
   "outputs": [
    {
     "data": {
      "text/plain": [
       "array([ 1.97868347e-02, -1.75884485e-01, -5.53305149e-02,  1.18740177e+00,\n",
       "       -6.30524158e-02, -7.96394348e-02, -1.22041702e-01,  2.33346462e-01,\n",
       "       -1.03805065e-01, -1.65374994e-01, -2.40808964e-01, -3.59652042e-02,\n",
       "        9.64280963e-01,  2.17632294e-01, -2.37772465e-02, -1.39989853e-01,\n",
       "       -1.70779467e-01, -2.15190172e-01, -8.91835690e-02, -3.53680134e-01,\n",
       "        1.88754320e-01, -2.23085880e-02,  3.23162317e-01,  4.41845894e-01,\n",
       "       -1.41127586e-01, -1.88653708e-01,  1.12581253e-03,  6.72791004e-02,\n",
       "       -1.09517097e-01, -3.99267673e-01,  7.49006271e-02, -2.55446672e-01,\n",
       "       -2.17318535e-02, -1.42968893e-01,  1.29480362e-02,  8.06576729e-01,\n",
       "       -1.19005919e-01,  2.35333920e-01,  1.27887726e-02, -1.13421917e-01,\n",
       "       -1.20763063e-01,  1.04631662e-01,  1.45761967e-02, -3.14059258e-02,\n",
       "       -5.03969193e-02, -1.83135509e-01, -1.63146019e-01, -5.61347008e-02,\n",
       "       -3.17449927e-01, -2.26222277e-01,  2.61114120e-01, -1.76363707e-01,\n",
       "       -8.37414265e-02, -9.49120522e-03,  2.99406052e-01,  1.56045437e-01,\n",
       "        3.55243683e-02, -9.88655090e-02,  4.26884890e-01,  4.40230608e-01,\n",
       "       -1.38415337e-01, -7.29472637e-02,  2.05636024e-01, -1.49854183e-01,\n",
       "        6.12865448e-01,  6.87188864e-01, -5.84640503e-02, -7.38806725e-02,\n",
       "       -1.23776197e-01,  1.12336874e+00, -1.12169981e-01, -1.86451912e-01,\n",
       "        1.52659416e-01, -6.17189407e-02, -6.98719025e-02,  2.63289213e-01,\n",
       "        8.28700066e-01, -1.14179134e-01, -2.78400183e-02, -6.95180893e-03,\n",
       "        8.77149105e-02,  2.55354881e-01, -6.10942841e-02, -8.23211670e-02,\n",
       "       -1.57607555e-01, -1.09219551e-01, -1.18048191e-01,  2.55919933e-01,\n",
       "        3.45462084e-01, -7.35871792e-02, -2.31010914e-02,  8.79144669e-03,\n",
       "       -7.74726868e-02,  2.58953094e-01, -4.34511185e-01,  9.63716507e-02,\n",
       "        1.62323236e-01,  3.46545458e-01, -4.01446819e-02,  6.99760914e-02],\n",
       "      dtype=float32)"
      ]
     },
     "execution_count": 62,
     "metadata": {},
     "output_type": "execute_result"
    }
   ],
   "source": [
    "Y"
   ]
  },
  {
   "cell_type": "code",
   "execution_count": 63,
   "metadata": {},
   "outputs": [],
   "source": [
    "from scipy.stats import wilcoxon\n"
   ]
  },
  {
   "cell_type": "code",
   "execution_count": 64,
   "metadata": {},
   "outputs": [
    {
     "data": {
      "text/plain": [
       "WilcoxonResult(statistic=224.0, pvalue=2.5413138381742492e-15)"
      ]
     },
     "execution_count": 64,
     "metadata": {},
     "output_type": "execute_result"
    }
   ],
   "source": [
    "wilcoxon(m1-2*controls+m2-Y)"
   ]
  },
  {
   "cell_type": "code",
   "execution_count": null,
   "metadata": {},
   "outputs": [],
   "source": []
  }
 ],
 "metadata": {
  "kernelspec": {
   "display_name": "Python 3",
   "language": "python",
   "name": "python3"
  },
  "language_info": {
   "codemirror_mode": {
    "name": "ipython",
    "version": 3
   },
   "file_extension": ".py",
   "mimetype": "text/x-python",
   "name": "python",
   "nbconvert_exporter": "python",
   "pygments_lexer": "ipython3",
   "version": "3.7.6"
  }
 },
 "nbformat": 4,
 "nbformat_minor": 4
}
