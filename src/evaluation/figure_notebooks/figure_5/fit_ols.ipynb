{
 "cells": [
  {
   "cell_type": "code",
   "execution_count": 1,
   "metadata": {},
   "outputs": [],
   "source": [
    "import pickle\n",
    "with open('addons/imr90/coop_matrix_all_new_spaced_sub_2.pkl', 'rb') as handle:\n",
    "    values_fresh = pickle.load(handle)"
   ]
  },
  {
   "cell_type": "code",
   "execution_count": 2,
   "metadata": {},
   "outputs": [
    {
     "data": {
      "text/plain": [
       "dict_keys(['ZEB-AP1', 'TEAD-AP1', 'control'])"
      ]
     },
     "execution_count": 2,
     "metadata": {},
     "output_type": "execute_result"
    }
   ],
   "source": [
    "values_fresh.keys()"
   ]
  },
  {
   "cell_type": "code",
   "execution_count": 3,
   "metadata": {},
   "outputs": [],
   "source": [
    "#vals, label = values_fresh['metacluster_0.pattern_0-metacluster_0.pattern_0']\n",
    "vals, label = values_fresh['TEAD-AP1']"
   ]
  },
  {
   "cell_type": "code",
   "execution_count": 4,
   "metadata": {
    "scrolled": true
   },
   "outputs": [
    {
     "name": "stdout",
     "output_type": "stream",
     "text": [
      "TEAD-AP1\n"
     ]
    }
   ],
   "source": [
    "print(label)"
   ]
  },
  {
   "cell_type": "code",
   "execution_count": 5,
   "metadata": {},
   "outputs": [],
   "source": [
    "[motif1_only, motif2_only, data_in_spacings, motif1_only_rev, motif2_only_rev, data_in_spacings_rev, distance] = vals"
   ]
  },
  {
   "cell_type": "code",
   "execution_count": 6,
   "metadata": {},
   "outputs": [],
   "source": [
    "control = values_fresh['control']"
   ]
  },
  {
   "cell_type": "code",
   "execution_count": 7,
   "metadata": {},
   "outputs": [],
   "source": [
    "from statsmodels.regression.linear_model import OLS\n",
    "import numpy as np"
   ]
  },
  {
   "cell_type": "code",
   "execution_count": 8,
   "metadata": {},
   "outputs": [],
   "source": [
    "all_data = data_in_spacings+data_in_spacings_rev\n",
    "all_data_m1 = motif1_only + motif1_only_rev\n",
    "all_data_m2 = motif2_only + motif2_only_rev\n",
    "\n",
    "plot_dist= []\n",
    "plot_vals = []\n",
    "m1_vals = []\n",
    "m2_vals = []\n",
    "for idx in range(len(distance)):\n",
    "    plot_dist.append(distance[idx])\n",
    "    plot_vals.append(np.log(np.mean(np.squeeze(all_data[idx][1]), axis=-1)))\n",
    "    m1_vals.append(np.log(np.mean(np.squeeze(all_data_m1[idx][1]), axis=-1)))\n",
    "    m2_vals.append(np.log(np.mean(np.squeeze(all_data_m2[idx][1]), axis=-1)))\n",
    "    \n",
    "    "
   ]
  },
  {
   "cell_type": "code",
   "execution_count": 9,
   "metadata": {},
   "outputs": [],
   "source": [
    "import matplotlib.pyplot as plt"
   ]
  },
  {
   "cell_type": "code",
   "execution_count": 10,
   "metadata": {},
   "outputs": [
    {
     "data": {
      "text/plain": [
       "<matplotlib.collections.PathCollection at 0x7fd873edbd50>"
      ]
     },
     "execution_count": 10,
     "metadata": {},
     "output_type": "execute_result"
    },
    {
     "data": {
      "image/png": "[encoded data removed]",
      "text/plain": [
       "<Figure size 432x288 with 1 Axes>"
      ]
     },
     "metadata": {
      "needs_background": "light"
     },
     "output_type": "display_data"
    }
   ],
   "source": [
    "plt.scatter(plot_dist, np.exp(plot_vals)-np.mean(control[1]))\n",
    "#plt.axhline(y = np.mean(control[1]), color = 'r', linestyle = 'dashed')    \n",
    "plt.scatter(plot_dist, np.exp(m1_vals)-np.mean(control[1]))\n",
    "plt.scatter(, np.exp(m2_vals)-np.mean(control[1]))\n"
   ]
  },
  {
   "cell_type": "code",
   "execution_count": 14,
   "metadata": {},
   "outputs": [
    {
     "data": {
      "text/plain": [
       "33"
      ]
     },
     "execution_count": 14,
     "metadata": {},
     "output_type": "execute_result"
    }
   ],
   "source": [
    "np.argmax(np.exp(plot_vals)-np.mean(control[1]))"
   ]
  },
  {
   "cell_type": "code",
   "execution_count": 17,
   "metadata": {},
   "outputs": [
    {
     "data": {
      "text/plain": [
       "-6"
      ]
     },
     "execution_count": 17,
     "metadata": {},
     "output_type": "execute_result"
    }
   ],
   "source": [
    "plot_dist[33]"
   ]
  },
  {
   "cell_type": "code",
   "execution_count": 18,
   "metadata": {},
   "outputs": [
    {
     "data": {
      "text/plain": [
       "(100, 1)"
      ]
     },
     "execution_count": 18,
     "metadata": {},
     "output_type": "execute_result"
    }
   ],
   "source": [
    "control[1].shape"
   ]
  },
  {
   "cell_type": "code",
   "execution_count": 19,
   "metadata": {},
   "outputs": [],
   "source": [
    "controlm = np.mean(control[1])"
   ]
  },
  {
   "cell_type": "markdown",
   "metadata": {},
   "source": [
    "# y =  alpha * m1 + beta* m2 + gamme*(a*b)+yeta*d  (y,m1,m2 are average response)"
   ]
  },
  {
   "cell_type": "code",
   "execution_count": 20,
   "metadata": {},
   "outputs": [
    {
     "name": "stdout",
     "output_type": "stream",
     "text": [
      "(56, 4)\n"
     ]
    }
   ],
   "source": [
    "Y = plot_vals\n",
    "d = plot_dist\n",
    "X = np.array([m1_vals-np.log(controlm), m2_vals-np.log(controlm), (m1_vals-np.log(controlm))*(m2_vals-np.log(controlm)), d]).transpose()\n",
    "print(X.shape)"
   ]
  },
  {
   "cell_type": "code",
   "execution_count": 21,
   "metadata": {},
   "outputs": [],
   "source": [
    "model = OLS(Y,X)"
   ]
  },
  {
   "cell_type": "code",
   "execution_count": 22,
   "metadata": {},
   "outputs": [],
   "source": [
    "results = model.fit()"
   ]
  },
  {
   "cell_type": "code",
   "execution_count": 23,
   "metadata": {},
   "outputs": [
    {
     "name": "stdout",
     "output_type": "stream",
     "text": [
      "                             Test for Constraints                             \n",
      "==============================================================================\n",
      "                 coef    std err          t      P>|t|      [0.025      0.975]\n",
      "------------------------------------------------------------------------------\n",
      "c0            21.5761      0.749     28.797      0.000      20.073      23.080\n",
      "==============================================================================\n"
     ]
    }
   ],
   "source": [
    "print(results.t_test([1, 0, 0, 0]))"
   ]
  },
  {
   "cell_type": "code",
   "execution_count": 24,
   "metadata": {},
   "outputs": [
    {
     "name": "stdout",
     "output_type": "stream",
     "text": [
      "                             Test for Constraints                             \n",
      "==============================================================================\n",
      "                 coef    std err          t      P>|t|      [0.025      0.975]\n",
      "------------------------------------------------------------------------------\n",
      "c0          8.705e+05   4.36e+06      0.200      0.843   -7.88e+06    9.63e+06\n",
      "==============================================================================\n"
     ]
    }
   ],
   "source": [
    "print(results.t_test([0, 1, 0, 0]))"
   ]
  },
  {
   "cell_type": "code",
   "execution_count": 25,
   "metadata": {},
   "outputs": [
    {
     "name": "stdout",
     "output_type": "stream",
     "text": [
      "                             Test for Constraints                             \n",
      "==============================================================================\n",
      "                 coef    std err          t      P>|t|      [0.025      0.975]\n",
      "------------------------------------------------------------------------------\n",
      "c0         -4.478e+06   2.24e+07     -0.200      0.843   -4.95e+07    4.06e+07\n",
      "==============================================================================\n"
     ]
    }
   ],
   "source": [
    "print(results.t_test([0, 0, 1, 0]))"
   ]
  },
  {
   "cell_type": "code",
   "execution_count": 26,
   "metadata": {},
   "outputs": [
    {
     "name": "stdout",
     "output_type": "stream",
     "text": [
      "                             Test for Constraints                             \n",
      "==============================================================================\n",
      "                 coef    std err          t      P>|t|      [0.025      0.975]\n",
      "------------------------------------------------------------------------------\n",
      "c0          2.637e-05      0.000      0.071      0.944      -0.001       0.001\n",
      "==============================================================================\n"
     ]
    }
   ],
   "source": [
    "print(results.t_test([0, 0, 0, 1]))"
   ]
  },
  {
   "cell_type": "code",
   "execution_count": null,
   "metadata": {},
   "outputs": [],
   "source": []
  },
  {
   "cell_type": "code",
   "execution_count": 27,
   "metadata": {},
   "outputs": [
    {
     "data": {
      "text/plain": [
       "<statsmodels.regression.linear_model.OLS at 0x7fd871ade550>"
      ]
     },
     "execution_count": 27,
     "metadata": {},
     "output_type": "execute_result"
    }
   ],
   "source": [
    "model"
   ]
  },
  {
   "cell_type": "code",
   "execution_count": 28,
   "metadata": {},
   "outputs": [
    {
     "data": {
      "text/plain": [
       "<matplotlib.collections.PathCollection at 0x7fd873bbdbd0>"
      ]
     },
     "execution_count": 28,
     "metadata": {},
     "output_type": "execute_result"
    },
    {
     "data": {
      "image/png": "[encoded data removed]",
      "text/plain": [
       "<Figure size 432x288 with 1 Axes>"
      ]
     },
     "metadata": {
      "needs_background": "light"
     },
     "output_type": "display_data"
    }
   ],
   "source": [
    "plt.scatter(Y,results.predict())"
   ]
  },
  {
   "cell_type": "markdown",
   "metadata": {},
   "source": [
    "# # y =  alpha * m1 + beta* m2 + gamme*(a*b)+yeta*d  (y,m1,m2 are not average response)\n"
   ]
  },
  {
   "cell_type": "code",
   "execution_count": 29,
   "metadata": {},
   "outputs": [],
   "source": [
    "all_data = data_in_spacings+data_in_spacings_rev\n",
    "all_data_m1 = motif1_only + motif1_only_rev\n",
    "all_data_m2 = motif2_only + motif2_only_rev\n",
    "\n",
    "plot_dist= []\n",
    "plot_vals = []\n",
    "m1_vals = []\n",
    "m2_vals = []\n",
    "control1 = []\n",
    "for idx in range(len(distance)):\n",
    "    plot_vals.append(np.log(np.squeeze(all_data[idx][1])))\n",
    "    m1_vals.append(np.log(np.squeeze(all_data_m1[idx][1])))\n",
    "    m2_vals.append(np.log(np.squeeze(all_data_m2[idx][1])))\n",
    "    plot_dist.append([distance[idx]]*all_data[idx][1].shape[0])\n",
    "    control1.append(np.log(np.squeeze(control[1])))\n",
    "    "
   ]
  },
  {
   "cell_type": "code",
   "execution_count": 30,
   "metadata": {},
   "outputs": [
    {
     "name": "stdout",
     "output_type": "stream",
     "text": [
      "(5600, 4)\n"
     ]
    }
   ],
   "source": [
    "Y = np.array(plot_vals).flatten()\n",
    "d = np.array(plot_dist).flatten()\n",
    "m1 = np.array(m1_vals).flatten()\n",
    "m2 = np.array(m2_vals).flatten()\n",
    "controls = np.array(control1).flatten()\n",
    "X = np.array([m1-controls, m2-controls, (m1-controls)*(m2-controls), d]).transpose()\n",
    "print(X.shape)"
   ]
  },
  {
   "cell_type": "code",
   "execution_count": 31,
   "metadata": {},
   "outputs": [],
   "source": [
    "model = OLS(Y,X)"
   ]
  },
  {
   "cell_type": "code",
   "execution_count": 32,
   "metadata": {},
   "outputs": [],
   "source": [
    "results = model.fit()"
   ]
  },
  {
   "cell_type": "code",
   "execution_count": 33,
   "metadata": {},
   "outputs": [
    {
     "name": "stdout",
     "output_type": "stream",
     "text": [
      "                             Test for Constraints                             \n",
      "==============================================================================\n",
      "                 coef    std err          t      P>|t|      [0.025      0.975]\n",
      "------------------------------------------------------------------------------\n",
      "c0             8.7777      0.151     58.215      0.000       8.482       9.073\n",
      "==============================================================================\n"
     ]
    }
   ],
   "source": [
    "print(results.t_test([1, 0, 0, 0]))"
   ]
  },
  {
   "cell_type": "code",
   "execution_count": 34,
   "metadata": {},
   "outputs": [
    {
     "name": "stdout",
     "output_type": "stream",
     "text": [
      "                             Test for Constraints                             \n",
      "==============================================================================\n",
      "                 coef    std err          t      P>|t|      [0.025      0.975]\n",
      "------------------------------------------------------------------------------\n",
      "c0             6.1635      0.163     37.707      0.000       5.843       6.484\n",
      "==============================================================================\n"
     ]
    }
   ],
   "source": [
    "print(results.t_test([0, 1, 0, 0]))"
   ]
  },
  {
   "cell_type": "code",
   "execution_count": 35,
   "metadata": {},
   "outputs": [
    {
     "name": "stdout",
     "output_type": "stream",
     "text": [
      "                             Test for Constraints                             \n",
      "==============================================================================\n",
      "                 coef    std err          t      P>|t|      [0.025      0.975]\n",
      "------------------------------------------------------------------------------\n",
      "c0           -11.8346      0.517    -22.879      0.000     -12.849     -10.821\n",
      "==============================================================================\n"
     ]
    }
   ],
   "source": [
    "print(results.t_test([0, 0, 1, 0]))"
   ]
  },
  {
   "cell_type": "code",
   "execution_count": 36,
   "metadata": {},
   "outputs": [
    {
     "name": "stdout",
     "output_type": "stream",
     "text": [
      "                             Test for Constraints                             \n",
      "==============================================================================\n",
      "                 coef    std err          t      P>|t|      [0.025      0.975]\n",
      "------------------------------------------------------------------------------\n",
      "c0            -0.0005      0.001     -0.917      0.359      -0.002       0.001\n",
      "==============================================================================\n"
     ]
    }
   ],
   "source": [
    "print(results.t_test([0, 0, 0, 1]))"
   ]
  },
  {
   "cell_type": "code",
   "execution_count": 37,
   "metadata": {},
   "outputs": [
    {
     "data": {
      "text/plain": [
       "<matplotlib.collections.PathCollection at 0x7fd871a32b50>"
      ]
     },
     "execution_count": 37,
     "metadata": {},
     "output_type": "execute_result"
    },
    {
     "data": {
      "image/png": "[encoded data removed]",
      "text/plain": [
       "<Figure size 432x288 with 1 Axes>"
      ]
     },
     "metadata": {
      "needs_background": "light"
     },
     "output_type": "display_data"
    }
   ],
   "source": [
    "plt.scatter(Y,results.predict())"
   ]
  },
  {
   "cell_type": "code",
   "execution_count": 38,
   "metadata": {},
   "outputs": [],
   "source": [
    "from scipy.stats import pearsonr"
   ]
  },
  {
   "cell_type": "code",
   "execution_count": 39,
   "metadata": {},
   "outputs": [
    {
     "data": {
      "text/plain": [
       "(0.3416244493742371, 4.3723006848814736e-153)"
      ]
     },
     "execution_count": 39,
     "metadata": {},
     "output_type": "execute_result"
    }
   ],
   "source": [
    "pearsonr(Y,results.predict())"
   ]
  },
  {
   "cell_type": "markdown",
   "metadata": {},
   "source": [
    "# y =  alpha * m1 + beta* m2 + gamme*(a*b)  (for max distance)\n"
   ]
  },
  {
   "cell_type": "code",
   "execution_count": 40,
   "metadata": {},
   "outputs": [],
   "source": [
    "all_data = data_in_spacings+data_in_spacings_rev\n",
    "all_data_m1 = motif1_only + motif1_only_rev\n",
    "all_data_m2 = motif2_only + motif2_only_rev\n",
    "\n",
    "plot_dist= []\n",
    "plot_vals_mean = []\n",
    "m1_vals = []\n",
    "m2_vals = []\n",
    "control1 = []\n",
    "for idx in range(len(distance)):\n",
    "    plot_vals_mean.append(np.log(np.mean(np.squeeze(all_data[idx][1]), axis=-1)))\n",
    "    plot_vals.append(np.log(np.squeeze(all_data[idx][1])))\n",
    "    m1_vals.append(np.log(np.squeeze(all_data_m1[idx][1])))\n",
    "    m2_vals.append(np.log(np.squeeze(all_data_m2[idx][1])))\n",
    "    plot_dist.append([distance[idx]]*all_data[idx][1].shape[0])\n",
    "    control1.append(np.log(np.squeeze(control[1])))\n",
    "    "
   ]
  },
  {
   "cell_type": "code",
   "execution_count": 41,
   "metadata": {},
   "outputs": [
    {
     "data": {
      "text/plain": [
       "33"
      ]
     },
     "execution_count": 41,
     "metadata": {},
     "output_type": "execute_result"
    }
   ],
   "source": [
    "np.argmax(plot_vals_mean)"
   ]
  },
  {
   "cell_type": "code",
   "execution_count": 42,
   "metadata": {},
   "outputs": [
    {
     "data": {
      "text/plain": [
       "152.1156"
      ]
     },
     "execution_count": 42,
     "metadata": {},
     "output_type": "execute_result"
    }
   ],
   "source": [
    "np.mean(np.exp(plot_vals_mean[33])-np.exp(control1[33]))"
   ]
  },
  {
   "cell_type": "code",
   "execution_count": 43,
   "metadata": {},
   "outputs": [],
   "source": [
    "#plot_dist[33]"
   ]
  },
  {
   "cell_type": "code",
   "execution_count": 44,
   "metadata": {},
   "outputs": [
    {
     "name": "stdout",
     "output_type": "stream",
     "text": [
      "(100, 1)\n"
     ]
    }
   ],
   "source": [
    "# m1 = np.exp(np.array(m1_vals[33]).flatten())\n",
    "# m2 =  np.exp(np.array(m2_vals[33]).flatten())\n",
    "# controls =  np.exp(np.array(control1[33]).flatten())\n",
    "# Y =  np.exp(np.array(plot_vals[33]).flatten()) - controls\n",
    "# X = np.array([m1-controls, m2-controls, (m1-controls)*(m2-controls)]).transpose()\n",
    "# #X = np.array([(m1-controls)*(m2-controls)]).transpose()\n",
    "# import statsmodels.api as sm\n",
    "# X = sm.add_constant(X)\n",
    "# print(X.shape)\n",
    "\n",
    "m1 = np.array(m1_vals[33]).flatten()\n",
    "m2 = np.array(m2_vals[33]).flatten()\n",
    "controls = np.array(control1[33]).flatten()\n",
    "Y = np.array(plot_vals[33]).flatten() - controls - (m1-controls) - (m2-controls)\n",
    "X = np.array([(m1-controls)*(m2-controls)]).transpose()\n",
    "#X = np.array([(m1-controls)*(m2-controls)]).transpose()\n",
    "import statsmodels.api as sm\n",
    "#X = sm.add_constant(X)\n",
    "print(X.shape)"
   ]
  },
  {
   "cell_type": "code",
   "execution_count": null,
   "metadata": {},
   "outputs": [],
   "source": []
  },
  {
   "cell_type": "code",
   "execution_count": 45,
   "metadata": {},
   "outputs": [],
   "source": [
    "model = OLS(Y,X)"
   ]
  },
  {
   "cell_type": "code",
   "execution_count": 46,
   "metadata": {},
   "outputs": [],
   "source": [
    "results = model.fit()"
   ]
  },
  {
   "cell_type": "code",
   "execution_count": 47,
   "metadata": {},
   "outputs": [
    {
     "name": "stdout",
     "output_type": "stream",
     "text": [
      "[3.552647]\n"
     ]
    }
   ],
   "source": [
    "print(results.params)"
   ]
  },
  {
   "cell_type": "code",
   "execution_count": 48,
   "metadata": {},
   "outputs": [
    {
     "name": "stdout",
     "output_type": "stream",
     "text": [
      "                             Test for Constraints                             \n",
      "==============================================================================\n",
      "                 coef    std err          t      P>|t|      [0.025      0.975]\n",
      "------------------------------------------------------------------------------\n",
      "c0             3.5526      0.996      3.567      0.001       1.577       5.529\n",
      "==============================================================================\n"
     ]
    }
   ],
   "source": [
    "print(results.t_test([1]))"
   ]
  },
  {
   "cell_type": "code",
   "execution_count": 49,
   "metadata": {},
   "outputs": [],
   "source": [
    "#print(results.t_test([0, 1, 0, 0]))"
   ]
  },
  {
   "cell_type": "code",
   "execution_count": 50,
   "metadata": {},
   "outputs": [],
   "source": [
    "#print(results.t_test([0, 0, 1, 0]))"
   ]
  },
  {
   "cell_type": "code",
   "execution_count": 51,
   "metadata": {},
   "outputs": [],
   "source": [
    "#print(results.t_test([0, 0, 0, 1]))"
   ]
  },
  {
   "cell_type": "code",
   "execution_count": 53,
   "metadata": {},
   "outputs": [
    {
     "data": {
      "text/plain": [
       "Text(0, 0.5, 'Predicted')"
      ]
     },
     "execution_count": 53,
     "metadata": {},
     "output_type": "execute_result"
    },
    {
     "data": {
      "image/png": "[encoded data removed]",
      "text/plain": [
       "<Figure size 432x288 with 1 Axes>"
      ]
     },
     "metadata": {
      "needs_background": "light"
     },
     "output_type": "display_data"
    }
   ],
   "source": [
    "plt.scatter(Y,results.predict())\n",
    "plt.xlabel(\"Observed\")\n",
    "plt.ylabel(\"Predicted\")"
   ]
  },
  {
   "cell_type": "code",
   "execution_count": 78,
   "metadata": {},
   "outputs": [],
   "source": [
    "#from scipy.spatial import distance"
   ]
  },
  {
   "cell_type": "code",
   "execution_count": 79,
   "metadata": {},
   "outputs": [
    {
     "data": {
      "text/plain": [
       "(0.5734681994001165, 4.4865324176201594e-10)"
      ]
     },
     "execution_count": 79,
     "metadata": {},
     "output_type": "execute_result"
    }
   ],
   "source": [
    "pearsonr(Y,results.predict())"
   ]
  },
  {
   "cell_type": "code",
   "execution_count": 80,
   "metadata": {},
   "outputs": [
    {
     "data": {
      "text/plain": [
       "(-0.04172942029546904, 0.6801727401589416)"
      ]
     },
     "execution_count": 80,
     "metadata": {},
     "output_type": "execute_result"
    }
   ],
   "source": [
    "pearsonr(Y,m1)"
   ]
  },
  {
   "cell_type": "code",
   "execution_count": 61,
   "metadata": {},
   "outputs": [
    {
     "data": {
      "text/plain": [
       "(-0.051046836175067556, 0.6139946923444743)"
      ]
     },
     "execution_count": 61,
     "metadata": {},
     "output_type": "execute_result"
    }
   ],
   "source": [
    "pearsonr(Y,m2)"
   ]
  },
  {
   "cell_type": "code",
   "execution_count": 62,
   "metadata": {},
   "outputs": [],
   "source": [
    "from scipy.stats import wilcoxon\n",
    "\n"
   ]
  },
  {
   "cell_type": "code",
   "execution_count": 63,
   "metadata": {},
   "outputs": [
    {
     "data": {
      "text/plain": [
       "WilcoxonResult(statistic=11.0, pvalue=5.430296382634715e-18)"
      ]
     },
     "execution_count": 63,
     "metadata": {},
     "output_type": "execute_result"
    }
   ],
   "source": [
    "wilcoxon(m1-2*controls+m2-Y)"
   ]
  },
  {
   "cell_type": "code",
   "execution_count": 64,
   "metadata": {},
   "outputs": [
    {
     "data": {
      "text/plain": [
       "WilcoxonResult(statistic=11.0, pvalue=2.7151481913173574e-18)"
      ]
     },
     "execution_count": 64,
     "metadata": {},
     "output_type": "execute_result"
    }
   ],
   "source": [
    "wilcoxon(m1-2*controls+m2-Y,alternative='less')"
   ]
  },
  {
   "cell_type": "code",
   "execution_count": null,
   "metadata": {},
   "outputs": [],
   "source": []
  }
 ],
 "metadata": {
  "kernelspec": {
   "display_name": "Python 3",
   "language": "python",
   "name": "python3"
  },
  "language_info": {
   "codemirror_mode": {
    "name": "ipython",
    "version": 3
   },
   "file_extension": ".py",
   "mimetype": "text/x-python",
   "name": "python",
   "nbconvert_exporter": "python",
   "pygments_lexer": "ipython3",
   "version": "3.7.6"
  }
 },
 "nbformat": 4,
 "nbformat_minor": 4
}
